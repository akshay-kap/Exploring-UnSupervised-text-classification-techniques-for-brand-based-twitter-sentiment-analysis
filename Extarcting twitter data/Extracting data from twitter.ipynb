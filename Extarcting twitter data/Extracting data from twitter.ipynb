{
 "cells": [
  {
   "cell_type": "markdown",
   "metadata": {},
   "source": [
    "### importing libraries"
   ]
  },
  {
   "cell_type": "code",
   "execution_count": 30,
   "metadata": {},
   "outputs": [],
   "source": [
    "import re \n",
    "from textblob import TextBlob \n",
    "import tweepy"
   ]
  },
  {
   "cell_type": "markdown",
   "metadata": {},
   "source": [
    "### Getting Authentication and making connection"
   ]
  },
  {
   "cell_type": "code",
   "execution_count": 31,
   "metadata": {},
   "outputs": [
    {
     "name": "stdout",
     "output_type": "stream",
     "text": [
      "Authentication OK\n"
     ]
    }
   ],
   "source": [
    "# Authenticate to Twitter\n",
    "auth = tweepy.OAuthHandler(\"XQlBQ5hfh0JhGMaC3MMKdaY3w\", \n",
    "    \"TMP42E8e4xdF2Xe5V7Xky93xIhU547gxYTVu0iMNOJ7gtgdRjk\")\n",
    "auth.set_access_token(\"2291593814-MnasoCaroNqh62ub109LbFCuQNIaVruqz8pRMGF\", \n",
    "    \"iFa0VsV5p9BmmYsPegZJSBCweZkVePl7Jit5iTjS0jfT8\")\n",
    "\n",
    "api = tweepy.API(auth)\n",
    "\n",
    "try:\n",
    "    api.verify_credentials()\n",
    "    print(\"Authentication OK\")\n",
    "except:\n",
    "    print(\"Error during authentication\")"
   ]
  },
  {
   "cell_type": "markdown",
   "metadata": {},
   "source": [
    "### Extarcting 100 tweets each"
   ]
  },
  {
   "cell_type": "code",
   "execution_count": 32,
   "metadata": {},
   "outputs": [],
   "source": [
    "def get_tweets(query, count = 100): \n",
    "        ''' \n",
    "        Main function to fetch tweets and parse them. \n",
    "        '''\n",
    "        # empty list to store parsed tweets \n",
    "        tweets = [] \n",
    "  \n",
    "        try: \n",
    "            # call twitter api to fetch tweets \n",
    "            fetched_tweets = api.search(q = query+\" -filter:retweets\", count = count, lang = 'en') \n",
    "  \n",
    "            # parsing tweets one by one \n",
    "            for tweet in fetched_tweets: \n",
    "                # empty dictionary to store required params of a tweet \n",
    "                parsed_tweet = {} \n",
    "  \n",
    "                # saving text of tweet \n",
    "                parsed_tweet['text'] = (tweet.text) \n",
    "            \n",
    "                # appending parsed tweet to tweets list \n",
    "                if tweet.retweet_count > 0: \n",
    "                    # if tweet has retweets, ensure that it is appended only once \n",
    "                    if parsed_tweet not in tweets: \n",
    "                        tweets.append(parsed_tweet) \n",
    "                else: \n",
    "                    tweets.append(parsed_tweet) \n",
    "  \n",
    "            # return parsed tweets \n",
    "            return tweets \n",
    "  \n",
    "        except tweepy.TweepError as e: \n",
    "            # print error (if any) \n",
    "            print(\"Error : \" + str(e))"
   ]
  },
  {
   "cell_type": "code",
   "execution_count": 76,
   "metadata": {},
   "outputs": [],
   "source": [
    "amazon_data = get_tweets(\"amazon\", count = 100)"
   ]
  },
  {
   "cell_type": "code",
   "execution_count": 77,
   "metadata": {},
   "outputs": [],
   "source": [
    "ebay_data = get_tweets(\"ebay\", count = 100)"
   ]
  },
  {
   "cell_type": "code",
   "execution_count": 78,
   "metadata": {},
   "outputs": [],
   "source": [
    "shopify_data = get_tweets(\"shopify\", count = 100)"
   ]
  },
  {
   "cell_type": "code",
   "execution_count": 79,
   "metadata": {},
   "outputs": [],
   "source": [
    "alibaba_data = get_tweets(\"alibaba\", count = 100)"
   ]
  },
  {
   "cell_type": "markdown",
   "metadata": {},
   "source": [
    "### Saving into dataframe"
   ]
  },
  {
   "cell_type": "code",
   "execution_count": 80,
   "metadata": {},
   "outputs": [],
   "source": [
    "import pandas as pd\n",
    "amazon_df = pd.DataFrame.from_dict(amazon_data)\n",
    "ebay_df = pd.DataFrame.from_dict(ebay_data)\n",
    "shopify_df = pd.DataFrame.from_dict(shopify_data)\n",
    "alibaba_df = pd.DataFrame.from_dict(alibaba_data)"
   ]
  },
  {
   "cell_type": "code",
   "execution_count": 81,
   "metadata": {},
   "outputs": [
    {
     "data": {
      "text/html": [
       "<div>\n",
       "<style scoped>\n",
       "    .dataframe tbody tr th:only-of-type {\n",
       "        vertical-align: middle;\n",
       "    }\n",
       "\n",
       "    .dataframe tbody tr th {\n",
       "        vertical-align: top;\n",
       "    }\n",
       "\n",
       "    .dataframe thead th {\n",
       "        text-align: right;\n",
       "    }\n",
       "</style>\n",
       "<table border=\"1\" class=\"dataframe\">\n",
       "  <thead>\n",
       "    <tr style=\"text-align: right;\">\n",
       "      <th></th>\n",
       "      <th>text</th>\n",
       "    </tr>\n",
       "  </thead>\n",
       "  <tbody>\n",
       "    <tr>\n",
       "      <th>0</th>\n",
       "      <td>Alibaba\\nTencent\\nByteDance\\nHuawei\\n\\nShut. T...</td>\n",
       "    </tr>\n",
       "    <tr>\n",
       "      <th>1</th>\n",
       "      <td>New research shows that Amazon is still ‘leaps...</td>\n",
       "    </tr>\n",
       "    <tr>\n",
       "      <th>2</th>\n",
       "      <td>Alikou (Alibaba &amp;amp; Kougyoku) Cherry blossom...</td>\n",
       "    </tr>\n",
       "    <tr>\n",
       "      <th>3</th>\n",
       "      <td>MF0017G  Watches Men Luxury Brand MINI FOCUS Q...</td>\n",
       "    </tr>\n",
       "    <tr>\n",
       "      <th>4</th>\n",
       "      <td>@AlessioUrban Bullish for Amazon and alibaba</td>\n",
       "    </tr>\n",
       "    <tr>\n",
       "      <th>...</th>\n",
       "      <td>...</td>\n",
       "    </tr>\n",
       "    <tr>\n",
       "      <th>86</th>\n",
       "      <td>@GCPcloud @alibaba_cloud @AWS @Azure I paid. P...</td>\n",
       "    </tr>\n",
       "    <tr>\n",
       "      <th>87</th>\n",
       "      <td>@ImIncorrigible Not legal yet. Will be. I almo...</td>\n",
       "    </tr>\n",
       "    <tr>\n",
       "      <th>88</th>\n",
       "      <td>China website Alibaba sells “children adrenoch...</td>\n",
       "    </tr>\n",
       "    <tr>\n",
       "      <th>89</th>\n",
       "      <td>Why to #my #Cloud account at diffrent places a...</td>\n",
       "    </tr>\n",
       "    <tr>\n",
       "      <th>90</th>\n",
       "      <td>China website Alibaba sells “children adrenoch...</td>\n",
       "    </tr>\n",
       "  </tbody>\n",
       "</table>\n",
       "<p>91 rows × 1 columns</p>\n",
       "</div>"
      ],
      "text/plain": [
       "                                                 text\n",
       "0   Alibaba\\nTencent\\nByteDance\\nHuawei\\n\\nShut. T...\n",
       "1   New research shows that Amazon is still ‘leaps...\n",
       "2   Alikou (Alibaba &amp; Kougyoku) Cherry blossom...\n",
       "3   MF0017G  Watches Men Luxury Brand MINI FOCUS Q...\n",
       "4        @AlessioUrban Bullish for Amazon and alibaba\n",
       "..                                                ...\n",
       "86  @GCPcloud @alibaba_cloud @AWS @Azure I paid. P...\n",
       "87  @ImIncorrigible Not legal yet. Will be. I almo...\n",
       "88  China website Alibaba sells “children adrenoch...\n",
       "89  Why to #my #Cloud account at diffrent places a...\n",
       "90  China website Alibaba sells “children adrenoch...\n",
       "\n",
       "[91 rows x 1 columns]"
      ]
     },
     "execution_count": 81,
     "metadata": {},
     "output_type": "execute_result"
    }
   ],
   "source": [
    "alibaba_df"
   ]
  },
  {
   "cell_type": "code",
   "execution_count": 82,
   "metadata": {},
   "outputs": [],
   "source": [
    "amazon_list = [\"amazon\" for i in range(len(amazon_df))]\n",
    "ebay_list = [\"ebay\" for i in range(len(ebay_df))]\n",
    "shopify_list = [\"shopify\" for i in range(len(shopify_df))]\n",
    "alibabba_list = [\"alibaba\" for i in range(len(alibaba_df))]"
   ]
  },
  {
   "cell_type": "code",
   "execution_count": 83,
   "metadata": {},
   "outputs": [],
   "source": [
    "amazon_df[\"company\"] = amazon_list\n",
    "ebay_df[\"company\"] = ebay_list\n",
    "shopify_df[\"company\"] = shopify_list\n",
    "alibaba_df[\"company\"] = alibabba_list\n"
   ]
  },
  {
   "cell_type": "code",
   "execution_count": 84,
   "metadata": {},
   "outputs": [],
   "source": [
    "frames = [amazon_df, ebay_df, shopify_df, alibaba_df]"
   ]
  },
  {
   "cell_type": "code",
   "execution_count": 85,
   "metadata": {},
   "outputs": [],
   "source": [
    "result = pd.concat(frames)"
   ]
  },
  {
   "cell_type": "code",
   "execution_count": 86,
   "metadata": {},
   "outputs": [
    {
     "data": {
      "text/html": [
       "<div>\n",
       "<style scoped>\n",
       "    .dataframe tbody tr th:only-of-type {\n",
       "        vertical-align: middle;\n",
       "    }\n",
       "\n",
       "    .dataframe tbody tr th {\n",
       "        vertical-align: top;\n",
       "    }\n",
       "\n",
       "    .dataframe thead th {\n",
       "        text-align: right;\n",
       "    }\n",
       "</style>\n",
       "<table border=\"1\" class=\"dataframe\">\n",
       "  <thead>\n",
       "    <tr style=\"text-align: right;\">\n",
       "      <th></th>\n",
       "      <th>text</th>\n",
       "      <th>company</th>\n",
       "    </tr>\n",
       "  </thead>\n",
       "  <tbody>\n",
       "    <tr>\n",
       "      <th>0</th>\n",
       "      <td>Also me trying to leave five star reviews on A...</td>\n",
       "      <td>amazon</td>\n",
       "    </tr>\n",
       "    <tr>\n",
       "      <th>1</th>\n",
       "      <td>@rising @brosandprose After NYC passed on Amaz...</td>\n",
       "      <td>amazon</td>\n",
       "    </tr>\n",
       "    <tr>\n",
       "      <th>2</th>\n",
       "      <td>I dislike Amazon very much but that’s my own p...</td>\n",
       "      <td>amazon</td>\n",
       "    </tr>\n",
       "    <tr>\n",
       "      <th>3</th>\n",
       "      <td>China used a tiny chip in a huge hack that inf...</td>\n",
       "      <td>amazon</td>\n",
       "    </tr>\n",
       "    <tr>\n",
       "      <th>4</th>\n",
       "      <td>@espn If you need copywriters for niches (AdSe...</td>\n",
       "      <td>amazon</td>\n",
       "    </tr>\n",
       "    <tr>\n",
       "      <th>...</th>\n",
       "      <td>...</td>\n",
       "      <td>...</td>\n",
       "    </tr>\n",
       "    <tr>\n",
       "      <th>86</th>\n",
       "      <td>@GCPcloud @alibaba_cloud @AWS @Azure I paid. P...</td>\n",
       "      <td>alibaba</td>\n",
       "    </tr>\n",
       "    <tr>\n",
       "      <th>87</th>\n",
       "      <td>@ImIncorrigible Not legal yet. Will be. I almo...</td>\n",
       "      <td>alibaba</td>\n",
       "    </tr>\n",
       "    <tr>\n",
       "      <th>88</th>\n",
       "      <td>China website Alibaba sells “children adrenoch...</td>\n",
       "      <td>alibaba</td>\n",
       "    </tr>\n",
       "    <tr>\n",
       "      <th>89</th>\n",
       "      <td>Why to #my #Cloud account at diffrent places a...</td>\n",
       "      <td>alibaba</td>\n",
       "    </tr>\n",
       "    <tr>\n",
       "      <th>90</th>\n",
       "      <td>China website Alibaba sells “children adrenoch...</td>\n",
       "      <td>alibaba</td>\n",
       "    </tr>\n",
       "  </tbody>\n",
       "</table>\n",
       "<p>391 rows × 2 columns</p>\n",
       "</div>"
      ],
      "text/plain": [
       "                                                 text  company\n",
       "0   Also me trying to leave five star reviews on A...   amazon\n",
       "1   @rising @brosandprose After NYC passed on Amaz...   amazon\n",
       "2   I dislike Amazon very much but that’s my own p...   amazon\n",
       "3   China used a tiny chip in a huge hack that inf...   amazon\n",
       "4   @espn If you need copywriters for niches (AdSe...   amazon\n",
       "..                                                ...      ...\n",
       "86  @GCPcloud @alibaba_cloud @AWS @Azure I paid. P...  alibaba\n",
       "87  @ImIncorrigible Not legal yet. Will be. I almo...  alibaba\n",
       "88  China website Alibaba sells “children adrenoch...  alibaba\n",
       "89  Why to #my #Cloud account at diffrent places a...  alibaba\n",
       "90  China website Alibaba sells “children adrenoch...  alibaba\n",
       "\n",
       "[391 rows x 2 columns]"
      ]
     },
     "execution_count": 86,
     "metadata": {},
     "output_type": "execute_result"
    }
   ],
   "source": [
    "result"
   ]
  },
  {
   "cell_type": "code",
   "execution_count": 89,
   "metadata": {},
   "outputs": [],
   "source": [
    "result.to_csv(\"brands_data.csv\", index = False, header=True)"
   ]
  },
  {
   "cell_type": "markdown",
   "metadata": {},
   "source": [
    "### Trying streaming with twitter: Future commits"
   ]
  },
  {
   "cell_type": "markdown",
   "metadata": {},
   "source": [
    "#### Importing relevant libararies\n"
   ]
  },
  {
   "cell_type": "code",
   "execution_count": 39,
   "metadata": {},
   "outputs": [],
   "source": [
    "import tweepy\n",
    "from tweepy.streaming import StreamListener\n",
    "from tweepy import OAuthHandler\n",
    "from tweepy import Stream\n",
    "import datetime\n",
    "import csv"
   ]
  },
  {
   "cell_type": "code",
   "execution_count": 40,
   "metadata": {},
   "outputs": [],
   "source": [
    "class StdOutListener(StreamListener):\n",
    "     def on_status(self, status):\n",
    "        \n",
    "        if (status.lang == \"en\") & (status.user.followers_count >= 500):\n",
    "        # Altering tweet text so that it keeps to one line\n",
    "            text_for_output = \"'\" + status.text.replace('\\n', ' ') +\"'\"\n",
    "            csvw.writerow([status.id, status.user.screen_name, # Using datetime to parse it to just get date\n",
    "                      status.created_at.strftime('%m/%d/%y'),\n",
    "                      status.user.followers_count,\n",
    "                      text_for_output])\n",
    "        return True\n",
    "     def on_error(self, status_code):\n",
    "        if status_code == 420:\n",
    "        # Returning False in on_error disconnects the stream\n",
    "            return False"
   ]
  },
  {
   "cell_type": "code",
   "execution_count": 41,
   "metadata": {},
   "outputs": [],
   "source": [
    "l = StdOutListener()\n",
    "stream = Stream(auth, l)"
   ]
  }
 ],
 "metadata": {
  "kernelspec": {
   "display_name": "Python 3",
   "language": "python",
   "name": "python3"
  },
  "language_info": {
   "codemirror_mode": {
    "name": "ipython",
    "version": 3
   },
   "file_extension": ".py",
   "mimetype": "text/x-python",
   "name": "python",
   "nbconvert_exporter": "python",
   "pygments_lexer": "ipython3",
   "version": "3.8.3"
  }
 },
 "nbformat": 4,
 "nbformat_minor": 4
}
