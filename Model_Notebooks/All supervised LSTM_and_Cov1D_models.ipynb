{
  "nbformat": 4,
  "nbformat_minor": 0,
  "metadata": {
    "colab": {
      "name": "LSTM and Cov1D models.ipynb",
      "provenance": [],
      "collapsed_sections": [
        "JT8ksEXR_EUQ"
      ],
      "toc_visible": true
    },
    "kernelspec": {
      "name": "python3",
      "display_name": "Python 3"
    },
    "accelerator": "GPU"
  },
  "cells": [
    {
      "cell_type": "markdown",
      "metadata": {
        "id": "zkBjGyZf4PJ3",
        "colab_type": "text"
      },
      "source": [
        "# Setting up drive enviournment"
      ]
    },
    {
      "cell_type": "code",
      "metadata": {
        "id": "8NAz2RlYBJ0l",
        "colab_type": "code",
        "colab": {
          "base_uri": "https://localhost:8080/",
          "height": 121
        },
        "outputId": "3ddc8b09-be80-4b37-f2f8-4178e2b553d9"
      },
      "source": [
        "#from google.colab import files\n",
        "#uploaded = files.upload()\n",
        "from google.colab import drive\n",
        "drive.mount('/content/drive')\n"
      ],
      "execution_count": null,
      "outputs": [
        {
          "output_type": "stream",
          "text": [
            "Go to this URL in a browser: https://accounts.google.com/o/oauth2/auth?client_id=947318989803-6bn6qk8qdgf4n4g3pfee6491hc0brc4i.apps.googleusercontent.com&redirect_uri=urn%3aietf%3awg%3aoauth%3a2.0%3aoob&scope=email%20https%3a%2f%2fwww.googleapis.com%2fauth%2fdocs.test%20https%3a%2f%2fwww.googleapis.com%2fauth%2fdrive%20https%3a%2f%2fwww.googleapis.com%2fauth%2fdrive.photos.readonly%20https%3a%2f%2fwww.googleapis.com%2fauth%2fpeopleapi.readonly&response_type=code\n",
            "\n",
            "Enter your authorization code:\n",
            "··········\n",
            "Mounted at /content/drive\n"
          ],
          "name": "stdout"
        }
      ]
    },
    {
      "cell_type": "markdown",
      "metadata": {
        "id": "QrialxadDTDK",
        "colab_type": "text"
      },
      "source": [
        ""
      ]
    },
    {
      "cell_type": "code",
      "metadata": {
        "id": "smLDpbwgY1Zc",
        "colab_type": "code",
        "colab": {
          "base_uri": "https://localhost:8080/",
          "height": 34
        },
        "outputId": "1444eb00-78b1-46e2-f2ef-a1bf87c9ebf8"
      },
      "source": [
        "cd /content/drive/My\\ Drive/Akshay experiments on SOM"
      ],
      "execution_count": null,
      "outputs": [
        {
          "output_type": "stream",
          "text": [
            "/content/drive/My Drive/Akshay experiments on SOM\n"
          ],
          "name": "stdout"
        }
      ]
    },
    {
      "cell_type": "code",
      "metadata": {
        "id": "szsw1Ht-Y4_x",
        "colab_type": "code",
        "colab": {
          "base_uri": "https://localhost:8080/",
          "height": 386
        },
        "outputId": "966f90f1-a4bb-4dad-9882-a41944354701"
      },
      "source": [
        "import os\n",
        "os.listdir()"
      ],
      "execution_count": null,
      "outputs": [
        {
          "output_type": "execute_result",
          "data": {
            "text/plain": [
              "['great-data.csv',\n",
              " 'projected_som.pkl',\n",
              " 'som_20x20_1000.csv',\n",
              " 'small_data.npy',\n",
              " 'nodesFeature_0.png',\n",
              " 'nodesDifference.png',\n",
              " 'Features',\n",
              " 'projected_som_10k.pkl',\n",
              " 'som_20x20_10000.csv',\n",
              " 'som_word2vec',\n",
              " 'projected_som_word2vec.pkl',\n",
              " 'Copy of SOM_word2vec',\n",
              " 'val_embed_bert.pickle',\n",
              " 'test_embed_bert.pickle',\n",
              " 'train_embed_bert.pickle',\n",
              " 'som_bert',\n",
              " 'som_20_20_word2vec200.csv',\n",
              " 'word2vec_20x20_200.npy',\n",
              " 'word2vec_20x20.npy',\n",
              " 'projected_bert.pkl',\n",
              " 'som_20_20_bert.csv',\n",
              " 'projection_difference.png']"
            ]
          },
          "metadata": {
            "tags": []
          },
          "execution_count": 3
        }
      ]
    },
    {
      "cell_type": "markdown",
      "metadata": {
        "id": "q2yC_ecbRj_B",
        "colab_type": "text"
      },
      "source": [
        "Importing the libraries"
      ]
    },
    {
      "cell_type": "code",
      "metadata": {
        "id": "hNmwv5wVRqbQ",
        "colab_type": "code",
        "colab": {}
      },
      "source": [
        "import pandas as pd\n",
        "import numpy as np\n",
        "from sklearn.feature_extraction.text import CountVectorizer"
      ],
      "execution_count": null,
      "outputs": []
    },
    {
      "cell_type": "markdown",
      "metadata": {
        "id": "w7bJIEZRR-3u",
        "colab_type": "text"
      },
      "source": [
        "# Loading the dataset"
      ]
    },
    {
      "cell_type": "code",
      "metadata": {
        "id": "1Imcbq5kRrFP",
        "colab_type": "code",
        "colab": {}
      },
      "source": [
        "DATASET_COLUMNS = [\"target\", \"text\"]\n",
        "DATASET_ENCODING = \"ISO-8859-1\"\n",
        "data = pd.read_csv('great-data.csv', encoding =DATASET_ENCODING , names=DATASET_COLUMNS, header = 'infer')"
      ],
      "execution_count": null,
      "outputs": []
    },
    {
      "cell_type": "markdown",
      "metadata": {
        "id": "Ic79Q0ar2pQG",
        "colab_type": "text"
      },
      "source": [
        "# Exploring the dataset size"
      ]
    },
    {
      "cell_type": "code",
      "metadata": {
        "id": "R-8_IMdD2g9K",
        "colab_type": "code",
        "colab": {
          "base_uri": "https://localhost:8080/",
          "height": 34
        },
        "outputId": "bbea08ff-74a4-4a11-e868-bbdff8b1f77e"
      },
      "source": [
        "print(\"Dataset size:\", len(data))"
      ],
      "execution_count": null,
      "outputs": [
        {
          "output_type": "stream",
          "text": [
            "Dataset size: 50001\n"
          ],
          "name": "stdout"
        }
      ]
    },
    {
      "cell_type": "code",
      "metadata": {
        "id": "fvTEJ_fcsu74",
        "colab_type": "code",
        "colab": {}
      },
      "source": [
        "data = data[1:]"
      ],
      "execution_count": null,
      "outputs": []
    },
    {
      "cell_type": "code",
      "metadata": {
        "id": "qIardJIOtEJx",
        "colab_type": "code",
        "colab": {
          "base_uri": "https://localhost:8080/",
          "height": 195
        },
        "outputId": "feac580c-7065-412c-ab8e-679a2646ca42"
      },
      "source": [
        "data.head()"
      ],
      "execution_count": null,
      "outputs": [
        {
          "output_type": "execute_result",
          "data": {
            "text/html": [
              "<div>\n",
              "<style scoped>\n",
              "    .dataframe tbody tr th:only-of-type {\n",
              "        vertical-align: middle;\n",
              "    }\n",
              "\n",
              "    .dataframe tbody tr th {\n",
              "        vertical-align: top;\n",
              "    }\n",
              "\n",
              "    .dataframe thead th {\n",
              "        text-align: right;\n",
              "    }\n",
              "</style>\n",
              "<table border=\"1\" class=\"dataframe\">\n",
              "  <thead>\n",
              "    <tr style=\"text-align: right;\">\n",
              "      <th></th>\n",
              "      <th>target</th>\n",
              "      <th>text</th>\n",
              "    </tr>\n",
              "  </thead>\n",
              "  <tbody>\n",
              "    <tr>\n",
              "      <th>1</th>\n",
              "      <td>4</td>\n",
              "      <td>@indykitty *hug indykitty* sleep tight indy...</td>\n",
              "    </tr>\n",
              "    <tr>\n",
              "      <th>2</th>\n",
              "      <td>0</td>\n",
              "      <td>@Shough yeah I feel really bad for them  tryin...</td>\n",
              "    </tr>\n",
              "    <tr>\n",
              "      <th>3</th>\n",
              "      <td>0</td>\n",
              "      <td>@embeep sorry about your sadness  I'll be home...</td>\n",
              "    </tr>\n",
              "    <tr>\n",
              "      <th>4</th>\n",
              "      <td>0</td>\n",
              "      <td>Couldn't spend time with the family cuz of wor...</td>\n",
              "    </tr>\n",
              "    <tr>\n",
              "      <th>5</th>\n",
              "      <td>4</td>\n",
              "      <td>is new on twitter</td>\n",
              "    </tr>\n",
              "  </tbody>\n",
              "</table>\n",
              "</div>"
            ],
            "text/plain": [
              "  target                                               text\n",
              "1      4    @indykitty *hug indykitty* sleep tight indy... \n",
              "2      0  @Shough yeah I feel really bad for them  tryin...\n",
              "3      0  @embeep sorry about your sadness  I'll be home...\n",
              "4      0  Couldn't spend time with the family cuz of wor...\n",
              "5      4                                 is new on twitter "
            ]
          },
          "metadata": {
            "tags": []
          },
          "execution_count": 18
        }
      ]
    },
    {
      "cell_type": "markdown",
      "metadata": {
        "id": "TlToUid62xnt",
        "colab_type": "text"
      },
      "source": [
        "Mapping target label to String\n",
        "<br> 0 -> NEGATIVE\n",
        "<br> 2 -> NEUTRAL\n",
        "<br> 4 -> POSITIVE"
      ]
    },
    {
      "cell_type": "code",
      "metadata": {
        "id": "l42L6PJR23xq",
        "colab_type": "code",
        "colab": {}
      },
      "source": [
        "decode_map = {0: \"NEGATIVE\", 2: \"NEUTRAL\", 4: \"POSITIVE\"}\n",
        "def decode_sentiment(label):\n",
        "    return decode_map[int(label)]"
      ],
      "execution_count": null,
      "outputs": []
    },
    {
      "cell_type": "code",
      "metadata": {
        "id": "PfrKrBAJ3Khh",
        "colab_type": "code",
        "colab": {}
      },
      "source": [
        "# applying the function described as above\n",
        "data.target = data.target.apply(lambda x: decode_sentiment(x))"
      ],
      "execution_count": null,
      "outputs": []
    },
    {
      "cell_type": "markdown",
      "metadata": {
        "id": "lpU72DIT3pen",
        "colab_type": "text"
      },
      "source": [
        " lets look at target column now"
      ]
    },
    {
      "cell_type": "code",
      "metadata": {
        "id": "IQqMWRlk3wPo",
        "colab_type": "code",
        "colab": {
          "base_uri": "https://localhost:8080/",
          "height": 218
        },
        "outputId": "648e4605-07dd-46b1-a94b-39e6c379c4ec"
      },
      "source": [
        "data.target"
      ],
      "execution_count": null,
      "outputs": [
        {
          "output_type": "execute_result",
          "data": {
            "text/plain": [
              "1        POSITIVE\n",
              "2        NEGATIVE\n",
              "3        NEGATIVE\n",
              "4        NEGATIVE\n",
              "5        POSITIVE\n",
              "           ...   \n",
              "49996    NEGATIVE\n",
              "49997    POSITIVE\n",
              "49998    POSITIVE\n",
              "49999    NEGATIVE\n",
              "50000    NEGATIVE\n",
              "Name: target, Length: 50000, dtype: object"
            ]
          },
          "metadata": {
            "tags": []
          },
          "execution_count": 21
        }
      ]
    },
    {
      "cell_type": "code",
      "metadata": {
        "id": "LNtbMZRe4bEA",
        "colab_type": "code",
        "colab": {
          "base_uri": "https://localhost:8080/",
          "height": 70
        },
        "outputId": "f85993ee-934d-4b02-9a7d-670d01afcb89"
      },
      "source": [
        "from collections import Counter\n",
        "import seaborn as sns"
      ],
      "execution_count": null,
      "outputs": [
        {
          "output_type": "stream",
          "text": [
            "/usr/local/lib/python3.6/dist-packages/statsmodels/tools/_testing.py:19: FutureWarning: pandas.util.testing is deprecated. Use the functions in the public API at pandas.testing instead.\n",
            "  import pandas.util.testing as tm\n"
          ],
          "name": "stderr"
        }
      ]
    },
    {
      "cell_type": "code",
      "metadata": {
        "id": "-IENyUbA4gpX",
        "colab_type": "code",
        "colab": {}
      },
      "source": [
        "target_cnt = Counter(data.target)"
      ],
      "execution_count": null,
      "outputs": []
    },
    {
      "cell_type": "code",
      "metadata": {
        "id": "4jVBAD375Dvf",
        "colab_type": "code",
        "colab": {
          "base_uri": "https://localhost:8080/",
          "height": 312
        },
        "outputId": "a16bda15-96e6-4026-a941-c5089a52d07b"
      },
      "source": [
        "ax = sns.barplot(x=list(target_cnt.keys()),y=list(target_cnt.values()))\n",
        "ax.set_title('Number of examples per category')\n",
        "ax.set_xlabel(\"Category\")\n",
        "ax.set_ylabel(\"Number of examples\")"
      ],
      "execution_count": null,
      "outputs": [
        {
          "output_type": "execute_result",
          "data": {
            "text/plain": [
              "Text(0, 0.5, 'Number of examples')"
            ]
          },
          "metadata": {
            "tags": []
          },
          "execution_count": 24
        },
        {
          "output_type": "display_data",
          "data": {
            "image/png": "[encoded data removed]",
            "text/plain": [
              "<Figure size 432x288 with 1 Axes>"
            ]
          },
          "metadata": {
            "tags": [],
            "needs_background": "light"
          }
        }
      ]
    },
    {
      "cell_type": "markdown",
      "metadata": {
        "id": "QKpE060t4W4P",
        "colab_type": "text"
      },
      "source": [
        "# Data cleaning"
      ]
    },
    {
      "cell_type": "markdown",
      "metadata": {
        "id": "wI2Yq1ZKSChd",
        "colab_type": "text"
      },
      "source": [
        "Importing the libraries for data cleaning\n"
      ]
    },
    {
      "cell_type": "code",
      "metadata": {
        "id": "wSmZtw71Rzpp",
        "colab_type": "code",
        "colab": {}
      },
      "source": [
        "import re\n",
        "import nltk\n",
        "from nltk.corpus import stopwords\n",
        "from  nltk.stem import SnowballStemmer"
      ],
      "execution_count": null,
      "outputs": []
    },
    {
      "cell_type": "markdown",
      "metadata": {
        "id": "SxUihSXRSKAL",
        "colab_type": "text"
      },
      "source": [
        "Data cleaning\n"
      ]
    },
    {
      "cell_type": "code",
      "metadata": {
        "id": "iJxi3gHPSgLn",
        "colab_type": "code",
        "colab": {
          "base_uri": "https://localhost:8080/",
          "height": 67
        },
        "outputId": "21275572-1812-41a1-b180-6cbdbabc97dd"
      },
      "source": [
        "# downloading stopwords for nltk in collab\n",
        "import nltk\n",
        "nltk.download('stopwords')"
      ],
      "execution_count": null,
      "outputs": [
        {
          "output_type": "stream",
          "text": [
            "[nltk_data] Downloading package stopwords to /root/nltk_data...\n",
            "[nltk_data]   Unzipping corpora/stopwords.zip.\n"
          ],
          "name": "stdout"
        },
        {
          "output_type": "execute_result",
          "data": {
            "text/plain": [
              "True"
            ]
          },
          "metadata": {
            "tags": []
          },
          "execution_count": 26
        }
      ]
    },
    {
      "cell_type": "code",
      "metadata": {
        "id": "1WBd4AA4S4T5",
        "colab_type": "code",
        "colab": {
          "base_uri": "https://localhost:8080/",
          "height": 118
        },
        "outputId": "5191ba1e-dfa9-4a46-ec66-e4d360f163b7"
      },
      "source": [
        "#looking at first few texts in data\n",
        "data['text'].head()"
      ],
      "execution_count": null,
      "outputs": [
        {
          "output_type": "execute_result",
          "data": {
            "text/plain": [
              "1      @indykitty *hug indykitty* sleep tight indy... \n",
              "2    @Shough yeah I feel really bad for them  tryin...\n",
              "3    @embeep sorry about your sadness  I'll be home...\n",
              "4    Couldn't spend time with the family cuz of wor...\n",
              "5                                   is new on twitter \n",
              "Name: text, dtype: object"
            ]
          },
          "metadata": {
            "tags": []
          },
          "execution_count": 27
        }
      ]
    },
    {
      "cell_type": "markdown",
      "metadata": {
        "id": "clr4QfG07j5B",
        "colab_type": "text"
      },
      "source": [
        "Lets look at stop_words that we are going to remove"
      ]
    },
    {
      "cell_type": "code",
      "metadata": {
        "id": "QAqyut-r7Qfm",
        "colab_type": "code",
        "colab": {}
      },
      "source": [
        "stop_words = stopwords.words(\"english\")"
      ],
      "execution_count": null,
      "outputs": []
    },
    {
      "cell_type": "code",
      "metadata": {
        "id": "FwJbzhsQ7R8u",
        "colab_type": "code",
        "colab": {
          "base_uri": "https://localhost:8080/",
          "height": 34
        },
        "outputId": "1ae1c314-6ae9-45b2-a801-8adb877651a3"
      },
      "source": [
        "stop_words[:10]"
      ],
      "execution_count": null,
      "outputs": [
        {
          "output_type": "execute_result",
          "data": {
            "text/plain": [
              "['i', 'me', 'my', 'myself', 'we', 'our', 'ours', 'ourselves', 'you', \"you're\"]"
            ]
          },
          "metadata": {
            "tags": []
          },
          "execution_count": 29
        }
      ]
    },
    {
      "cell_type": "markdown",
      "metadata": {
        "id": "fiL63Ay87mi4",
        "colab_type": "text"
      },
      "source": [
        "lets look at the stemmer that we are going to use"
      ]
    },
    {
      "cell_type": "code",
      "metadata": {
        "id": "3NQzvbaR7qLG",
        "colab_type": "code",
        "colab": {}
      },
      "source": [
        "stemmer = SnowballStemmer(\"english\")"
      ],
      "execution_count": null,
      "outputs": []
    },
    {
      "cell_type": "code",
      "metadata": {
        "id": "ar-4m1mYcDkk",
        "colab_type": "code",
        "colab": {}
      },
      "source": [
        "stop = ['i', 'me', 'my', 'myself', 'we', 'our', 'ours', 'ourselves', 'you', \"you're\", \"you've\", \"you'll\", \"you'd\", 'your', 'yours', 'yourself', \n",
        "        'yourselves', 'he', 'him', 'his', 'himself', 'she', \"she's\", 'her', 'hers', 'herself', 'it', \"it's\", 'its', 'itself', 'they', 'them', \n",
        "        'their', 'theirs', 'themselves', 'what', 'which', 'who', 'whom', 'this', 'that', \"that'll\", 'these', 'those', 'am', 'is', 'are', 'was', \n",
        "        'were', 'be', 'been', 'being', 'have', 'has', 'had', 'having', 'do', 'does', 'did', 'doing', 'a', 'an', 'the', 'and', 'but', 'if', 'or', \n",
        "        'because', 'as', 'until', 'while', 'of', 'at', 'by', 'for', 'with', 'about', 'against', 'between', 'into', 'through', 'during', 'before', \n",
        "        'after', 'above', 'below', 'to', 'from', 'up', 'down', 'in', 'out', 'on', 'off', 'over', 'under', 'again', 'further', 'then', 'once', 'here',\n",
        "        'there', 'when', 'where', 'why', 'how', 'all', 'any', 'both', 'each', 'few', 'more', 'most', 'other', 'some', 'such',  'only', 'own', 'same', \n",
        "        'so', 'than', 'too', 'very', 's', 't', 'can', 'will', 'just',  'should', \"should've\", 'now', 'd', 'll', 'm', 'o', 're', 've', 'y']\n",
        "removed = ['no', 'nor', 'not','don', \"don't\",'ain', 'aren', \"aren't\", 'couldn', \"couldn't\", 'didn', \"didn't\", 'doesn', \"doesn't\", \n",
        "'hadn', \"hadn't\", 'hasn', \"hasn't\", 'haven', \"haven't\", 'isn', \"isn't\", 'ma', 'mightn', \"mightn't\", 'mustn', \"mustn't\", 'needn', \"needn't\", \n",
        "'shan', \"shan't\", 'shouldn', \"shouldn't\", 'wasn', \"wasn't\", 'weren', \"weren't\", 'won', \"won't\", 'wouldn', \"wouldn't\"]"
      ],
      "execution_count": null,
      "outputs": []
    },
    {
      "cell_type": "markdown",
      "metadata": {
        "id": "HfLFmU3b7y4O",
        "colab_type": "text"
      },
      "source": [
        "Lol! its calss object of nttk.stem.snowball as we defined"
      ]
    },
    {
      "cell_type": "code",
      "metadata": {
        "id": "JtDFNR85R6N8",
        "colab_type": "code",
        "colab": {}
      },
      "source": [
        "# TEXT CLENAING\n",
        "TEXT_CLEANING_RE = \"@\\S+|https?:\\S+|http?:\\S|[^A-Za-z0-9]+\"\n",
        "\n",
        "# Meaning of expression\n",
        "# @ = @\n",
        "# \\S+ = (not whitespace) one or more\n",
        "# | = or\n",
        "# https = https once or none\n",
        "# ?: = non capture group\n",
        "# \\S = (not whitespace) one or more\n",
        "# | = or\n",
        "# http = https once or more\n",
        "# ?: = non capture group\n",
        "# \\S =  (not whitespace) one or more\n",
        "# | = or\n",
        "# [^A-Za-z0-9] : anything\n",
        "\n",
        "\n",
        "stop_words = stopwords.words(\"english\")\n",
        "stemmer = SnowballStemmer(\"english\")\n",
        "\n",
        "def preprocess(text, stem=False):\n",
        "    # stemmer is not used as stem is kept as false\n",
        "    # Remove link,user and special characters\n",
        "    text = re.sub(TEXT_CLEANING_RE, ' ', str(text).lower()).strip()\n",
        "    tokens = []\n",
        "    for token in text.split():\n",
        "        if token not in stop:\n",
        "            if stem:\n",
        "                tokens.append(stemmer.stem(token))\n",
        "            else:\n",
        "                tokens.append(token)\n",
        "    return \" \".join(tokens)"
      ],
      "execution_count": null,
      "outputs": []
    },
    {
      "cell_type": "code",
      "metadata": {
        "id": "ZNFfYQ1rSREp",
        "colab_type": "code",
        "colab": {}
      },
      "source": [
        "data.text = data.text.apply(lambda x: preprocess(x))"
      ],
      "execution_count": null,
      "outputs": []
    },
    {
      "cell_type": "code",
      "metadata": {
        "id": "7CcFEu_pjvtP",
        "colab_type": "code",
        "colab": {
          "base_uri": "https://localhost:8080/",
          "height": 195
        },
        "outputId": "f47fcee9-a63d-4673-f413-cdb70516fe3d"
      },
      "source": [
        "data.head()"
      ],
      "execution_count": null,
      "outputs": [
        {
          "output_type": "execute_result",
          "data": {
            "text/html": [
              "<div>\n",
              "<style scoped>\n",
              "    .dataframe tbody tr th:only-of-type {\n",
              "        vertical-align: middle;\n",
              "    }\n",
              "\n",
              "    .dataframe tbody tr th {\n",
              "        vertical-align: top;\n",
              "    }\n",
              "\n",
              "    .dataframe thead th {\n",
              "        text-align: right;\n",
              "    }\n",
              "</style>\n",
              "<table border=\"1\" class=\"dataframe\">\n",
              "  <thead>\n",
              "    <tr style=\"text-align: right;\">\n",
              "      <th></th>\n",
              "      <th>target</th>\n",
              "      <th>text</th>\n",
              "    </tr>\n",
              "  </thead>\n",
              "  <tbody>\n",
              "    <tr>\n",
              "      <th>1</th>\n",
              "      <td>POSITIVE</td>\n",
              "      <td>hug indykitty sleep tight indy</td>\n",
              "    </tr>\n",
              "    <tr>\n",
              "      <th>2</th>\n",
              "      <td>NEGATIVE</td>\n",
              "      <td>yeah feel really bad trying best help don know...</td>\n",
              "    </tr>\n",
              "    <tr>\n",
              "      <th>3</th>\n",
              "      <td>NEGATIVE</td>\n",
              "      <td>sorry sadness home next weeked faff stalk cele...</td>\n",
              "    </tr>\n",
              "    <tr>\n",
              "      <th>4</th>\n",
              "      <td>NEGATIVE</td>\n",
              "      <td>couldn spend time family cuz work went beach w...</td>\n",
              "    </tr>\n",
              "    <tr>\n",
              "      <th>5</th>\n",
              "      <td>POSITIVE</td>\n",
              "      <td>new twitter</td>\n",
              "    </tr>\n",
              "  </tbody>\n",
              "</table>\n",
              "</div>"
            ],
            "text/plain": [
              "     target                                               text\n",
              "1  POSITIVE                     hug indykitty sleep tight indy\n",
              "2  NEGATIVE  yeah feel really bad trying best help don know...\n",
              "3  NEGATIVE  sorry sadness home next weeked faff stalk cele...\n",
              "4  NEGATIVE  couldn spend time family cuz work went beach w...\n",
              "5  POSITIVE                                        new twitter"
            ]
          },
          "metadata": {
            "tags": []
          },
          "execution_count": 34
        }
      ]
    },
    {
      "cell_type": "markdown",
      "metadata": {
        "id": "5liIIWYdBbg-",
        "colab_type": "text"
      },
      "source": [
        "# Splitting the dataset into training and testing"
      ]
    },
    {
      "cell_type": "code",
      "metadata": {
        "id": "rqhBilZgjzEw",
        "colab_type": "code",
        "colab": {
          "base_uri": "https://localhost:8080/",
          "height": 50
        },
        "outputId": "eccd3500-66b5-4af1-a23f-5fad905cbbc8"
      },
      "source": [
        "from sklearn.model_selection import train_test_split\n",
        "data_train, data_test = train_test_split(data, test_size=0.2, random_state=42)\n",
        "print(\"TRAIN size:\", len(data_train))\n",
        "print(\"TEST size:\", len(data_test))"
      ],
      "execution_count": null,
      "outputs": [
        {
          "output_type": "stream",
          "text": [
            "TRAIN size: 40000\n",
            "TEST size: 10000\n"
          ],
          "name": "stdout"
        }
      ]
    },
    {
      "cell_type": "markdown",
      "metadata": {
        "id": "P0OC_q0MD9VE",
        "colab_type": "text"
      },
      "source": [
        "# Making a list of list of words in sentence"
      ]
    },
    {
      "cell_type": "code",
      "metadata": {
        "id": "33b7PcM-D6Co",
        "colab_type": "code",
        "colab": {
          "base_uri": "https://localhost:8080/",
          "height": 50
        },
        "outputId": "5f388b2a-53ea-44d3-a1af-51483f0f3e59"
      },
      "source": [
        "%%time\n",
        "documents = [_text.split() for _text in data_train.text]"
      ],
      "execution_count": null,
      "outputs": [
        {
          "output_type": "stream",
          "text": [
            "CPU times: user 112 ms, sys: 11 ms, total: 123 ms\n",
            "Wall time: 126 ms\n"
          ],
          "name": "stdout"
        }
      ]
    },
    {
      "cell_type": "code",
      "metadata": {
        "id": "dU83oxLAj3Ti",
        "colab_type": "code",
        "colab": {
          "base_uri": "https://localhost:8080/",
          "height": 622
        },
        "outputId": "69c15909-42f6-4656-d4e6-db3422d5e288"
      },
      "source": [
        "# lets look at first five element\n",
        "documents[0:5]"
      ],
      "execution_count": null,
      "outputs": [
        {
          "output_type": "execute_result",
          "data": {
            "text/plain": [
              "[['man',\n",
              "  'gotta',\n",
              "  'get',\n",
              "  'pretty',\n",
              "  'fro',\n",
              "  'work',\n",
              "  'tonight',\n",
              "  'sigh',\n",
              "  'dont',\n",
              "  'want',\n",
              "  'come',\n",
              "  'visit',\n",
              "  'tonight',\n",
              "  'luxe',\n",
              "  'lounge'],\n",
              " ['g',\n",
              "  'night',\n",
              "  'everyone',\n",
              "  'going',\n",
              "  'bed',\n",
              "  'xoxo',\n",
              "  'no',\n",
              "  'school',\n",
              "  'tmrw',\n",
              "  'holiday'],\n",
              " ['rip',\n",
              "  'whataburger',\n",
              "  'last',\n",
              "  'triple',\n",
              "  'meat',\n",
              "  'triple',\n",
              "  'cheese',\n",
              "  'bacon',\n",
              "  'miss'],\n",
              " ['followfriday', 'justinfrench', 'welcome'],\n",
              " ['talking', 'phone']]"
            ]
          },
          "metadata": {
            "tags": []
          },
          "execution_count": 37
        }
      ]
    },
    {
      "cell_type": "markdown",
      "metadata": {
        "id": "rrQHNSuGEuSj",
        "colab_type": "text"
      },
      "source": [
        "# Lets make word2vec model from genism"
      ]
    },
    {
      "cell_type": "code",
      "metadata": {
        "id": "tVmoT4rMEzgM",
        "colab_type": "code",
        "colab": {}
      },
      "source": [
        "# Matplotlib\n",
        "import matplotlib.pyplot as plt\n",
        "%matplotlib inline\n",
        "\n",
        "# Scikit-learn\n",
        "from sklearn.model_selection import train_test_split\n",
        "from sklearn.preprocessing import LabelEncoder\n",
        "from sklearn.metrics import confusion_matrix, classification_report, accuracy_score\n",
        "from sklearn.manifold import TSNE\n",
        "from sklearn.feature_extraction.text import TfidfVectorizer\n",
        "\n",
        "# Keras\n",
        "from keras.preprocessing.text import Tokenizer\n",
        "from keras.preprocessing.sequence import pad_sequences\n",
        "from keras.models import Sequential\n",
        "from keras.layers import Activation, Dense, Dropout, Embedding, Flatten, Conv1D, MaxPooling1D, LSTM,Bidirectional\n",
        "from keras import utils\n",
        "from keras.callbacks import ReduceLROnPlateau, EarlyStopping\n",
        "\n",
        "# nltk\n",
        "import nltk\n",
        "from nltk.corpus import stopwords\n",
        "from  nltk.stem import SnowballStemmer\n",
        "\n",
        "# Word2vec\n",
        "import gensim\n",
        "\n",
        "# Utility\n",
        "import re\n",
        "import numpy as np\n",
        "import os\n",
        "from collections import Counter\n",
        "import logging\n",
        "import time\n",
        "import pickle\n",
        "import itertools\n",
        "\n"
      ],
      "execution_count": null,
      "outputs": []
    },
    {
      "cell_type": "markdown",
      "metadata": {
        "id": "e0D0pT_2FHws",
        "colab_type": "text"
      },
      "source": [
        "# WORD2VEC model definition\n",
        "<br> W2V_SIZE = 300 i.e we would be using 300 feature representation of words\n",
        "<br> W2V_WINDOW = 7 i.e. Maximum distance between the current and predicted word within a sentence. (window in model definition)\n",
        "<br> W2V_EPOCH = 32 ; would be used at the time of trianing\n",
        "<br> W2V_MIN_COUNT = 10 :  Ignores all words with total frequency lower than this.(min_count in model definition)\n",
        "<br> workers = 8; faster training with multicore machines\n"
      ]
    },
    {
      "cell_type": "code",
      "metadata": {
        "id": "g2qCZ7hVEbKW",
        "colab_type": "code",
        "colab": {}
      },
      "source": [
        "w2v_model = gensim.models.word2vec.Word2Vec(size=300, \n",
        "                                            window=7, \n",
        "                                            min_count=10, \n",
        "                                            workers=8)"
      ],
      "execution_count": null,
      "outputs": []
    },
    {
      "cell_type": "markdown",
      "metadata": {
        "id": "bl8q_O60HOzK",
        "colab_type": "text"
      },
      "source": [
        "# training w2v_model"
      ]
    },
    {
      "cell_type": "markdown",
      "metadata": {
        "id": "9CAqFYm0Iywb",
        "colab_type": "text"
      },
      "source": [
        "### Lets first build a vocabulary"
      ]
    },
    {
      "cell_type": "code",
      "metadata": {
        "id": "3naa5hVmHDN9",
        "colab_type": "code",
        "colab": {}
      },
      "source": [
        "try:\n",
        "  w2v_model.build_vocab(documents)\n",
        "except:\n",
        "  pass"
      ],
      "execution_count": null,
      "outputs": []
    },
    {
      "cell_type": "code",
      "metadata": {
        "id": "tTPW8LbAII9d",
        "colab_type": "code",
        "colab": {
          "base_uri": "https://localhost:8080/",
          "height": 34
        },
        "outputId": "29d9fcd8-82b1-4c61-8c9b-987527526534"
      },
      "source": [
        "len(w2v_model.wv.vocab)"
      ],
      "execution_count": null,
      "outputs": [
        {
          "output_type": "execute_result",
          "data": {
            "text/plain": [
              "3354"
            ]
          },
          "metadata": {
            "tags": []
          },
          "execution_count": 42
        }
      ]
    },
    {
      "cell_type": "code",
      "metadata": {
        "id": "uNVgNb--uKIF",
        "colab_type": "code",
        "colab": {}
      },
      "source": [
        ""
      ],
      "execution_count": null,
      "outputs": []
    },
    {
      "cell_type": "markdown",
      "metadata": {
        "id": "yGczmSRrI5xT",
        "colab_type": "text"
      },
      "source": [
        "### Lets train the model"
      ]
    },
    {
      "cell_type": "code",
      "metadata": {
        "id": "yQuQ7VBxIfIz",
        "colab_type": "code",
        "colab": {
          "base_uri": "https://localhost:8080/",
          "height": 67
        },
        "outputId": "9501f949-8c26-4339-8b9f-d086266bbe0e"
      },
      "source": [
        "%%time\n",
        "w2v_model.train(documents, total_examples=len(documents), epochs=32)"
      ],
      "execution_count": null,
      "outputs": [
        {
          "output_type": "stream",
          "text": [
            "CPU times: user 31.7 s, sys: 241 ms, total: 31.9 s\n",
            "Wall time: 17.1 s\n"
          ],
          "name": "stdout"
        },
        {
          "output_type": "execute_result",
          "data": {
            "text/plain": [
              "(6950015, 9458528)"
            ]
          },
          "metadata": {
            "tags": []
          },
          "execution_count": 43
        }
      ]
    },
    {
      "cell_type": "markdown",
      "metadata": {
        "id": "4h9j5xaNNbqz",
        "colab_type": "text"
      },
      "source": [
        "# lets look at a few similar words"
      ]
    },
    {
      "cell_type": "code",
      "metadata": {
        "id": "BIZxZhmbMf10",
        "colab_type": "code",
        "colab": {
          "base_uri": "https://localhost:8080/",
          "height": 272
        },
        "outputId": "e57b657b-e626-4354-994f-72504cf075c2"
      },
      "source": [
        "w2v_model.most_similar(\"love\")"
      ],
      "execution_count": null,
      "outputs": [
        {
          "output_type": "stream",
          "text": [
            "/usr/local/lib/python3.6/dist-packages/ipykernel_launcher.py:1: DeprecationWarning: Call to deprecated `most_similar` (Method will be removed in 4.0.0, use self.wv.most_similar() instead).\n",
            "  \"\"\"Entry point for launching an IPython kernel.\n",
            "/usr/local/lib/python3.6/dist-packages/gensim/matutils.py:737: FutureWarning: Conversion of the second argument of issubdtype from `int` to `np.signedinteger` is deprecated. In future, it will be treated as `np.int64 == np.dtype(int).type`.\n",
            "  if np.issubdtype(vec.dtype, np.int):\n"
          ],
          "name": "stderr"
        },
        {
          "output_type": "execute_result",
          "data": {
            "text/plain": [
              "[('including', 0.46429798007011414),\n",
              " ('bands', 0.4233565330505371),\n",
              " ('luv', 0.4059488773345947),\n",
              " ('sings', 0.39904695749282837),\n",
              " ('model', 0.3956802487373352),\n",
              " ('demi', 0.3933035135269165),\n",
              " ('wheres', 0.3920254409313202),\n",
              " ('brazil', 0.38922587037086487),\n",
              " ('singing', 0.3865150213241577),\n",
              " ('loves', 0.3814723491668701)]"
            ]
          },
          "metadata": {
            "tags": []
          },
          "execution_count": 44
        }
      ]
    },
    {
      "cell_type": "code",
      "metadata": {
        "id": "tE2edJkAMshe",
        "colab_type": "code",
        "colab": {
          "base_uri": "https://localhost:8080/",
          "height": 272
        },
        "outputId": "b0fc6797-264d-4cb4-9407-e6c90c6cbb32"
      },
      "source": [
        "w2v_model.most_similar(\"hate\")"
      ],
      "execution_count": null,
      "outputs": [
        {
          "output_type": "stream",
          "text": [
            "/usr/local/lib/python3.6/dist-packages/ipykernel_launcher.py:1: DeprecationWarning: Call to deprecated `most_similar` (Method will be removed in 4.0.0, use self.wv.most_similar() instead).\n",
            "  \"\"\"Entry point for launching an IPython kernel.\n",
            "/usr/local/lib/python3.6/dist-packages/gensim/matutils.py:737: FutureWarning: Conversion of the second argument of issubdtype from `int` to `np.signedinteger` is deprecated. In future, it will be treated as `np.int64 == np.dtype(int).type`.\n",
            "  if np.issubdtype(vec.dtype, np.int):\n"
          ],
          "name": "stderr"
        },
        {
          "output_type": "execute_result",
          "data": {
            "text/plain": [
              "[('trust', 0.38658279180526733),\n",
              " ('blah', 0.38056275248527527),\n",
              " ('mondays', 0.37763258814811707),\n",
              " ('dentist', 0.36581337451934814),\n",
              " ('kills', 0.36452096700668335),\n",
              " ('thunder', 0.3629508912563324),\n",
              " ('tryna', 0.355926513671875),\n",
              " ('gosh', 0.3522855043411255),\n",
              " ('become', 0.34842389822006226),\n",
              " ('grr', 0.3447277545928955)]"
            ]
          },
          "metadata": {
            "tags": []
          },
          "execution_count": 45
        }
      ]
    },
    {
      "cell_type": "code",
      "metadata": {
        "id": "OvbMCLpMMyLC",
        "colab_type": "code",
        "colab": {
          "base_uri": "https://localhost:8080/",
          "height": 272
        },
        "outputId": "eaf2159a-0c4b-47b8-fd64-73db2ab175c1"
      },
      "source": [
        "w2v_model.most_similar(\"cat\")"
      ],
      "execution_count": null,
      "outputs": [
        {
          "output_type": "stream",
          "text": [
            "/usr/local/lib/python3.6/dist-packages/ipykernel_launcher.py:1: DeprecationWarning: Call to deprecated `most_similar` (Method will be removed in 4.0.0, use self.wv.most_similar() instead).\n",
            "  \"\"\"Entry point for launching an IPython kernel.\n",
            "/usr/local/lib/python3.6/dist-packages/gensim/matutils.py:737: FutureWarning: Conversion of the second argument of issubdtype from `int` to `np.signedinteger` is deprecated. In future, it will be treated as `np.int64 == np.dtype(int).type`.\n",
            "  if np.issubdtype(vec.dtype, np.int):\n"
          ],
          "name": "stderr"
        },
        {
          "output_type": "execute_result",
          "data": {
            "text/plain": [
              "[('dog', 0.5921163558959961),\n",
              " ('purple', 0.5656636953353882),\n",
              " ('kitty', 0.5454989671707153),\n",
              " ('pig', 0.5278192758560181),\n",
              " ('mouse', 0.5033490657806396),\n",
              " ('allergic', 0.5013030171394348),\n",
              " ('tiny', 0.4950270652770996),\n",
              " ('cheese', 0.49360984563827515),\n",
              " ('attack', 0.492278516292572),\n",
              " ('bacon', 0.48947733640670776)]"
            ]
          },
          "metadata": {
            "tags": []
          },
          "execution_count": 46
        }
      ]
    },
    {
      "cell_type": "code",
      "metadata": {
        "id": "ZMz2GivhM2-m",
        "colab_type": "code",
        "colab": {
          "base_uri": "https://localhost:8080/",
          "height": 272
        },
        "outputId": "7613b67d-d5ee-4cf4-ba11-2d953dc7a6fa"
      },
      "source": [
        "w2v_model.most_similar(\"amazon\")"
      ],
      "execution_count": null,
      "outputs": [
        {
          "output_type": "stream",
          "text": [
            "/usr/local/lib/python3.6/dist-packages/ipykernel_launcher.py:1: DeprecationWarning: Call to deprecated `most_similar` (Method will be removed in 4.0.0, use self.wv.most_similar() instead).\n",
            "  \"\"\"Entry point for launching an IPython kernel.\n",
            "/usr/local/lib/python3.6/dist-packages/gensim/matutils.py:737: FutureWarning: Conversion of the second argument of issubdtype from `int` to `np.signedinteger` is deprecated. In future, it will be treated as `np.int64 == np.dtype(int).type`.\n",
            "  if np.issubdtype(vec.dtype, np.int):\n"
          ],
          "name": "stderr"
        },
        {
          "output_type": "execute_result",
          "data": {
            "text/plain": [
              "[('available', 0.7340680360794067),\n",
              " ('price', 0.6993118524551392),\n",
              " ('apple', 0.6766443848609924),\n",
              " ('development', 0.6569369435310364),\n",
              " ('download', 0.6534490585327148),\n",
              " ('itunes', 0.652937114238739),\n",
              " ('contract', 0.6364863514900208),\n",
              " ('software', 0.6347399353981018),\n",
              " ('pre', 0.6329661011695862),\n",
              " ('pro', 0.6320502758026123)]"
            ]
          },
          "metadata": {
            "tags": []
          },
          "execution_count": 47
        }
      ]
    },
    {
      "cell_type": "code",
      "metadata": {
        "id": "lHRyNs_RM7bL",
        "colab_type": "code",
        "colab": {
          "base_uri": "https://localhost:8080/",
          "height": 272
        },
        "outputId": "a3fc3f02-178d-4d12-81dd-287995806dfc"
      },
      "source": [
        "w2v_model.most_similar(\"google\")"
      ],
      "execution_count": null,
      "outputs": [
        {
          "output_type": "stream",
          "text": [
            "/usr/local/lib/python3.6/dist-packages/ipykernel_launcher.py:1: DeprecationWarning: Call to deprecated `most_similar` (Method will be removed in 4.0.0, use self.wv.most_similar() instead).\n",
            "  \"\"\"Entry point for launching an IPython kernel.\n",
            "/usr/local/lib/python3.6/dist-packages/gensim/matutils.py:737: FutureWarning: Conversion of the second argument of issubdtype from `int` to `np.signedinteger` is deprecated. In future, it will be treated as `np.int64 == np.dtype(int).type`.\n",
            "  if np.issubdtype(vec.dtype, np.int):\n"
          ],
          "name": "stderr"
        },
        {
          "output_type": "execute_result",
          "data": {
            "text/plain": [
              "[('wave', 0.7509877681732178),\n",
              " ('chrome', 0.7470871210098267),\n",
              " ('latest', 0.6934822797775269),\n",
              " ('search', 0.6771820187568665),\n",
              " ('installed', 0.6738530397415161),\n",
              " ('engine', 0.6684616208076477),\n",
              " ('page', 0.6663774251937866),\n",
              " ('images', 0.6581977605819702),\n",
              " ('logo', 0.6470873355865479),\n",
              " ('files', 0.6456501483917236)]"
            ]
          },
          "metadata": {
            "tags": []
          },
          "execution_count": 48
        }
      ]
    },
    {
      "cell_type": "code",
      "metadata": {
        "id": "yY_830qlM-uS",
        "colab_type": "code",
        "colab": {
          "base_uri": "https://localhost:8080/",
          "height": 272
        },
        "outputId": "687389be-dbef-4a6f-eda1-be15e6c0f483"
      },
      "source": [
        "w2v_model.most_similar(\"boy\")"
      ],
      "execution_count": null,
      "outputs": [
        {
          "output_type": "stream",
          "text": [
            "/usr/local/lib/python3.6/dist-packages/ipykernel_launcher.py:1: DeprecationWarning: Call to deprecated `most_similar` (Method will be removed in 4.0.0, use self.wv.most_similar() instead).\n",
            "  \"\"\"Entry point for launching an IPython kernel.\n",
            "/usr/local/lib/python3.6/dist-packages/gensim/matutils.py:737: FutureWarning: Conversion of the second argument of issubdtype from `int` to `np.signedinteger` is deprecated. In future, it will be treated as `np.int64 == np.dtype(int).type`.\n",
            "  if np.issubdtype(vec.dtype, np.int):\n"
          ],
          "name": "stderr"
        },
        {
          "output_type": "execute_result",
          "data": {
            "text/plain": [
              "[('chicken', 0.49199599027633667),\n",
              " ('imma', 0.48773637413978577),\n",
              " ('nick', 0.48140954971313477),\n",
              " ('cousin', 0.4678303897380829),\n",
              " ('girl', 0.4650040864944458),\n",
              " ('selena', 0.4576827883720398),\n",
              " ('cruel', 0.4569093585014343),\n",
              " ('aunt', 0.4564822018146515),\n",
              " ('shes', 0.4505733847618103),\n",
              " ('brown', 0.44399094581604004)]"
            ]
          },
          "metadata": {
            "tags": []
          },
          "execution_count": 49
        }
      ]
    },
    {
      "cell_type": "markdown",
      "metadata": {
        "id": "thVIYqKbOmM-",
        "colab_type": "text"
      },
      "source": [
        "# Lets start on training a NN based on the word2vec vocab"
      ]
    },
    {
      "cell_type": "markdown",
      "metadata": {
        "id": "EaRg371gOojK",
        "colab_type": "text"
      },
      "source": [
        "## Tokenizing the sentences"
      ]
    },
    {
      "cell_type": "code",
      "metadata": {
        "id": "eKzHBNowOj3E",
        "colab_type": "code",
        "colab": {
          "base_uri": "https://localhost:8080/"
        },
        "outputId": "bd2f543a-ca6d-490d-c395-8bf7c813521d"
      },
      "source": [
        "%%time\n",
        "tokenizer = Tokenizer()\n",
        "tokenizer.fit_on_texts(data_train.text)\n",
        "\n",
        "vocab_size = len(tokenizer.word_index) + 1\n",
        "print(\"Total words\", vocab_size)"
      ],
      "execution_count": null,
      "outputs": [
        {
          "output_type": "stream",
          "text": [
            "Total words 32828\n",
            "CPU times: user 574 ms, sys: 8.63 ms, total: 582 ms\n",
            "Wall time: 582 ms\n"
          ],
          "name": "stdout"
        }
      ]
    },
    {
      "cell_type": "markdown",
      "metadata": {
        "id": "_QkNraGePOCi",
        "colab_type": "text"
      },
      "source": [
        "## Preparing the dataset for feeding into neural network"
      ]
    },
    {
      "cell_type": "code",
      "metadata": {
        "id": "nt-VfjuvPGZ0",
        "colab_type": "code",
        "colab": {}
      },
      "source": [
        "SEQUENCE_LENGTH = 140 \n",
        "# KERAS\n",
        "SEQUENCE_LENGTH = 140\n",
        "EPOCHS = 8\n",
        "BATCH_SIZE = 1024"
      ],
      "execution_count": null,
      "outputs": []
    },
    {
      "cell_type": "markdown",
      "metadata": {
        "id": "q1gZzm9XPqhd",
        "colab_type": "text"
      },
      "source": [
        "### Padding sequences"
      ]
    },
    {
      "cell_type": "code",
      "metadata": {
        "id": "SVbLxipdO8gr",
        "colab_type": "code",
        "colab": {
          "base_uri": "https://localhost:8080/"
        },
        "outputId": "f0e580b8-1613-48a2-b6a6-d3aae6133cd3"
      },
      "source": [
        "%%time\n",
        "x_train = pad_sequences(tokenizer.texts_to_sequences(data_train.text), maxlen=SEQUENCE_LENGTH)\n",
        "x_test = pad_sequences(tokenizer.texts_to_sequences(data_test.text), maxlen=SEQUENCE_LENGTH)"
      ],
      "execution_count": null,
      "outputs": [
        {
          "output_type": "stream",
          "text": [
            "CPU times: user 786 ms, sys: 8.63 ms, total: 794 ms\n",
            "Wall time: 800 ms\n"
          ],
          "name": "stdout"
        }
      ]
    },
    {
      "cell_type": "markdown",
      "metadata": {
        "id": "c7dzYhT5OlZM",
        "colab_type": "text"
      },
      "source": [
        "### Encoding the labels"
      ]
    },
    {
      "cell_type": "code",
      "metadata": {
        "id": "ZjCSUhgWNdqC",
        "colab_type": "code",
        "colab": {
          "base_uri": "https://localhost:8080/"
        },
        "outputId": "1eada035-3cba-484d-ce95-8a286a1d4dd4"
      },
      "source": [
        "labels = data_train.target.unique().tolist()\n",
        "labels.append(\"NEUTRAL\")\n",
        "labels"
      ],
      "execution_count": null,
      "outputs": [
        {
          "output_type": "execute_result",
          "data": {
            "text/plain": [
              "['NEGATIVE', 'POSITIVE', 'NEUTRAL']"
            ]
          },
          "metadata": {
            "tags": []
          },
          "execution_count": 98
        }
      ]
    },
    {
      "cell_type": "code",
      "metadata": {
        "id": "LTyfiquiSCIz",
        "colab_type": "code",
        "colab": {
          "base_uri": "https://localhost:8080/"
        },
        "outputId": "7cbd528b-268d-482a-a99f-07fd71967616"
      },
      "source": [
        "# we get labelEncoder from sklearn preprocessing ; it takes input as a list of categories and transforms them into classes \n",
        "encoder = LabelEncoder()\n",
        "encoder.fit(data_train.target.tolist())\n",
        "\n",
        "y_train = encoder.transform(data_train.target)\n",
        "y_test = encoder.transform(data_test.target)\n",
        "\n",
        "# reshaping to avoid \n",
        "# y_train shapes as (1280000,)\n",
        "# y_test shapes as (320000,)\n",
        "y_train = y_train.reshape(-1,1)\n",
        "y_test = y_test.reshape(-1,1)\n",
        "\n",
        "print(\"y_train\",y_train.shape)\n",
        "print(\"y_test\",y_test.shape)"
      ],
      "execution_count": null,
      "outputs": [
        {
          "output_type": "error",
          "ename": "KeyboardInterrupt",
          "evalue": "ignored",
          "traceback": [
            "\u001b[0;31m---------------------------------------------------------------------------\u001b[0m",
            "\u001b[0;31mKeyboardInterrupt\u001b[0m                         Traceback (most recent call last)",
            "\u001b[0;32m<ipython-input-99-46d8e35e7a10>\u001b[0m in \u001b[0;36m<module>\u001b[0;34m()\u001b[0m\n\u001b[1;32m      3\u001b[0m \u001b[0mencoder\u001b[0m\u001b[0;34m.\u001b[0m\u001b[0mfit\u001b[0m\u001b[0;34m(\u001b[0m\u001b[0mdata_train\u001b[0m\u001b[0;34m.\u001b[0m\u001b[0mtarget\u001b[0m\u001b[0;34m.\u001b[0m\u001b[0mtolist\u001b[0m\u001b[0;34m(\u001b[0m\u001b[0;34m)\u001b[0m\u001b[0;34m)\u001b[0m\u001b[0;34m\u001b[0m\u001b[0;34m\u001b[0m\u001b[0m\n\u001b[1;32m      4\u001b[0m \u001b[0;34m\u001b[0m\u001b[0m\n\u001b[0;32m----> 5\u001b[0;31m \u001b[0my_train\u001b[0m \u001b[0;34m=\u001b[0m \u001b[0mencoder\u001b[0m\u001b[0;34m.\u001b[0m\u001b[0mtransform\u001b[0m\u001b[0;34m(\u001b[0m\u001b[0mdata_train\u001b[0m\u001b[0;34m.\u001b[0m\u001b[0mtarget\u001b[0m\u001b[0;34m)\u001b[0m\u001b[0;34m\u001b[0m\u001b[0;34m\u001b[0m\u001b[0m\n\u001b[0m\u001b[1;32m      6\u001b[0m \u001b[0my_test\u001b[0m \u001b[0;34m=\u001b[0m \u001b[0mencoder\u001b[0m\u001b[0;34m.\u001b[0m\u001b[0mtransform\u001b[0m\u001b[0;34m(\u001b[0m\u001b[0mdata_test\u001b[0m\u001b[0;34m.\u001b[0m\u001b[0mtarget\u001b[0m\u001b[0;34m)\u001b[0m\u001b[0;34m\u001b[0m\u001b[0;34m\u001b[0m\u001b[0m\n\u001b[1;32m      7\u001b[0m \u001b[0;34m\u001b[0m\u001b[0m\n",
            "\u001b[0;32m/usr/local/lib/python3.6/dist-packages/sklearn/preprocessing/_label.py\u001b[0m in \u001b[0;36mtransform\u001b[0;34m(self, y)\u001b[0m\n\u001b[1;32m    271\u001b[0m             \u001b[0;32mreturn\u001b[0m \u001b[0mnp\u001b[0m\u001b[0;34m.\u001b[0m\u001b[0marray\u001b[0m\u001b[0;34m(\u001b[0m\u001b[0;34m[\u001b[0m\u001b[0;34m]\u001b[0m\u001b[0;34m)\u001b[0m\u001b[0;34m\u001b[0m\u001b[0;34m\u001b[0m\u001b[0m\n\u001b[1;32m    272\u001b[0m \u001b[0;34m\u001b[0m\u001b[0m\n\u001b[0;32m--> 273\u001b[0;31m         \u001b[0m_\u001b[0m\u001b[0;34m,\u001b[0m \u001b[0my\u001b[0m \u001b[0;34m=\u001b[0m \u001b[0m_encode\u001b[0m\u001b[0;34m(\u001b[0m\u001b[0my\u001b[0m\u001b[0;34m,\u001b[0m \u001b[0muniques\u001b[0m\u001b[0;34m=\u001b[0m\u001b[0mself\u001b[0m\u001b[0;34m.\u001b[0m\u001b[0mclasses_\u001b[0m\u001b[0;34m,\u001b[0m \u001b[0mencode\u001b[0m\u001b[0;34m=\u001b[0m\u001b[0;32mTrue\u001b[0m\u001b[0;34m)\u001b[0m\u001b[0;34m\u001b[0m\u001b[0;34m\u001b[0m\u001b[0m\n\u001b[0m\u001b[1;32m    274\u001b[0m         \u001b[0;32mreturn\u001b[0m \u001b[0my\u001b[0m\u001b[0;34m\u001b[0m\u001b[0;34m\u001b[0m\u001b[0m\n\u001b[1;32m    275\u001b[0m \u001b[0;34m\u001b[0m\u001b[0m\n",
            "\u001b[0;32m/usr/local/lib/python3.6/dist-packages/sklearn/preprocessing/_label.py\u001b[0m in \u001b[0;36m_encode\u001b[0;34m(values, uniques, encode, check_unknown)\u001b[0m\n\u001b[1;32m    110\u001b[0m     \u001b[0;32mif\u001b[0m \u001b[0mvalues\u001b[0m\u001b[0;34m.\u001b[0m\u001b[0mdtype\u001b[0m \u001b[0;34m==\u001b[0m \u001b[0mobject\u001b[0m\u001b[0;34m:\u001b[0m\u001b[0;34m\u001b[0m\u001b[0;34m\u001b[0m\u001b[0m\n\u001b[1;32m    111\u001b[0m         \u001b[0;32mtry\u001b[0m\u001b[0;34m:\u001b[0m\u001b[0;34m\u001b[0m\u001b[0;34m\u001b[0m\u001b[0m\n\u001b[0;32m--> 112\u001b[0;31m             \u001b[0mres\u001b[0m \u001b[0;34m=\u001b[0m \u001b[0m_encode_python\u001b[0m\u001b[0;34m(\u001b[0m\u001b[0mvalues\u001b[0m\u001b[0;34m,\u001b[0m \u001b[0muniques\u001b[0m\u001b[0;34m,\u001b[0m \u001b[0mencode\u001b[0m\u001b[0;34m)\u001b[0m\u001b[0;34m\u001b[0m\u001b[0;34m\u001b[0m\u001b[0m\n\u001b[0m\u001b[1;32m    113\u001b[0m         \u001b[0;32mexcept\u001b[0m \u001b[0mTypeError\u001b[0m\u001b[0;34m:\u001b[0m\u001b[0;34m\u001b[0m\u001b[0;34m\u001b[0m\u001b[0m\n\u001b[1;32m    114\u001b[0m             \u001b[0;32mraise\u001b[0m \u001b[0mTypeError\u001b[0m\u001b[0;34m(\u001b[0m\u001b[0;34m\"argument must be a string or number\"\u001b[0m\u001b[0;34m)\u001b[0m\u001b[0;34m\u001b[0m\u001b[0;34m\u001b[0m\u001b[0m\n",
            "\u001b[0;32m/usr/local/lib/python3.6/dist-packages/sklearn/preprocessing/_label.py\u001b[0m in \u001b[0;36m_encode_python\u001b[0;34m(values, uniques, encode)\u001b[0m\n\u001b[1;32m     63\u001b[0m         \u001b[0mtable\u001b[0m \u001b[0;34m=\u001b[0m \u001b[0;34m{\u001b[0m\u001b[0mval\u001b[0m\u001b[0;34m:\u001b[0m \u001b[0mi\u001b[0m \u001b[0;32mfor\u001b[0m \u001b[0mi\u001b[0m\u001b[0;34m,\u001b[0m \u001b[0mval\u001b[0m \u001b[0;32min\u001b[0m \u001b[0menumerate\u001b[0m\u001b[0;34m(\u001b[0m\u001b[0muniques\u001b[0m\u001b[0;34m)\u001b[0m\u001b[0;34m}\u001b[0m\u001b[0;34m\u001b[0m\u001b[0;34m\u001b[0m\u001b[0m\n\u001b[1;32m     64\u001b[0m         \u001b[0;32mtry\u001b[0m\u001b[0;34m:\u001b[0m\u001b[0;34m\u001b[0m\u001b[0;34m\u001b[0m\u001b[0m\n\u001b[0;32m---> 65\u001b[0;31m             \u001b[0mencoded\u001b[0m \u001b[0;34m=\u001b[0m \u001b[0mnp\u001b[0m\u001b[0;34m.\u001b[0m\u001b[0marray\u001b[0m\u001b[0;34m(\u001b[0m\u001b[0;34m[\u001b[0m\u001b[0mtable\u001b[0m\u001b[0;34m[\u001b[0m\u001b[0mv\u001b[0m\u001b[0;34m]\u001b[0m \u001b[0;32mfor\u001b[0m \u001b[0mv\u001b[0m \u001b[0;32min\u001b[0m \u001b[0mvalues\u001b[0m\u001b[0;34m]\u001b[0m\u001b[0;34m)\u001b[0m\u001b[0;34m\u001b[0m\u001b[0;34m\u001b[0m\u001b[0m\n\u001b[0m\u001b[1;32m     66\u001b[0m         \u001b[0;32mexcept\u001b[0m \u001b[0mKeyError\u001b[0m \u001b[0;32mas\u001b[0m \u001b[0me\u001b[0m\u001b[0;34m:\u001b[0m\u001b[0;34m\u001b[0m\u001b[0;34m\u001b[0m\u001b[0m\n\u001b[1;32m     67\u001b[0m             raise ValueError(\"y contains previously unseen labels: %s\"\n",
            "\u001b[0;31mKeyboardInterrupt\u001b[0m: "
          ]
        }
      ]
    },
    {
      "cell_type": "markdown",
      "metadata": {
        "id": "tRJEkD2xTSDd",
        "colab_type": "text"
      },
      "source": [
        "### lets look at shapes for training and test sets with labels"
      ]
    },
    {
      "cell_type": "code",
      "metadata": {
        "id": "qnOZorTeT2S4",
        "colab_type": "code",
        "colab": {}
      },
      "source": [
        "print(\"x_train\", x_train.shape)\n",
        "print(\"y_train\", y_train.shape)\n",
        "print()\n",
        "print(\"x_test\", x_test.shape)\n",
        "print(\"y_test\", y_test.shape)"
      ],
      "execution_count": null,
      "outputs": []
    },
    {
      "cell_type": "code",
      "metadata": {
        "id": "tlN02Ww8UUqF",
        "colab_type": "code",
        "colab": {}
      },
      "source": [
        "y_train[:10]"
      ],
      "execution_count": null,
      "outputs": []
    },
    {
      "cell_type": "markdown",
      "metadata": {
        "id": "dhkWN95FYVTZ",
        "colab_type": "text"
      },
      "source": [
        "## Using trained Word2vec to define Embedding layer"
      ]
    },
    {
      "cell_type": "markdown",
      "metadata": {
        "id": "uWyjY0e8akn4",
        "colab_type": "text"
      },
      "source": [
        "### defining embedding matrix which can be used as a weight for training"
      ]
    },
    {
      "cell_type": "code",
      "metadata": {
        "id": "wlj99BWvVTDY",
        "colab_type": "code",
        "colab": {}
      },
      "source": [
        "embedding_matrix = np.zeros((vocab_size, 300))\n",
        "for word, i in tokenizer.word_index.items():\n",
        "  if word in w2v_model.wv:\n",
        "    embedding_matrix[i] = w2v_model.wv[word]\n",
        "print(embedding_matrix.shape)"
      ],
      "execution_count": null,
      "outputs": []
    },
    {
      "cell_type": "markdown",
      "metadata": {
        "id": "NxiH-sbPZpTX",
        "colab_type": "text"
      },
      "source": [
        "### Lets see what tokenizer can do"
      ]
    },
    {
      "cell_type": "code",
      "metadata": {
        "id": "UBAvYwoEZFxf",
        "colab_type": "code",
        "colab": {}
      },
      "source": [
        "tokenizer.word_counts"
      ],
      "execution_count": null,
      "outputs": []
    },
    {
      "cell_type": "code",
      "metadata": {
        "id": "epJJ9-iCZunY",
        "colab_type": "code",
        "colab": {}
      },
      "source": [
        "tokenizer.word_index"
      ],
      "execution_count": null,
      "outputs": []
    },
    {
      "cell_type": "code",
      "metadata": {
        "id": "5mwfuCusX874",
        "colab_type": "code",
        "colab": {}
      },
      "source": [
        "w2v_model.save('word2VecwithSTOP_50k.model')"
      ],
      "execution_count": null,
      "outputs": []
    },
    {
      "cell_type": "markdown",
      "metadata": {
        "id": "oLSMSLTQaErh",
        "colab_type": "text"
      },
      "source": [
        "### creating Embedding layer from word2vec"
      ]
    },
    {
      "cell_type": "code",
      "metadata": {
        "id": "0aJPNawbYv8Q",
        "colab_type": "code",
        "colab": {}
      },
      "source": [
        "embedding_layer = Embedding(vocab_size, 300, weights=[embedding_matrix], input_length=SEQUENCE_LENGTH, trainable=False)"
      ],
      "execution_count": null,
      "outputs": []
    },
    {
      "cell_type": "code",
      "metadata": {
        "id": "adiEWZejbSIW",
        "colab_type": "code",
        "colab": {
          "base_uri": "https://localhost:8080/",
          "height": 286
        },
        "outputId": "39ed506b-fa50-4ee9-930d-77840ec26609"
      },
      "source": [
        "model = Sequential()\n",
        "model.add(embedding_layer)\n",
        "model.add(LSTM(100))\n",
        "model.add(Dense(10, activation = \"relu\"))\n",
        "model.add(Dense(1, activation='sigmoid'))\n",
        "\n",
        "\n",
        "model.summary()"
      ],
      "execution_count": null,
      "outputs": [
        {
          "output_type": "stream",
          "text": [
            "Model: \"sequential_13\"\n",
            "_________________________________________________________________\n",
            "Layer (type)                 Output Shape              Param #   \n",
            "=================================================================\n",
            "embedding_2 (Embedding)      (None, 140, 300)          9848400   \n",
            "_________________________________________________________________\n",
            "lstm_14 (LSTM)               (None, 100)               160400    \n",
            "_________________________________________________________________\n",
            "dense_21 (Dense)             (None, 10)                1010      \n",
            "_________________________________________________________________\n",
            "dense_22 (Dense)             (None, 1)                 11        \n",
            "=================================================================\n",
            "Total params: 10,009,821\n",
            "Trainable params: 161,421\n",
            "Non-trainable params: 9,848,400\n",
            "_________________________________________________________________\n"
          ],
          "name": "stdout"
        }
      ]
    },
    {
      "cell_type": "code",
      "metadata": {
        "id": "aArmIfHcbbP-",
        "colab_type": "code",
        "colab": {}
      },
      "source": [
        "model.compile(loss='binary_crossentropy',\n",
        "              optimizer=\"adam\",\n",
        "              metrics=['accuracy'])"
      ],
      "execution_count": null,
      "outputs": []
    },
    {
      "cell_type": "code",
      "metadata": {
        "id": "FCSpHd-CbhjI",
        "colab_type": "code",
        "colab": {}
      },
      "source": [
        "callbacks = [ ReduceLROnPlateau(monitor='val_loss', patience=5, cooldown=0),\n",
        "              EarlyStopping(monitor='val_acc', min_delta=1e-4, patience=5)]"
      ],
      "execution_count": null,
      "outputs": []
    },
    {
      "cell_type": "code",
      "metadata": {
        "id": "YsBjRxWNboaX",
        "colab_type": "code",
        "colab": {
          "base_uri": "https://localhost:8080/",
          "height": 286
        },
        "outputId": "e57dbed5-6f69-47a5-d20b-f219289cd96d"
      },
      "source": [
        "%%time\n",
        "history = model.fit(x_train, y_train,\n",
        "                    batch_size=BATCH_SIZE,\n",
        "                    epochs=7,\n",
        "                    validation_split=0.1,\n",
        "                    verbose=1)"
      ],
      "execution_count": null,
      "outputs": [
        {
          "output_type": "stream",
          "text": [
            "Epoch 1/7\n",
            "36/36 [==============================] - 7s 201ms/step - loss: 0.5794 - accuracy: 0.6934 - val_loss: 0.5261 - val_accuracy: 0.7375\n",
            "Epoch 2/7\n",
            "36/36 [==============================] - 7s 186ms/step - loss: 0.5191 - accuracy: 0.7432 - val_loss: 0.5115 - val_accuracy: 0.7452\n",
            "Epoch 3/7\n",
            "36/36 [==============================] - 7s 186ms/step - loss: 0.5016 - accuracy: 0.7554 - val_loss: 0.5061 - val_accuracy: 0.7437\n",
            "Epoch 4/7\n",
            "36/36 [==============================] - 7s 186ms/step - loss: 0.4877 - accuracy: 0.7642 - val_loss: 0.5002 - val_accuracy: 0.7525\n",
            "Epoch 5/7\n",
            "36/36 [==============================] - 7s 187ms/step - loss: 0.4763 - accuracy: 0.7693 - val_loss: 0.4997 - val_accuracy: 0.7452\n",
            "Epoch 6/7\n",
            "36/36 [==============================] - 7s 186ms/step - loss: 0.4635 - accuracy: 0.7776 - val_loss: 0.4929 - val_accuracy: 0.7480\n",
            "Epoch 7/7\n",
            "36/36 [==============================] - 7s 187ms/step - loss: 0.4531 - accuracy: 0.7833 - val_loss: 0.4950 - val_accuracy: 0.7540\n",
            "CPU times: user 35.6 s, sys: 8.85 s, total: 44.4 s\n",
            "Wall time: 50.1 s\n"
          ],
          "name": "stdout"
        }
      ]
    },
    {
      "cell_type": "code",
      "metadata": {
        "id": "xtCaWVYLv9Oe",
        "colab_type": "code",
        "colab": {
          "base_uri": "https://localhost:8080/",
          "height": 34
        },
        "outputId": "bf567c47-743d-44c0-b7b5-4be014777d5b"
      },
      "source": [
        "model.save(\"baseword2vec8aug1\")"
      ],
      "execution_count": null,
      "outputs": [
        {
          "output_type": "stream",
          "text": [
            "INFO:tensorflow:Assets written to: baseword2vec8aug1/assets\n"
          ],
          "name": "stdout"
        }
      ]
    },
    {
      "cell_type": "code",
      "metadata": {
        "id": "INrcv5Leor7D",
        "colab_type": "code",
        "colab": {}
      },
      "source": [
        "    model1 = Sequential()\n",
        "    model1.add(embedding_layer)\n",
        "    model1.add(Bidirectional(LSTM(10, return_sequences = True)))\n",
        "    model1.add(Bidirectional(LSTM(10)))\n",
        "    model1.add(Dense((10)))\n",
        "    model1.add(Dense(1, activation = \"sigmoid\"))"
      ],
      "execution_count": null,
      "outputs": []
    },
    {
      "cell_type": "code",
      "metadata": {
        "id": "SZTBORZPo03p",
        "colab_type": "code",
        "colab": {}
      },
      "source": [
        "model1.compile(loss='binary_crossentropy',\n",
        "              optimizer=\"adam\",\n",
        "              metrics=['accuracy'])"
      ],
      "execution_count": null,
      "outputs": []
    },
    {
      "cell_type": "code",
      "metadata": {
        "id": "IkPRx0e0o9bd",
        "colab_type": "code",
        "colab": {
          "base_uri": "https://localhost:8080/",
          "height": 642
        },
        "outputId": "05f6494c-3dd8-4507-83d2-94dd34c1e855"
      },
      "source": [
        "history = model1.fit(x_train, y_train,\n",
        "                    batch_size=BATCH_SIZE,\n",
        "                    epochs=12,\n",
        "                    validation_split=0.1,\n",
        "                    verbose=1,\n",
        "                    callbacks=callbacks)"
      ],
      "execution_count": null,
      "outputs": [
        {
          "output_type": "stream",
          "text": [
            "Epoch 1/12\n",
            "36/36 [==============================] - ETA: 0s - loss: 0.6345 - accuracy: 0.6707WARNING:tensorflow:Early stopping conditioned on metric `val_acc` which is not available. Available metrics are: loss,accuracy,val_loss,val_accuracy,lr\n",
            "36/36 [==============================] - 9s 239ms/step - loss: 0.6345 - accuracy: 0.6707 - val_loss: 0.5625 - val_accuracy: 0.7165\n",
            "Epoch 2/12\n",
            "36/36 [==============================] - ETA: 0s - loss: 0.5434 - accuracy: 0.7283WARNING:tensorflow:Early stopping conditioned on metric `val_acc` which is not available. Available metrics are: loss,accuracy,val_loss,val_accuracy,lr\n",
            "36/36 [==============================] - 7s 186ms/step - loss: 0.5434 - accuracy: 0.7283 - val_loss: 0.5195 - val_accuracy: 0.7410\n",
            "Epoch 3/12\n",
            "36/36 [==============================] - ETA: 0s - loss: 0.5149 - accuracy: 0.7471WARNING:tensorflow:Early stopping conditioned on metric `val_acc` which is not available. Available metrics are: loss,accuracy,val_loss,val_accuracy,lr\n",
            "36/36 [==============================] - 7s 186ms/step - loss: 0.5149 - accuracy: 0.7471 - val_loss: 0.5072 - val_accuracy: 0.7505\n",
            "Epoch 4/12\n",
            "36/36 [==============================] - ETA: 0s - loss: 0.5004 - accuracy: 0.7534WARNING:tensorflow:Early stopping conditioned on metric `val_acc` which is not available. Available metrics are: loss,accuracy,val_loss,val_accuracy,lr\n",
            "36/36 [==============================] - 7s 187ms/step - loss: 0.5004 - accuracy: 0.7534 - val_loss: 0.5027 - val_accuracy: 0.7487\n",
            "Epoch 5/12\n",
            "36/36 [==============================] - ETA: 0s - loss: 0.4915 - accuracy: 0.7581WARNING:tensorflow:Early stopping conditioned on metric `val_acc` which is not available. Available metrics are: loss,accuracy,val_loss,val_accuracy,lr\n",
            "36/36 [==============================] - 7s 183ms/step - loss: 0.4915 - accuracy: 0.7581 - val_loss: 0.4994 - val_accuracy: 0.7540\n",
            "Epoch 6/12\n",
            "36/36 [==============================] - ETA: 0s - loss: 0.4839 - accuracy: 0.7653WARNING:tensorflow:Early stopping conditioned on metric `val_acc` which is not available. Available metrics are: loss,accuracy,val_loss,val_accuracy,lr\n",
            "36/36 [==============================] - 7s 184ms/step - loss: 0.4839 - accuracy: 0.7653 - val_loss: 0.4958 - val_accuracy: 0.7533\n",
            "Epoch 7/12\n",
            "36/36 [==============================] - ETA: 0s - loss: 0.4775 - accuracy: 0.7664WARNING:tensorflow:Early stopping conditioned on metric `val_acc` which is not available. Available metrics are: loss,accuracy,val_loss,val_accuracy,lr\n",
            "36/36 [==============================] - 7s 186ms/step - loss: 0.4775 - accuracy: 0.7664 - val_loss: 0.4961 - val_accuracy: 0.7505\n",
            "Epoch 8/12\n",
            "36/36 [==============================] - ETA: 0s - loss: 0.4720 - accuracy: 0.7700WARNING:tensorflow:Early stopping conditioned on metric `val_acc` which is not available. Available metrics are: loss,accuracy,val_loss,val_accuracy,lr\n",
            "36/36 [==============================] - 7s 185ms/step - loss: 0.4720 - accuracy: 0.7700 - val_loss: 0.4942 - val_accuracy: 0.7555\n",
            "Epoch 9/12\n",
            "36/36 [==============================] - ETA: 0s - loss: 0.4670 - accuracy: 0.7721WARNING:tensorflow:Early stopping conditioned on metric `val_acc` which is not available. Available metrics are: loss,accuracy,val_loss,val_accuracy,lr\n",
            "36/36 [==============================] - 7s 184ms/step - loss: 0.4670 - accuracy: 0.7721 - val_loss: 0.4958 - val_accuracy: 0.7515\n",
            "Epoch 10/12\n",
            "36/36 [==============================] - ETA: 0s - loss: 0.4624 - accuracy: 0.7751WARNING:tensorflow:Early stopping conditioned on metric `val_acc` which is not available. Available metrics are: loss,accuracy,val_loss,val_accuracy,lr\n",
            "36/36 [==============================] - 7s 183ms/step - loss: 0.4624 - accuracy: 0.7751 - val_loss: 0.4990 - val_accuracy: 0.7523\n",
            "Epoch 11/12\n",
            "36/36 [==============================] - ETA: 0s - loss: 0.4581 - accuracy: 0.7779WARNING:tensorflow:Early stopping conditioned on metric `val_acc` which is not available. Available metrics are: loss,accuracy,val_loss,val_accuracy,lr\n",
            "36/36 [==============================] - 7s 184ms/step - loss: 0.4581 - accuracy: 0.7779 - val_loss: 0.4976 - val_accuracy: 0.7483\n",
            "Epoch 12/12\n",
            "36/36 [==============================] - ETA: 0s - loss: 0.4529 - accuracy: 0.7814WARNING:tensorflow:Early stopping conditioned on metric `val_acc` which is not available. Available metrics are: loss,accuracy,val_loss,val_accuracy,lr\n",
            "36/36 [==============================] - 7s 185ms/step - loss: 0.4529 - accuracy: 0.7814 - val_loss: 0.4987 - val_accuracy: 0.7520\n"
          ],
          "name": "stdout"
        }
      ]
    },
    {
      "cell_type": "code",
      "metadata": {
        "id": "O-4HUcwNxKC7",
        "colab_type": "code",
        "colab": {
          "base_uri": "https://localhost:8080/",
          "height": 319
        },
        "outputId": "631f91c4-e433-4d59-a693-2e7e1b1aede6"
      },
      "source": [
        "model1.summary()"
      ],
      "execution_count": null,
      "outputs": [
        {
          "output_type": "stream",
          "text": [
            "Model: \"sequential_14\"\n",
            "_________________________________________________________________\n",
            "Layer (type)                 Output Shape              Param #   \n",
            "=================================================================\n",
            "embedding_2 (Embedding)      (None, 140, 300)          9848400   \n",
            "_________________________________________________________________\n",
            "bidirectional_10 (Bidirectio (None, 140, 20)           24880     \n",
            "_________________________________________________________________\n",
            "bidirectional_11 (Bidirectio (None, 20)                2480      \n",
            "_________________________________________________________________\n",
            "dense_23 (Dense)             (None, 10)                210       \n",
            "_________________________________________________________________\n",
            "dense_24 (Dense)             (None, 1)                 11        \n",
            "=================================================================\n",
            "Total params: 9,875,981\n",
            "Trainable params: 27,581\n",
            "Non-trainable params: 9,848,400\n",
            "_________________________________________________________________\n"
          ],
          "name": "stdout"
        }
      ]
    },
    {
      "cell_type": "code",
      "metadata": {
        "id": "Y_N4axHhyCCX",
        "colab_type": "code",
        "colab": {}
      },
      "source": [
        "    model2 = Sequential()\n",
        "    model2.add(embedding_layer)\n",
        "    model2.add(Bidirectional(LSTM(20, return_sequences = True)))\n",
        "    model2.add(Bidirectional(LSTM(10)))\n",
        "    model2.add(Dense((5)))\n",
        "    model2.add(Dense(1, activation = \"sigmoid\"))"
      ],
      "execution_count": null,
      "outputs": []
    },
    {
      "cell_type": "code",
      "metadata": {
        "id": "8nphQmdxyJW1",
        "colab_type": "code",
        "colab": {
          "base_uri": "https://localhost:8080/",
          "height": 319
        },
        "outputId": "2bf339c1-c819-45c2-de0d-339bfabdc7e5"
      },
      "source": [
        "model2.summary()"
      ],
      "execution_count": null,
      "outputs": [
        {
          "output_type": "stream",
          "text": [
            "Model: \"sequential_15\"\n",
            "_________________________________________________________________\n",
            "Layer (type)                 Output Shape              Param #   \n",
            "=================================================================\n",
            "embedding_2 (Embedding)      (None, 140, 300)          9848400   \n",
            "_________________________________________________________________\n",
            "bidirectional_12 (Bidirectio (None, 140, 40)           51360     \n",
            "_________________________________________________________________\n",
            "bidirectional_13 (Bidirectio (None, 20)                4080      \n",
            "_________________________________________________________________\n",
            "dense_25 (Dense)             (None, 5)                 105       \n",
            "_________________________________________________________________\n",
            "dense_26 (Dense)             (None, 1)                 6         \n",
            "=================================================================\n",
            "Total params: 9,903,951\n",
            "Trainable params: 55,551\n",
            "Non-trainable params: 9,848,400\n",
            "_________________________________________________________________\n"
          ],
          "name": "stdout"
        }
      ]
    },
    {
      "cell_type": "code",
      "metadata": {
        "id": "haceAagQyWcY",
        "colab_type": "code",
        "colab": {}
      },
      "source": [
        "model2.compile(loss='binary_crossentropy',\n",
        "              optimizer=\"adam\",\n",
        "              metrics=['accuracy'])"
      ],
      "execution_count": null,
      "outputs": []
    },
    {
      "cell_type": "code",
      "metadata": {
        "id": "tdQlbr-fyPhX",
        "colab_type": "code",
        "colab": {
          "base_uri": "https://localhost:8080/",
          "height": 487
        },
        "outputId": "202c34eb-7b33-4516-a921-17df9637940a"
      },
      "source": [
        "history = model2.fit(x_train, y_train,\n",
        "                    batch_size=BATCH_SIZE,\n",
        "                    epochs=14,\n",
        "                    validation_split=0.1,\n",
        "                    verbose=1)"
      ],
      "execution_count": null,
      "outputs": [
        {
          "output_type": "stream",
          "text": [
            "Epoch 1/14\n",
            "36/36 [==============================] - 9s 249ms/step - loss: 0.6051 - accuracy: 0.6916 - val_loss: 0.5394 - val_accuracy: 0.7280\n",
            "Epoch 2/14\n",
            "36/36 [==============================] - 7s 204ms/step - loss: 0.5273 - accuracy: 0.7405 - val_loss: 0.5127 - val_accuracy: 0.7458\n",
            "Epoch 3/14\n",
            "36/36 [==============================] - 7s 207ms/step - loss: 0.5065 - accuracy: 0.7527 - val_loss: 0.5027 - val_accuracy: 0.7492\n",
            "Epoch 4/14\n",
            "36/36 [==============================] - 7s 206ms/step - loss: 0.4927 - accuracy: 0.7615 - val_loss: 0.4980 - val_accuracy: 0.7558\n",
            "Epoch 5/14\n",
            "36/36 [==============================] - 7s 205ms/step - loss: 0.4821 - accuracy: 0.7672 - val_loss: 0.4958 - val_accuracy: 0.7552\n",
            "Epoch 6/14\n",
            "36/36 [==============================] - 7s 205ms/step - loss: 0.4732 - accuracy: 0.7724 - val_loss: 0.4953 - val_accuracy: 0.7480\n",
            "Epoch 7/14\n",
            "36/36 [==============================] - 7s 204ms/step - loss: 0.4646 - accuracy: 0.7782 - val_loss: 0.4923 - val_accuracy: 0.7540\n",
            "Epoch 8/14\n",
            "36/36 [==============================] - 7s 206ms/step - loss: 0.4565 - accuracy: 0.7846 - val_loss: 0.4952 - val_accuracy: 0.7485\n",
            "Epoch 9/14\n",
            "36/36 [==============================] - 7s 206ms/step - loss: 0.4482 - accuracy: 0.7878 - val_loss: 0.4962 - val_accuracy: 0.7577\n",
            "Epoch 10/14\n",
            "36/36 [==============================] - 7s 206ms/step - loss: 0.4399 - accuracy: 0.7928 - val_loss: 0.5037 - val_accuracy: 0.7487\n",
            "Epoch 11/14\n",
            "36/36 [==============================] - 7s 203ms/step - loss: 0.4330 - accuracy: 0.7969 - val_loss: 0.5109 - val_accuracy: 0.7513\n",
            "Epoch 12/14\n",
            "36/36 [==============================] - 7s 203ms/step - loss: 0.4263 - accuracy: 0.8020 - val_loss: 0.5041 - val_accuracy: 0.7475\n",
            "Epoch 13/14\n",
            "36/36 [==============================] - 7s 204ms/step - loss: 0.4183 - accuracy: 0.8058 - val_loss: 0.5137 - val_accuracy: 0.7465\n",
            "Epoch 14/14\n",
            "36/36 [==============================] - 7s 202ms/step - loss: 0.4114 - accuracy: 0.8101 - val_loss: 0.5213 - val_accuracy: 0.7485\n"
          ],
          "name": "stdout"
        }
      ]
    },
    {
      "cell_type": "code",
      "metadata": {
        "id": "J6wqXV4jzETM",
        "colab_type": "code",
        "colab": {}
      },
      "source": [
        "    model4 = Sequential()\n",
        "    model4.add(embedding_layer)\n",
        "    model4.add(LSTM(20, return_sequences = True))\n",
        "    model4.add((LSTM(10)))\n",
        "    model4.add(Dense((5)))\n",
        "    model4.add(Dense(1, activation = \"sigmoid\"))"
      ],
      "execution_count": null,
      "outputs": []
    },
    {
      "cell_type": "code",
      "metadata": {
        "id": "7K7SBM0OzV3C",
        "colab_type": "code",
        "colab": {}
      },
      "source": [
        "model4.compile(loss='binary_crossentropy',\n",
        "              optimizer=\"adam\",\n",
        "              metrics=['accuracy'])"
      ],
      "execution_count": null,
      "outputs": []
    },
    {
      "cell_type": "code",
      "metadata": {
        "id": "gwvqM9GXzd7G",
        "colab_type": "code",
        "colab": {
          "base_uri": "https://localhost:8080/",
          "height": 319
        },
        "outputId": "025f8110-e90d-491e-92cc-4cb74b243c54"
      },
      "source": [
        "model4.summary()"
      ],
      "execution_count": null,
      "outputs": [
        {
          "output_type": "stream",
          "text": [
            "Model: \"sequential_16\"\n",
            "_________________________________________________________________\n",
            "Layer (type)                 Output Shape              Param #   \n",
            "=================================================================\n",
            "embedding_2 (Embedding)      (None, 140, 300)          9848400   \n",
            "_________________________________________________________________\n",
            "lstm_19 (LSTM)               (None, 140, 20)           25680     \n",
            "_________________________________________________________________\n",
            "lstm_20 (LSTM)               (None, 10)                1240      \n",
            "_________________________________________________________________\n",
            "dense_27 (Dense)             (None, 5)                 55        \n",
            "_________________________________________________________________\n",
            "dense_28 (Dense)             (None, 1)                 6         \n",
            "=================================================================\n",
            "Total params: 9,875,381\n",
            "Trainable params: 26,981\n",
            "Non-trainable params: 9,848,400\n",
            "_________________________________________________________________\n"
          ],
          "name": "stdout"
        }
      ]
    },
    {
      "cell_type": "code",
      "metadata": {
        "id": "kK8weRZczf1r",
        "colab_type": "code",
        "colab": {
          "base_uri": "https://localhost:8080/",
          "height": 252
        },
        "outputId": "7295d26e-7c4b-4be5-fa25-d198b33c6ead"
      },
      "source": [
        "history = model4.fit(x_train, y_train,\n",
        "                    batch_size=BATCH_SIZE,\n",
        "                    epochs=7,\n",
        "                    validation_split=0.1,\n",
        "                    verbose=1)"
      ],
      "execution_count": null,
      "outputs": [
        {
          "output_type": "stream",
          "text": [
            "Epoch 1/7\n",
            "36/36 [==============================] - 5s 146ms/step - loss: 0.6278 - accuracy: 0.6722 - val_loss: 0.5628 - val_accuracy: 0.7180\n",
            "Epoch 2/7\n",
            "36/36 [==============================] - 4s 120ms/step - loss: 0.5453 - accuracy: 0.7291 - val_loss: 0.5231 - val_accuracy: 0.7410\n",
            "Epoch 3/7\n",
            "36/36 [==============================] - 4s 119ms/step - loss: 0.5192 - accuracy: 0.7435 - val_loss: 0.5095 - val_accuracy: 0.7460\n",
            "Epoch 4/7\n",
            "36/36 [==============================] - 4s 121ms/step - loss: 0.5046 - accuracy: 0.7527 - val_loss: 0.5031 - val_accuracy: 0.7483\n",
            "Epoch 5/7\n",
            "36/36 [==============================] - 4s 121ms/step - loss: 0.4945 - accuracy: 0.7587 - val_loss: 0.4996 - val_accuracy: 0.7515\n",
            "Epoch 6/7\n",
            "36/36 [==============================] - 4s 121ms/step - loss: 0.4866 - accuracy: 0.7638 - val_loss: 0.4970 - val_accuracy: 0.7542\n",
            "Epoch 7/7\n",
            "36/36 [==============================] - 4s 120ms/step - loss: 0.4793 - accuracy: 0.7672 - val_loss: 0.4955 - val_accuracy: 0.7573\n"
          ],
          "name": "stdout"
        }
      ]
    },
    {
      "cell_type": "code",
      "metadata": {
        "id": "-EixBzhF0uRq",
        "colab_type": "code",
        "colab": {
          "base_uri": "https://localhost:8080/",
          "height": 655
        },
        "outputId": "07561dfa-f24e-41c5-cdb2-8011cdd85df2"
      },
      "source": [
        "model5 = Sequential()\n",
        "model5.add(embedding_layer)\n",
        "model5.add(Conv1D(filters=128, kernel_size=5, padding='same', activation='relu'))\n",
        "model5.add(MaxPooling1D(pool_size=2))\n",
        "model5.add(Dropout(0.2))\n",
        "model5.add(Conv1D(filters=64, kernel_size=6, padding='same', activation='relu'))\n",
        "model5.add(MaxPooling1D(pool_size=2))\n",
        "model5.add(Dropout(0.2))\n",
        "model5.add(Conv1D(filters=32, kernel_size=7, padding='same', activation='relu'))\n",
        "model5.add(MaxPooling1D(pool_size=2))\n",
        "model5.add(Dropout(0.2))\n",
        "model5.add(Conv1D(filters=32, kernel_size=8, padding='same', activation='relu'))\n",
        "model5.add(MaxPooling1D(pool_size=2))\n",
        "model5.add(Dropout(0.2))\n",
        "model5.add(Flatten())\n",
        "model5.add(Dense(1,activation='sigmoid'))\n",
        "\n",
        "model5.compile(loss='binary_crossentropy', optimizer='adam', metrics=['accuracy'])\n",
        "model5.summary()"
      ],
      "execution_count": null,
      "outputs": [
        {
          "output_type": "stream",
          "text": [
            "Model: \"sequential_17\"\n",
            "_________________________________________________________________\n",
            "Layer (type)                 Output Shape              Param #   \n",
            "=================================================================\n",
            "embedding_2 (Embedding)      (None, 140, 300)          9848400   \n",
            "_________________________________________________________________\n",
            "conv1d_20 (Conv1D)           (None, 140, 128)          192128    \n",
            "_________________________________________________________________\n",
            "max_pooling1d_20 (MaxPooling (None, 70, 128)           0         \n",
            "_________________________________________________________________\n",
            "dropout_20 (Dropout)         (None, 70, 128)           0         \n",
            "_________________________________________________________________\n",
            "conv1d_21 (Conv1D)           (None, 70, 64)            49216     \n",
            "_________________________________________________________________\n",
            "max_pooling1d_21 (MaxPooling (None, 35, 64)            0         \n",
            "_________________________________________________________________\n",
            "dropout_21 (Dropout)         (None, 35, 64)            0         \n",
            "_________________________________________________________________\n",
            "conv1d_22 (Conv1D)           (None, 35, 32)            14368     \n",
            "_________________________________________________________________\n",
            "max_pooling1d_22 (MaxPooling (None, 17, 32)            0         \n",
            "_________________________________________________________________\n",
            "dropout_22 (Dropout)         (None, 17, 32)            0         \n",
            "_________________________________________________________________\n",
            "conv1d_23 (Conv1D)           (None, 17, 32)            8224      \n",
            "_________________________________________________________________\n",
            "max_pooling1d_23 (MaxPooling (None, 8, 32)             0         \n",
            "_________________________________________________________________\n",
            "dropout_23 (Dropout)         (None, 8, 32)             0         \n",
            "_________________________________________________________________\n",
            "flatten_5 (Flatten)          (None, 256)               0         \n",
            "_________________________________________________________________\n",
            "dense_29 (Dense)             (None, 1)                 257       \n",
            "=================================================================\n",
            "Total params: 10,112,593\n",
            "Trainable params: 264,193\n",
            "Non-trainable params: 9,848,400\n",
            "_________________________________________________________________\n"
          ],
          "name": "stdout"
        }
      ]
    },
    {
      "cell_type": "code",
      "metadata": {
        "id": "FD5EMBbL1lYq",
        "colab_type": "code",
        "colab": {
          "base_uri": "https://localhost:8080/",
          "height": 151
        },
        "outputId": "862d3383-779a-4d65-e712-749fbc62a069"
      },
      "source": [
        "history = model5.fit(x_train, y_train,\n",
        "                    batch_size=BATCH_SIZE,\n",
        "                    epochs=4,\n",
        "                    validation_split=0.1,\n",
        "                    verbose=1)"
      ],
      "execution_count": null,
      "outputs": [
        {
          "output_type": "stream",
          "text": [
            "Epoch 1/4\n",
            "36/36 [==============================] - 6s 169ms/step - loss: 0.6071 - accuracy: 0.6679 - val_loss: 0.5177 - val_accuracy: 0.7450\n",
            "Epoch 2/4\n",
            "36/36 [==============================] - 6s 162ms/step - loss: 0.5229 - accuracy: 0.7409 - val_loss: 0.5017 - val_accuracy: 0.7492\n",
            "Epoch 3/4\n",
            "36/36 [==============================] - 6s 161ms/step - loss: 0.4981 - accuracy: 0.7601 - val_loss: 0.4971 - val_accuracy: 0.7523\n",
            "Epoch 4/4\n",
            "36/36 [==============================] - 6s 162ms/step - loss: 0.4770 - accuracy: 0.7730 - val_loss: 0.4980 - val_accuracy: 0.7525\n"
          ],
          "name": "stdout"
        }
      ]
    },
    {
      "cell_type": "code",
      "metadata": {
        "id": "XnQMWpgo3TNo",
        "colab_type": "code",
        "colab": {
          "base_uri": "https://localhost:8080/",
          "height": 655
        },
        "outputId": "6823640f-cbd5-4145-aef6-8f20ff3ad50d"
      },
      "source": [
        "model6 = Sequential()\n",
        "model6.add(embedding_layer)\n",
        "model6.add(Conv1D(filters=64, kernel_size=5, padding='same', activation='relu'))\n",
        "model6.add(MaxPooling1D(pool_size=2))\n",
        "model6.add(Dropout(0.2))\n",
        "model6.add(Conv1D(filters=32, kernel_size=6, padding='same', activation='relu'))\n",
        "model6.add(MaxPooling1D(pool_size=2))\n",
        "model6.add(Dropout(0.2))\n",
        "model6.add(Conv1D(filters=16, kernel_size=7, padding='same', activation='relu'))\n",
        "model6.add(MaxPooling1D(pool_size=2))\n",
        "model6.add(Dropout(0.2))\n",
        "model6.add(Conv1D(filters=16, kernel_size=8, padding='same', activation='relu'))\n",
        "model6.add(MaxPooling1D(pool_size=2))\n",
        "model6.add(Dropout(0.2))\n",
        "model6.add(Flatten())\n",
        "model6.add(Dense(1,activation='sigmoid'))\n",
        "\n",
        "model6.compile(loss='binary_crossentropy', optimizer='adam', metrics=['accuracy'])\n",
        "model6.summary()"
      ],
      "execution_count": null,
      "outputs": [
        {
          "output_type": "stream",
          "text": [
            "Model: \"sequential_18\"\n",
            "_________________________________________________________________\n",
            "Layer (type)                 Output Shape              Param #   \n",
            "=================================================================\n",
            "embedding_2 (Embedding)      (None, 140, 300)          9848400   \n",
            "_________________________________________________________________\n",
            "conv1d_24 (Conv1D)           (None, 140, 64)           96064     \n",
            "_________________________________________________________________\n",
            "max_pooling1d_24 (MaxPooling (None, 70, 64)            0         \n",
            "_________________________________________________________________\n",
            "dropout_24 (Dropout)         (None, 70, 64)            0         \n",
            "_________________________________________________________________\n",
            "conv1d_25 (Conv1D)           (None, 70, 32)            12320     \n",
            "_________________________________________________________________\n",
            "max_pooling1d_25 (MaxPooling (None, 35, 32)            0         \n",
            "_________________________________________________________________\n",
            "dropout_25 (Dropout)         (None, 35, 32)            0         \n",
            "_________________________________________________________________\n",
            "conv1d_26 (Conv1D)           (None, 35, 16)            3600      \n",
            "_________________________________________________________________\n",
            "max_pooling1d_26 (MaxPooling (None, 17, 16)            0         \n",
            "_________________________________________________________________\n",
            "dropout_26 (Dropout)         (None, 17, 16)            0         \n",
            "_________________________________________________________________\n",
            "conv1d_27 (Conv1D)           (None, 17, 16)            2064      \n",
            "_________________________________________________________________\n",
            "max_pooling1d_27 (MaxPooling (None, 8, 16)             0         \n",
            "_________________________________________________________________\n",
            "dropout_27 (Dropout)         (None, 8, 16)             0         \n",
            "_________________________________________________________________\n",
            "flatten_6 (Flatten)          (None, 128)               0         \n",
            "_________________________________________________________________\n",
            "dense_30 (Dense)             (None, 1)                 129       \n",
            "=================================================================\n",
            "Total params: 9,962,577\n",
            "Trainable params: 114,177\n",
            "Non-trainable params: 9,848,400\n",
            "_________________________________________________________________\n"
          ],
          "name": "stdout"
        }
      ]
    },
    {
      "cell_type": "code",
      "metadata": {
        "id": "kAcSawS33jU5",
        "colab_type": "code",
        "colab": {
          "base_uri": "https://localhost:8080/",
          "height": 151
        },
        "outputId": "e1e68e6f-736b-4113-a0d4-256ba601497e"
      },
      "source": [
        "history = model6.fit(x_train, y_train,\n",
        "                    batch_size=BATCH_SIZE,\n",
        "                    epochs=4,\n",
        "                    validation_split=0.1,\n",
        "                    verbose=1)"
      ],
      "execution_count": null,
      "outputs": [
        {
          "output_type": "stream",
          "text": [
            "Epoch 1/4\n",
            "36/36 [==============================] - 4s 124ms/step - loss: 0.6361 - accuracy: 0.6501 - val_loss: 0.5443 - val_accuracy: 0.7262\n",
            "Epoch 2/4\n",
            "36/36 [==============================] - 4s 118ms/step - loss: 0.5430 - accuracy: 0.7316 - val_loss: 0.5115 - val_accuracy: 0.7440\n",
            "Epoch 3/4\n",
            "36/36 [==============================] - 4s 119ms/step - loss: 0.5167 - accuracy: 0.7494 - val_loss: 0.5068 - val_accuracy: 0.7492\n",
            "Epoch 4/4\n",
            "36/36 [==============================] - 4s 117ms/step - loss: 0.5020 - accuracy: 0.7575 - val_loss: 0.5007 - val_accuracy: 0.7530\n"
          ],
          "name": "stdout"
        }
      ]
    },
    {
      "cell_type": "code",
      "metadata": {
        "id": "SKBQWqh04Vn2",
        "colab_type": "code",
        "colab": {
          "base_uri": "https://localhost:8080/",
          "height": 655
        },
        "outputId": "7783129d-57ba-4e9e-dbd1-8ba064aab031"
      },
      "source": [
        "model7 = Sequential()\n",
        "model7.add(embedding_layer)\n",
        "model7.add(Conv1D(filters=128, kernel_size=5, padding='same', activation='relu'))\n",
        "model7.add(MaxPooling1D(pool_size=2))\n",
        "model7.add(Dropout(0.2))\n",
        "model7.add(Conv1D(filters=16, kernel_size=6, padding='same', activation='relu'))\n",
        "model7.add(MaxPooling1D(pool_size=2))\n",
        "model7.add(Dropout(0.2))\n",
        "model7.add(Conv1D(filters=16, kernel_size=7, padding='same', activation='relu'))\n",
        "model7.add(MaxPooling1D(pool_size=2))\n",
        "model7.add(Dropout(0.2))\n",
        "model7.add(Conv1D(filters=16, kernel_size=8, padding='same', activation='relu'))\n",
        "model7.add(MaxPooling1D(pool_size=2))\n",
        "model7.add(Dropout(0.2))\n",
        "model7.add(Flatten())\n",
        "model7.add(Dense(1,activation='sigmoid'))\n",
        "\n",
        "model7.compile(loss='binary_crossentropy', optimizer='adam', metrics=['accuracy'])\n",
        "model7.summary()"
      ],
      "execution_count": null,
      "outputs": [
        {
          "output_type": "stream",
          "text": [
            "Model: \"sequential_19\"\n",
            "_________________________________________________________________\n",
            "Layer (type)                 Output Shape              Param #   \n",
            "=================================================================\n",
            "embedding_2 (Embedding)      (None, 140, 300)          9848400   \n",
            "_________________________________________________________________\n",
            "conv1d_28 (Conv1D)           (None, 140, 128)          192128    \n",
            "_________________________________________________________________\n",
            "max_pooling1d_28 (MaxPooling (None, 70, 128)           0         \n",
            "_________________________________________________________________\n",
            "dropout_28 (Dropout)         (None, 70, 128)           0         \n",
            "_________________________________________________________________\n",
            "conv1d_29 (Conv1D)           (None, 70, 16)            12304     \n",
            "_________________________________________________________________\n",
            "max_pooling1d_29 (MaxPooling (None, 35, 16)            0         \n",
            "_________________________________________________________________\n",
            "dropout_29 (Dropout)         (None, 35, 16)            0         \n",
            "_________________________________________________________________\n",
            "conv1d_30 (Conv1D)           (None, 35, 16)            1808      \n",
            "_________________________________________________________________\n",
            "max_pooling1d_30 (MaxPooling (None, 17, 16)            0         \n",
            "_________________________________________________________________\n",
            "dropout_30 (Dropout)         (None, 17, 16)            0         \n",
            "_________________________________________________________________\n",
            "conv1d_31 (Conv1D)           (None, 17, 16)            2064      \n",
            "_________________________________________________________________\n",
            "max_pooling1d_31 (MaxPooling (None, 8, 16)             0         \n",
            "_________________________________________________________________\n",
            "dropout_31 (Dropout)         (None, 8, 16)             0         \n",
            "_________________________________________________________________\n",
            "flatten_7 (Flatten)          (None, 128)               0         \n",
            "_________________________________________________________________\n",
            "dense_31 (Dense)             (None, 1)                 129       \n",
            "=================================================================\n",
            "Total params: 10,056,833\n",
            "Trainable params: 208,433\n",
            "Non-trainable params: 9,848,400\n",
            "_________________________________________________________________\n"
          ],
          "name": "stdout"
        }
      ]
    },
    {
      "cell_type": "code",
      "metadata": {
        "id": "CNZ1Z8HS5_PP",
        "colab_type": "code",
        "colab": {
          "base_uri": "https://localhost:8080/",
          "height": 319
        },
        "outputId": "6c4a97a1-8850-41e8-c72d-9476f7cef50e"
      },
      "source": [
        "history = model7.fit(x_train, y_train,\n",
        "                    batch_size=BATCH_SIZE,\n",
        "                    epochs=9,\n",
        "                    validation_split=0.1,\n",
        "                    verbose=1)"
      ],
      "execution_count": null,
      "outputs": [
        {
          "output_type": "stream",
          "text": [
            "Epoch 1/9\n",
            "36/36 [==============================] - 6s 153ms/step - loss: 0.6286 - accuracy: 0.6555 - val_loss: 0.5368 - val_accuracy: 0.7340\n",
            "Epoch 2/9\n",
            "36/36 [==============================] - 5s 146ms/step - loss: 0.5392 - accuracy: 0.7344 - val_loss: 0.5108 - val_accuracy: 0.7508\n",
            "Epoch 3/9\n",
            "36/36 [==============================] - 5s 149ms/step - loss: 0.5143 - accuracy: 0.7488 - val_loss: 0.5068 - val_accuracy: 0.7462\n",
            "Epoch 4/9\n",
            "36/36 [==============================] - 5s 148ms/step - loss: 0.4967 - accuracy: 0.7617 - val_loss: 0.5006 - val_accuracy: 0.7540\n",
            "Epoch 5/9\n",
            "36/36 [==============================] - 5s 147ms/step - loss: 0.4808 - accuracy: 0.7700 - val_loss: 0.5035 - val_accuracy: 0.7500\n",
            "Epoch 6/9\n",
            "36/36 [==============================] - 5s 148ms/step - loss: 0.4640 - accuracy: 0.7802 - val_loss: 0.5045 - val_accuracy: 0.7605\n",
            "Epoch 7/9\n",
            "36/36 [==============================] - 5s 148ms/step - loss: 0.4459 - accuracy: 0.7925 - val_loss: 0.4981 - val_accuracy: 0.7542\n",
            "Epoch 8/9\n",
            "36/36 [==============================] - 5s 149ms/step - loss: 0.4287 - accuracy: 0.8036 - val_loss: 0.5038 - val_accuracy: 0.7477\n",
            "Epoch 9/9\n",
            "36/36 [==============================] - 5s 147ms/step - loss: 0.4136 - accuracy: 0.8112 - val_loss: 0.5160 - val_accuracy: 0.7523\n"
          ],
          "name": "stdout"
        }
      ]
    },
    {
      "cell_type": "code",
      "metadata": {
        "id": "mFsGaWG1uMbC",
        "colab_type": "code",
        "colab": {
          "base_uri": "https://localhost:8080/",
          "height": 118
        },
        "outputId": "96b019a9-c8e4-4292-dc5d-ad902249cbbe"
      },
      "source": [
        "%time\n",
        "score = model.evaluate(x_test, y_test, batch_size=BATCH_SIZE)\n",
        "print()\n",
        "print(\"ACCURACY:\",score[1])\n",
        "print(\"LOSS:\",score[0])"
      ],
      "execution_count": null,
      "outputs": [
        {
          "output_type": "stream",
          "text": [
            "CPU times: user 14 µs, sys: 3 µs, total: 17 µs\n",
            "Wall time: 21.2 µs\n",
            "10/10 [==============================] - 1s 83ms/step - loss: 0.5053 - accuracy: 0.7520\n",
            "\n",
            "ACCURACY: 0.7519999742507935\n",
            "LOSS: 0.5053257346153259\n"
          ],
          "name": "stdout"
        }
      ]
    },
    {
      "cell_type": "code",
      "metadata": {
        "id": "VbU047-x5-Gz",
        "colab_type": "code",
        "colab": {
          "base_uri": "https://localhost:8080/",
          "height": 118
        },
        "outputId": "5474c718-91b8-4b0f-bb5e-b782a16e089d"
      },
      "source": [
        "%time\n",
        "score = model1.evaluate(x_test, y_test, batch_size=BATCH_SIZE)\n",
        "print()\n",
        "print(\"ACCURACY:\",score[1])\n",
        "print(\"LOSS:\",score[0])"
      ],
      "execution_count": null,
      "outputs": [
        {
          "output_type": "stream",
          "text": [
            "CPU times: user 3 µs, sys: 0 ns, total: 3 µs\n",
            "Wall time: 6.2 µs\n",
            "10/10 [==============================] - 1s 98ms/step - loss: 0.5023 - accuracy: 0.7546\n",
            "\n",
            "ACCURACY: 0.7545999884605408\n",
            "LOSS: 0.5022616982460022\n"
          ],
          "name": "stdout"
        }
      ]
    },
    {
      "cell_type": "code",
      "metadata": {
        "id": "M1kWmECL_S8D",
        "colab_type": "code",
        "colab": {
          "base_uri": "https://localhost:8080/",
          "height": 118
        },
        "outputId": "de3fe1bb-d2f4-43ff-ff66-72bdd1bdb8e3"
      },
      "source": [
        "%time\n",
        "score = model2.evaluate(x_test, y_test, batch_size=BATCH_SIZE)\n",
        "print()\n",
        "print(\"ACCURACY:\",score[1])\n",
        "print(\"LOSS:\",score[0])"
      ],
      "execution_count": null,
      "outputs": [
        {
          "output_type": "stream",
          "text": [
            "CPU times: user 3 µs, sys: 1e+03 ns, total: 4 µs\n",
            "Wall time: 6.44 µs\n",
            "10/10 [==============================] - 1s 104ms/step - loss: 0.5329 - accuracy: 0.7484\n",
            "\n",
            "ACCURACY: 0.7483999729156494\n",
            "LOSS: 0.5328620672225952\n"
          ],
          "name": "stdout"
        }
      ]
    },
    {
      "cell_type": "code",
      "metadata": {
        "id": "wtMvik-U_YDh",
        "colab_type": "code",
        "colab": {
          "base_uri": "https://localhost:8080/",
          "height": 118
        },
        "outputId": "80683881-eb41-4e97-9c3a-5f87db3b4575"
      },
      "source": [
        "%time\n",
        "score = model4.evaluate(x_test, y_test, batch_size=BATCH_SIZE)\n",
        "print()\n",
        "print(\"ACCURACY:\",score[1])\n",
        "print(\"LOSS:\",score[0])"
      ],
      "execution_count": null,
      "outputs": [
        {
          "output_type": "stream",
          "text": [
            "CPU times: user 2 µs, sys: 1e+03 ns, total: 3 µs\n",
            "Wall time: 5.96 µs\n",
            "10/10 [==============================] - 1s 71ms/step - loss: 0.5013 - accuracy: 0.7512\n",
            "\n",
            "ACCURACY: 0.7512000203132629\n",
            "LOSS: 0.5013140439987183\n"
          ],
          "name": "stdout"
        }
      ]
    },
    {
      "cell_type": "code",
      "metadata": {
        "id": "e_mqPcYB_ce6",
        "colab_type": "code",
        "colab": {
          "base_uri": "https://localhost:8080/",
          "height": 118
        },
        "outputId": "f03b1a21-9c7a-453d-afee-4165fa82d55f"
      },
      "source": [
        "%time\n",
        "score = model5.evaluate(x_test, y_test, batch_size=BATCH_SIZE)\n",
        "print()\n",
        "print(\"ACCURACY:\",score[1])\n",
        "print(\"LOSS:\",score[0])"
      ],
      "execution_count": null,
      "outputs": [
        {
          "output_type": "stream",
          "text": [
            "CPU times: user 2 µs, sys: 1e+03 ns, total: 3 µs\n",
            "Wall time: 6.44 µs\n",
            "10/10 [==============================] - 1s 100ms/step - loss: 0.5079 - accuracy: 0.7498\n",
            "\n",
            "ACCURACY: 0.7498000264167786\n",
            "LOSS: 0.5079458355903625\n"
          ],
          "name": "stdout"
        }
      ]
    },
    {
      "cell_type": "code",
      "metadata": {
        "id": "_HUAT3hn_rvc",
        "colab_type": "code",
        "colab": {
          "base_uri": "https://localhost:8080/",
          "height": 118
        },
        "outputId": "15619696-de7f-4159-e994-3918c43d12b2"
      },
      "source": [
        "%time\n",
        "score = model6.evaluate(x_test, y_test, batch_size=BATCH_SIZE)\n",
        "print()\n",
        "print(\"ACCURACY:\",score[1])\n",
        "print(\"LOSS:\",score[0])"
      ],
      "execution_count": null,
      "outputs": [
        {
          "output_type": "stream",
          "text": [
            "CPU times: user 3 µs, sys: 1 µs, total: 4 µs\n",
            "Wall time: 6.44 µs\n",
            "10/10 [==============================] - 1s 81ms/step - loss: 0.5110 - accuracy: 0.7481\n",
            "\n",
            "ACCURACY: 0.7480999827384949\n",
            "LOSS: 0.5109973549842834\n"
          ],
          "name": "stdout"
        }
      ]
    },
    {
      "cell_type": "code",
      "metadata": {
        "id": "OMSQyjOV_wX_",
        "colab_type": "code",
        "colab": {
          "base_uri": "https://localhost:8080/",
          "height": 118
        },
        "outputId": "a44166e3-df4b-4011-b111-f9aff46b91d0"
      },
      "source": [
        "%time\n",
        "score = model7.evaluate(x_test, y_test, batch_size=BATCH_SIZE)\n",
        "print()\n",
        "print(\"ACCURACY:\",score[1])\n",
        "print(\"LOSS:\",score[0])"
      ],
      "execution_count": null,
      "outputs": [
        {
          "output_type": "stream",
          "text": [
            "CPU times: user 3 µs, sys: 0 ns, total: 3 µs\n",
            "Wall time: 6.44 µs\n",
            "10/10 [==============================] - 1s 80ms/step - loss: 0.5302 - accuracy: 0.7509\n",
            "\n",
            "ACCURACY: 0.7508999705314636\n",
            "LOSS: 0.5301834344863892\n"
          ],
          "name": "stdout"
        }
      ]
    },
    {
      "cell_type": "code",
      "metadata": {
        "id": "2iUUGHLIvAiz",
        "colab_type": "code",
        "colab": {
          "base_uri": "https://localhost:8080/",
          "height": 545
        },
        "outputId": "f48af2a2-65f6-46bc-d591-fa6c68bd36b7"
      },
      "source": [
        "acc = history.history['accuracy']\n",
        "val_acc = history.history['val_accuracy']\n",
        "loss = history.history['loss']\n",
        "val_loss = history.history['val_loss']\n",
        " \n",
        "epochs = range(len(acc))\n",
        " \n",
        "plt.plot(epochs, acc, 'b', label='Training acc')\n",
        "plt.plot(epochs, val_acc, 'r', label='Validation acc')\n",
        "plt.title('Training and validation accuracy')\n",
        "plt.legend()\n",
        " \n",
        "plt.figure()\n",
        " \n",
        "plt.plot(epochs, loss, 'b', label='Training loss')\n",
        "plt.plot(epochs, val_loss, 'r', label='Validation loss')\n",
        "plt.title('Training and validation loss')\n",
        "plt.legend()\n",
        " \n",
        "plt.show()\n"
      ],
      "execution_count": null,
      "outputs": [
        {
          "output_type": "display_data",
          "data": {
            "image/png": "[encoded data removed]",
            "text/plain": [
              "<Figure size 432x288 with 1 Axes>"
            ]
          },
          "metadata": {
            "tags": [],
            "needs_background": "light"
          }
        },
        {
          "output_type": "display_data",
          "data": {
            "image/png": "[encoded data removed]",
            "text/plain": [
              "<Figure size 432x288 with 1 Axes>"
            ]
          },
          "metadata": {
            "tags": [],
            "needs_background": "light"
          }
        }
      ]
    },
    {
      "cell_type": "code",
      "metadata": {
        "id": "1WeDncgUvV01",
        "colab_type": "code",
        "colab": {}
      },
      "source": [
        "def decode_sentiment(score, include_neutral=True):\n",
        "    if include_neutral:        \n",
        "        label = \"NEUTRAL\"\n",
        "        SENTIMENT_THRESHOLDS= [0.5,1.5]\n",
        "        if score <= SENTIMENT_THRESHOLDS[0]:\n",
        "            label = NEGATIVE\n",
        "        elif score >= SENTIMENT_THRESHOLDS[1]:\n",
        "            label = POSITIVE\n",
        "\n",
        "        return label\n",
        "    else:\n",
        "        return NEGATIVE if score < 0.5 else POSITIVE"
      ],
      "execution_count": null,
      "outputs": []
    },
    {
      "cell_type": "code",
      "metadata": {
        "id": "saHpJexjvdnK",
        "colab_type": "code",
        "colab": {}
      },
      "source": [
        "def predict(text, include_neutral=True):\n",
        "    start_at = time.time()\n",
        "    # Tokenize text\n",
        "    x_test = pad_sequences(tokenizer.texts_to_sequences([text]), maxlen=SEQUENCE_LENGTH)\n",
        "    # Predict\n",
        "    score = model.predict([x_test])[0]\n",
        "    # Decode sentiment\n",
        "    label = decode_sentiment(score, include_neutral=include_neutral)\n",
        "\n",
        "    return {\"label\": label, \"score\": float(score),\n",
        "       \"elapsed_time\": time.time()-start_at}  "
      ],
      "execution_count": null,
      "outputs": []
    },
    {
      "cell_type": "code",
      "metadata": {
        "id": "_nfD7kb8vYQ7",
        "colab_type": "code",
        "colab": {
          "base_uri": "https://localhost:8080/",
          "height": 67
        },
        "outputId": "deed5ccd-dcc5-46cf-b05c-b4676b1fbaf7"
      },
      "source": [
        "predict(\"I love the music\")"
      ],
      "execution_count": null,
      "outputs": [
        {
          "output_type": "execute_result",
          "data": {
            "text/plain": [
              "{'elapsed_time': 0.4479188919067383,\n",
              " 'label': 'NEUTRAL',\n",
              " 'score': 0.9494983553886414}"
            ]
          },
          "metadata": {
            "tags": []
          },
          "execution_count": 149
        }
      ]
    },
    {
      "cell_type": "markdown",
      "metadata": {
        "id": "MzNjZe3SnXko",
        "colab_type": "text"
      },
      "source": [
        "### With trainable embedding layer"
      ]
    },
    {
      "cell_type": "code",
      "metadata": {
        "colab_type": "code",
        "id": "KCEJxT7FnKo8",
        "colab": {}
      },
      "source": [
        "embedding_layer2 = Embedding(vocab_size, 300, weights=[embedding_matrix], input_length=SEQUENCE_LENGTH, trainable=True)"
      ],
      "execution_count": null,
      "outputs": []
    },
    {
      "cell_type": "code",
      "metadata": {
        "colab_type": "code",
        "id": "BkPm3IPSnKo-",
        "colab": {
          "base_uri": "https://localhost:8080/"
        },
        "outputId": "d1734eba-1962-406e-d61a-be4865cb6dce"
      },
      "source": [
        "model2 = Sequential()\n",
        "model2.add(embedding_layer2)\n",
        "model2.add(Dropout(0.5))\n",
        "model2.add(LSTM(100, dropout=0.2, recurrent_dropout=0.2))\n",
        "model2.add(Dense(1, activation='sigmoid'))\n",
        "\n",
        "model2.summary()"
      ],
      "execution_count": null,
      "outputs": [
        {
          "output_type": "stream",
          "text": [
            "WARNING:tensorflow:Layer lstm_21 will not use cuDNN kernel since it doesn't meet the cuDNN kernel criteria. It will use generic GPU kernel as fallback when running on GPU\n",
            "Model: \"sequential_20\"\n",
            "_________________________________________________________________\n",
            "Layer (type)                 Output Shape              Param #   \n",
            "=================================================================\n",
            "embedding_3 (Embedding)      (None, 140, 300)          9848400   \n",
            "_________________________________________________________________\n",
            "dropout_32 (Dropout)         (None, 140, 300)          0         \n",
            "_________________________________________________________________\n",
            "lstm_21 (LSTM)               (None, 100)               160400    \n",
            "_________________________________________________________________\n",
            "dense_32 (Dense)             (None, 1)                 101       \n",
            "=================================================================\n",
            "Total params: 10,008,901\n",
            "Trainable params: 10,008,901\n",
            "Non-trainable params: 0\n",
            "_________________________________________________________________\n"
          ],
          "name": "stdout"
        }
      ]
    },
    {
      "cell_type": "code",
      "metadata": {
        "colab_type": "code",
        "id": "TVpef-MfnKpA",
        "colab": {}
      },
      "source": [
        "model2.compile(loss='binary_crossentropy',\n",
        "              optimizer=\"adam\",\n",
        "              metrics=['accuracy'])"
      ],
      "execution_count": null,
      "outputs": []
    },
    {
      "cell_type": "code",
      "metadata": {
        "colab_type": "code",
        "id": "-X1SjuQ0nKpB",
        "colab": {}
      },
      "source": [
        "callbacks = [ ReduceLROnPlateau(monitor='val_loss', patience=5, cooldown=0),\n",
        "              EarlyStopping(monitor='val_acc', min_delta=1e-4, patience=5)]"
      ],
      "execution_count": null,
      "outputs": []
    },
    {
      "cell_type": "code",
      "metadata": {
        "colab_type": "code",
        "id": "oQhpfMAInKpE",
        "colab": {
          "base_uri": "https://localhost:8080/"
        },
        "outputId": "afccebd5-1602-48ab-cf7c-1904cb02c7ad"
      },
      "source": [
        "%%time\n",
        "history = model2.fit(x_train, y_train,\n",
        "                    batch_size=BATCH_SIZE,\n",
        "                    epochs=EPOCHS,\n",
        "                    validation_split=0.1,\n",
        "                    verbose=1,\n",
        "                    callbacks=callbacks)"
      ],
      "execution_count": null,
      "outputs": [
        {
          "output_type": "stream",
          "text": [
            "Epoch 1/8\n",
            "36/36 [==============================] - ETA: 0s - loss: 0.5956 - accuracy: 0.6737WARNING:tensorflow:Early stopping conditioned on metric `val_acc` which is not available. Available metrics are: loss,accuracy,val_loss,val_accuracy,lr\n",
            "36/36 [==============================] - 37s 1s/step - loss: 0.5956 - accuracy: 0.6737 - val_loss: 0.5256 - val_accuracy: 0.7368\n",
            "Epoch 2/8\n",
            "36/36 [==============================] - ETA: 0s - loss: 0.5356 - accuracy: 0.7294WARNING:tensorflow:Early stopping conditioned on metric `val_acc` which is not available. Available metrics are: loss,accuracy,val_loss,val_accuracy,lr\n",
            "36/36 [==============================] - 36s 989ms/step - loss: 0.5356 - accuracy: 0.7294 - val_loss: 0.5122 - val_accuracy: 0.7445\n",
            "Epoch 3/8\n",
            "36/36 [==============================] - ETA: 0s - loss: 0.5063 - accuracy: 0.7527WARNING:tensorflow:Early stopping conditioned on metric `val_acc` which is not available. Available metrics are: loss,accuracy,val_loss,val_accuracy,lr\n",
            "36/36 [==============================] - 37s 1s/step - loss: 0.5063 - accuracy: 0.7527 - val_loss: 0.4983 - val_accuracy: 0.7527\n",
            "Epoch 4/8\n",
            "36/36 [==============================] - ETA: 0s - loss: 0.4831 - accuracy: 0.7675WARNING:tensorflow:Early stopping conditioned on metric `val_acc` which is not available. Available metrics are: loss,accuracy,val_loss,val_accuracy,lr\n",
            "36/36 [==============================] - 36s 1s/step - loss: 0.4831 - accuracy: 0.7675 - val_loss: 0.4898 - val_accuracy: 0.7613\n",
            "Epoch 5/8\n",
            "36/36 [==============================] - ETA: 0s - loss: 0.4541 - accuracy: 0.7871WARNING:tensorflow:Early stopping conditioned on metric `val_acc` which is not available. Available metrics are: loss,accuracy,val_loss,val_accuracy,lr\n",
            "36/36 [==============================] - 36s 1s/step - loss: 0.4541 - accuracy: 0.7871 - val_loss: 0.4865 - val_accuracy: 0.7645\n",
            "Epoch 6/8\n",
            "36/36 [==============================] - ETA: 0s - loss: 0.4272 - accuracy: 0.8053WARNING:tensorflow:Early stopping conditioned on metric `val_acc` which is not available. Available metrics are: loss,accuracy,val_loss,val_accuracy,lr\n",
            "36/36 [==============================] - 36s 997ms/step - loss: 0.4272 - accuracy: 0.8053 - val_loss: 0.4836 - val_accuracy: 0.7713\n",
            "Epoch 7/8\n",
            "36/36 [==============================] - ETA: 0s - loss: 0.3985 - accuracy: 0.8207WARNING:tensorflow:Early stopping conditioned on metric `val_acc` which is not available. Available metrics are: loss,accuracy,val_loss,val_accuracy,lr\n",
            "36/36 [==============================] - 36s 988ms/step - loss: 0.3985 - accuracy: 0.8207 - val_loss: 0.4904 - val_accuracy: 0.7732\n",
            "Epoch 8/8\n",
            "36/36 [==============================] - ETA: 0s - loss: 0.3703 - accuracy: 0.8364WARNING:tensorflow:Early stopping conditioned on metric `val_acc` which is not available. Available metrics are: loss,accuracy,val_loss,val_accuracy,lr\n",
            "36/36 [==============================] - 36s 999ms/step - loss: 0.3703 - accuracy: 0.8364 - val_loss: 0.5187 - val_accuracy: 0.7695\n",
            "CPU times: user 6min 47s, sys: 47.7 s, total: 7min 35s\n",
            "Wall time: 5min\n"
          ],
          "name": "stdout"
        }
      ]
    },
    {
      "cell_type": "code",
      "metadata": {
        "colab_type": "code",
        "id": "bn8ZDgWjnKpG",
        "colab": {
          "base_uri": "https://localhost:8080/"
        },
        "outputId": "c2a4a7cb-86fd-422f-a6a1-a34c2ce35042"
      },
      "source": [
        "model2.save(\"baseword2vec_embedding_learnable\")"
      ],
      "execution_count": null,
      "outputs": [
        {
          "output_type": "stream",
          "text": [
            "INFO:tensorflow:Assets written to: baseword2vec_embedding_learnable/assets\n"
          ],
          "name": "stdout"
        }
      ]
    },
    {
      "cell_type": "code",
      "metadata": {
        "colab_type": "code",
        "id": "_VlgB9MInKpH",
        "colab": {
          "base_uri": "https://localhost:8080/"
        },
        "outputId": "ed45a21c-edf2-4df0-eb84-d7a6284f68fc"
      },
      "source": [
        "%time\n",
        "score = model2.evaluate(x_test, y_test, batch_size=BATCH_SIZE)\n",
        "print()\n",
        "print(\"ACCURACY:\",score[1])\n",
        "print(\"LOSS:\",score[0])"
      ],
      "execution_count": null,
      "outputs": [
        {
          "output_type": "stream",
          "text": [
            "CPU times: user 4 µs, sys: 1e+03 ns, total: 5 µs\n",
            "Wall time: 11 µs\n",
            "10/10 [==============================] - 1s 149ms/step - loss: 0.5334 - accuracy: 0.7684\n",
            "\n",
            "ACCURACY: 0.7684000134468079\n",
            "LOSS: 0.5333507061004639\n"
          ],
          "name": "stdout"
        }
      ]
    },
    {
      "cell_type": "code",
      "metadata": {
        "colab_type": "code",
        "id": "rtEOsdgtnKpI",
        "colab": {
          "base_uri": "https://localhost:8080/"
        },
        "outputId": "b2b6f006-ff4a-49c0-f305-ff5b53fb73ac"
      },
      "source": [
        "acc = history.history['accuracy']\n",
        "val_acc = history.history['val_accuracy']\n",
        "loss = history.history['loss']\n",
        "val_loss = history.history['val_loss']\n",
        " \n",
        "epochs = range(len(acc))\n",
        " \n",
        "plt.plot(epochs, acc, 'b', label='Training acc')\n",
        "plt.plot(epochs, val_acc, 'r', label='Validation acc')\n",
        "plt.title('Training and validation accuracy')\n",
        "plt.legend()\n",
        " \n",
        "plt.figure()\n",
        " \n",
        "plt.plot(epochs, loss, 'b', label='Training loss')\n",
        "plt.plot(epochs, val_loss, 'r', label='Validation loss')\n",
        "plt.title('Training and validation loss')\n",
        "plt.legend()\n",
        " \n",
        "plt.show()\n"
      ],
      "execution_count": null,
      "outputs": [
        {
          "output_type": "display_data",
          "data": {
            "image/png": "[encoded data removed]",
            "text/plain": [
              "<Figure size 432x288 with 1 Axes>"
            ]
          },
          "metadata": {
            "tags": [],
            "needs_background": "light"
          }
        },
        {
          "output_type": "display_data",
          "data": {
            "image/png": "[encoded data removed]",
            "text/plain": [
              "<Figure size 432x288 with 1 Axes>"
            ]
          },
          "metadata": {
            "tags": [],
            "needs_background": "light"
          }
        }
      ]
    },
    {
      "cell_type": "code",
      "metadata": {
        "colab_type": "code",
        "id": "r0P-txm1nKpK",
        "colab": {}
      },
      "source": [
        "def decode_sentiment(score, include_neutral=True):\n",
        "    if include_neutral:        \n",
        "        label = \"NEUTRAL\"\n",
        "        SENTIMENT_THRESHOLDS= [0.5,1.5]\n",
        "        if score <= SENTIMENT_THRESHOLDS[0]:\n",
        "            label = NEGATIVE\n",
        "        elif score >= SENTIMENT_THRESHOLDS[1]:\n",
        "            label = POSITIVE\n",
        "\n",
        "        return label\n",
        "    else:\n",
        "        return NEGATIVE if score < 0.5 else POSITIVE"
      ],
      "execution_count": null,
      "outputs": []
    },
    {
      "cell_type": "code",
      "metadata": {
        "colab_type": "code",
        "id": "Su0lhrcInKpL",
        "colab": {}
      },
      "source": [
        "def predict(text, include_neutral=True):\n",
        "    start_at = time.time()\n",
        "    # Tokenize text\n",
        "    x_test = pad_sequences(tokenizer.texts_to_sequences([text]), maxlen=SEQUENCE_LENGTH)\n",
        "    # Predict\n",
        "    score = model2.predict([x_test])[0]\n",
        "    # Decode sentiment\n",
        "    label = decode_sentiment(score, include_neutral=include_neutral)\n",
        "\n",
        "    return {\"label\": label, \"score\": float(score),\n",
        "       \"elapsed_time\": time.time()-start_at}  "
      ],
      "execution_count": null,
      "outputs": []
    },
    {
      "cell_type": "code",
      "metadata": {
        "colab_type": "code",
        "id": "xTB2aD59nKpN",
        "colab": {
          "base_uri": "https://localhost:8080/"
        },
        "outputId": "7f89e664-e395-4112-8014-e75df03d8c9f"
      },
      "source": [
        "predict(\"I love the music\")"
      ],
      "execution_count": null,
      "outputs": [
        {
          "output_type": "execute_result",
          "data": {
            "text/plain": [
              "{'elapsed_time': 0.3338913917541504,\n",
              " 'label': 'NEUTRAL',\n",
              " 'score': 0.9953941106796265}"
            ]
          },
          "metadata": {
            "tags": []
          },
          "execution_count": 160
        }
      ]
    }
  ]
}