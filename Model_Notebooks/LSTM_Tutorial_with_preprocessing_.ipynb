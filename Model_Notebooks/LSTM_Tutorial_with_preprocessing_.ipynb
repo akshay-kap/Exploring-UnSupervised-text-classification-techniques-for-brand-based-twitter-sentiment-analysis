{
  "nbformat": 4,
  "nbformat_minor": 0,
  "metadata": {
    "colab": {
      "name": "LSTM Tutorial with preprocessing .ipynb",
      "provenance": [],
      "collapsed_sections": [
        "JT8ksEXR_EUQ"
      ],
      "toc_visible": true
    },
    "kernelspec": {
      "name": "python3",
      "display_name": "Python 3"
    },
    "accelerator": "GPU"
  },
  "cells": [
    {
      "cell_type": "markdown",
      "metadata": {
        "id": "zkBjGyZf4PJ3",
        "colab_type": "text"
      },
      "source": [
        "# Setting up drive enviournment"
      ]
    },
    {
      "cell_type": "markdown",
      "metadata": {
        "id": "g9W67-WcmyLx",
        "colab_type": "text"
      },
      "source": [
        "### Its inspired from "
      ]
    },
    {
      "cell_type": "code",
      "metadata": {
        "id": "8NAz2RlYBJ0l",
        "colab_type": "code",
        "colab": {
          "base_uri": "https://localhost:8080/",
          "height": 34
        },
        "outputId": "69aa78e1-faa7-446f-bb27-d14d96499ffd"
      },
      "source": [
        "#from google.colab import files\n",
        "#uploaded = files.upload()\n",
        "from google.colab import drive\n",
        "drive.mount('/content/drive')\n"
      ],
      "execution_count": null,
      "outputs": [
        {
          "output_type": "stream",
          "text": [
            "Drive already mounted at /content/drive; to attempt to forcibly remount, call drive.mount(\"/content/drive\", force_remount=True).\n"
          ],
          "name": "stdout"
        }
      ]
    },
    {
      "cell_type": "markdown",
      "metadata": {
        "id": "QrialxadDTDK",
        "colab_type": "text"
      },
      "source": [
        ""
      ]
    },
    {
      "cell_type": "code",
      "metadata": {
        "id": "smLDpbwgY1Zc",
        "colab_type": "code",
        "colab": {
          "base_uri": "https://localhost:8080/",
          "height": 34
        },
        "outputId": "e504efdb-33e8-4a8d-d3bf-fa2a9100b30e"
      },
      "source": [
        "cd /content/drive/My\\ Drive/ECE657\\ Project"
      ],
      "execution_count": null,
      "outputs": [
        {
          "output_type": "stream",
          "text": [
            "/content/drive/My Drive/ECE657 Project\n"
          ],
          "name": "stdout"
        }
      ]
    },
    {
      "cell_type": "code",
      "metadata": {
        "id": "szsw1Ht-Y4_x",
        "colab_type": "code",
        "colab": {
          "base_uri": "https://localhost:8080/",
          "height": 118
        },
        "outputId": "fce3f733-b36f-4fc1-f6fd-701a5ee2dc01"
      },
      "source": [
        "import os\n",
        "os.listdir()"
      ],
      "execution_count": null,
      "outputs": [
        {
          "output_type": "execute_result",
          "data": {
            "text/plain": [
              "['training.1600000.processed.noemoticon.csv',\n",
              " 'baseword2vec',\n",
              " 'baseword2vec_embedding_learnable',\n",
              " 'w2v.model',\n",
              " 'word2Vecme.model',\n",
              " 'word2VecwithSTOP.model']"
            ]
          },
          "metadata": {
            "tags": []
          },
          "execution_count": 42
        }
      ]
    },
    {
      "cell_type": "markdown",
      "metadata": {
        "id": "q2yC_ecbRj_B",
        "colab_type": "text"
      },
      "source": [
        "Importing the libraries"
      ]
    },
    {
      "cell_type": "code",
      "metadata": {
        "id": "hNmwv5wVRqbQ",
        "colab_type": "code",
        "colab": {}
      },
      "source": [
        "import pandas as pd\n",
        "import numpy as np\n",
        "from sklearn.feature_extraction.text import CountVectorizer"
      ],
      "execution_count": null,
      "outputs": []
    },
    {
      "cell_type": "markdown",
      "metadata": {
        "id": "w7bJIEZRR-3u",
        "colab_type": "text"
      },
      "source": [
        "# Loading the dataset"
      ]
    },
    {
      "cell_type": "code",
      "metadata": {
        "id": "1Imcbq5kRrFP",
        "colab_type": "code",
        "colab": {}
      },
      "source": [
        "DATASET_COLUMNS = [\"target\", \"ids\", \"date\", \"flag\", \"user\", \"text\"]\n",
        "DATASET_ENCODING = \"ISO-8859-1\"\n",
        "data = pd.read_csv('training.1600000.processed.noemoticon.csv', encoding =DATASET_ENCODING , names=DATASET_COLUMNS)"
      ],
      "execution_count": null,
      "outputs": []
    },
    {
      "cell_type": "markdown",
      "metadata": {
        "id": "Ic79Q0ar2pQG",
        "colab_type": "text"
      },
      "source": [
        "# Exploring the dataset size"
      ]
    },
    {
      "cell_type": "code",
      "metadata": {
        "id": "R-8_IMdD2g9K",
        "colab_type": "code",
        "colab": {
          "base_uri": "https://localhost:8080/",
          "height": 34
        },
        "outputId": "762c9dcd-efaf-46fe-f997-75c70340298c"
      },
      "source": [
        "print(\"Dataset size:\", len(data))"
      ],
      "execution_count": null,
      "outputs": [
        {
          "output_type": "stream",
          "text": [
            "Dataset size: 1600000\n"
          ],
          "name": "stdout"
        }
      ]
    },
    {
      "cell_type": "markdown",
      "metadata": {
        "id": "TlToUid62xnt",
        "colab_type": "text"
      },
      "source": [
        "Mapping target label to String\n",
        "<br> 0 -> NEGATIVE\n",
        "<br> 2 -> NEUTRAL\n",
        "<br> 4 -> POSITIVE"
      ]
    },
    {
      "cell_type": "code",
      "metadata": {
        "id": "l42L6PJR23xq",
        "colab_type": "code",
        "colab": {}
      },
      "source": [
        "decode_map = {0: \"NEGATIVE\", 2: \"NEUTRAL\", 4: \"POSITIVE\"}\n",
        "def decode_sentiment(p):\n",
        "    return decode_map[int(p)]"
      ],
      "execution_count": null,
      "outputs": []
    },
    {
      "cell_type": "markdown",
      "metadata": {
        "id": "lpU72DIT3pen",
        "colab_type": "text"
      },
      "source": [
        " lets look at target column now"
      ]
    },
    {
      "cell_type": "code",
      "metadata": {
        "id": "Z3ujrWdJmxDU",
        "colab_type": "code",
        "colab": {}
      },
      "source": [
        ""
      ],
      "execution_count": null,
      "outputs": []
    },
    {
      "cell_type": "code",
      "metadata": {
        "id": "IQqMWRlk3wPo",
        "colab_type": "code",
        "colab": {
          "base_uri": "https://localhost:8080/",
          "height": 218
        },
        "outputId": "e6ff109f-bff5-43ff-ec0d-9e71042c1947"
      },
      "source": [
        "data.target"
      ],
      "execution_count": null,
      "outputs": [
        {
          "output_type": "execute_result",
          "data": {
            "text/plain": [
              "0          NEGATIVE\n",
              "1          NEGATIVE\n",
              "2          NEGATIVE\n",
              "3          NEGATIVE\n",
              "4          NEGATIVE\n",
              "             ...   \n",
              "1599995    POSITIVE\n",
              "1599996    POSITIVE\n",
              "1599997    POSITIVE\n",
              "1599998    POSITIVE\n",
              "1599999    POSITIVE\n",
              "Name: target, Length: 1600000, dtype: object"
            ]
          },
          "metadata": {
            "tags": []
          },
          "execution_count": 9
        }
      ]
    },
    {
      "cell_type": "code",
      "metadata": {
        "id": "LNtbMZRe4bEA",
        "colab_type": "code",
        "colab": {
          "base_uri": "https://localhost:8080/",
          "height": 70
        },
        "outputId": "d61fd11b-ef6b-4d24-a062-cefc2adace6c"
      },
      "source": [
        "from collections import Counter\n",
        "import seaborn as sns"
      ],
      "execution_count": null,
      "outputs": [
        {
          "output_type": "stream",
          "text": [
            "/usr/local/lib/python3.6/dist-packages/statsmodels/tools/_testing.py:19: FutureWarning: pandas.util.testing is deprecated. Use the functions in the public API at pandas.testing instead.\n",
            "  import pandas.util.testing as tm\n"
          ],
          "name": "stderr"
        }
      ]
    },
    {
      "cell_type": "code",
      "metadata": {
        "id": "-IENyUbA4gpX",
        "colab_type": "code",
        "colab": {}
      },
      "source": [
        "target_cnt = Counter(data.target)"
      ],
      "execution_count": null,
      "outputs": []
    },
    {
      "cell_type": "code",
      "metadata": {
        "id": "4jVBAD375Dvf",
        "colab_type": "code",
        "colab": {
          "base_uri": "https://localhost:8080/",
          "height": 312
        },
        "outputId": "59e2ebdc-a019-4e68-ff75-c57224546113"
      },
      "source": [
        "ax = sns.barplot(x=list(target_cnt.keys()),y=list(target_cnt.values()))\n",
        "ax.set_title('Number of examples per category')\n",
        "ax.set_xlabel(\"Category\")\n",
        "ax.set_ylabel(\"Number of examples\")"
      ],
      "execution_count": null,
      "outputs": [
        {
          "output_type": "execute_result",
          "data": {
            "text/plain": [
              "Text(0, 0.5, 'Number of examples')"
            ]
          },
          "metadata": {
            "tags": []
          },
          "execution_count": 12
        },
        {
          "output_type": "display_data",
          "data": {
            "image/png": "[encoded data removed]",
            "text/plain": [
              "<Figure size 432x288 with 1 Axes>"
            ]
          },
          "metadata": {
            "tags": [],
            "needs_background": "light"
          }
        }
      ]
    },
    {
      "cell_type": "markdown",
      "metadata": {
        "id": "QKpE060t4W4P",
        "colab_type": "text"
      },
      "source": [
        "# Data cleaning"
      ]
    },
    {
      "cell_type": "markdown",
      "metadata": {
        "id": "wI2Yq1ZKSChd",
        "colab_type": "text"
      },
      "source": [
        "Importing the libraries for data cleaning\n"
      ]
    },
    {
      "cell_type": "code",
      "metadata": {
        "id": "wSmZtw71Rzpp",
        "colab_type": "code",
        "colab": {}
      },
      "source": [
        "import re\n",
        "import nltk\n",
        "from nltk.corpus import stopwords\n",
        "from  nltk.stem import SnowballStemmer"
      ],
      "execution_count": null,
      "outputs": []
    },
    {
      "cell_type": "markdown",
      "metadata": {
        "id": "SxUihSXRSKAL",
        "colab_type": "text"
      },
      "source": [
        "Data cleaning\n"
      ]
    },
    {
      "cell_type": "code",
      "metadata": {
        "id": "iJxi3gHPSgLn",
        "colab_type": "code",
        "colab": {
          "base_uri": "https://localhost:8080/",
          "height": 67
        },
        "outputId": "15bb1521-b7d6-4117-a576-bb59d622d633"
      },
      "source": [
        "# downloading stopwords for nltk in collab\n",
        "import nltk\n",
        "nltk.download('stopwords')"
      ],
      "execution_count": null,
      "outputs": [
        {
          "output_type": "stream",
          "text": [
            "[nltk_data] Downloading package stopwords to /root/nltk_data...\n",
            "[nltk_data]   Unzipping corpora/stopwords.zip.\n"
          ],
          "name": "stdout"
        },
        {
          "output_type": "execute_result",
          "data": {
            "text/plain": [
              "True"
            ]
          },
          "metadata": {
            "tags": []
          },
          "execution_count": 14
        }
      ]
    },
    {
      "cell_type": "code",
      "metadata": {
        "id": "1WBd4AA4S4T5",
        "colab_type": "code",
        "colab": {
          "base_uri": "https://localhost:8080/",
          "height": 118
        },
        "outputId": "e594c164-15d5-438c-a311-9f42ed334bf3"
      },
      "source": [
        "#looking at first few texts in data\n",
        "data['text'].head()"
      ],
      "execution_count": null,
      "outputs": [
        {
          "output_type": "execute_result",
          "data": {
            "text/plain": [
              "0    @switchfoot http://twitpic.com/2y1zl - Awww, t...\n",
              "1    is upset that he can't update his Facebook by ...\n",
              "2    @Kenichan I dived many times for the ball. Man...\n",
              "3      my whole body feels itchy and like its on fire \n",
              "4    @nationwideclass no, it's not behaving at all....\n",
              "Name: text, dtype: object"
            ]
          },
          "metadata": {
            "tags": []
          },
          "execution_count": 15
        }
      ]
    },
    {
      "cell_type": "markdown",
      "metadata": {
        "id": "clr4QfG07j5B",
        "colab_type": "text"
      },
      "source": [
        "Lets look at stop_words that we are going to remove"
      ]
    },
    {
      "cell_type": "code",
      "metadata": {
        "id": "QAqyut-r7Qfm",
        "colab_type": "code",
        "colab": {}
      },
      "source": [
        "stop_words = stopwords.words(\"english\")"
      ],
      "execution_count": null,
      "outputs": []
    },
    {
      "cell_type": "code",
      "metadata": {
        "id": "FwJbzhsQ7R8u",
        "colab_type": "code",
        "colab": {
          "base_uri": "https://localhost:8080/",
          "height": 34
        },
        "outputId": "2609e532-af79-4d0b-dfc5-3cf6c6cf5527"
      },
      "source": [
        "stop_words[:10]"
      ],
      "execution_count": null,
      "outputs": [
        {
          "output_type": "execute_result",
          "data": {
            "text/plain": [
              "['i', 'me', 'my', 'myself', 'we', 'our', 'ours', 'ourselves', 'you', \"you're\"]"
            ]
          },
          "metadata": {
            "tags": []
          },
          "execution_count": 17
        }
      ]
    },
    {
      "cell_type": "markdown",
      "metadata": {
        "id": "fiL63Ay87mi4",
        "colab_type": "text"
      },
      "source": [
        "lets look at the stemmer that we are going to use"
      ]
    },
    {
      "cell_type": "code",
      "metadata": {
        "id": "3NQzvbaR7qLG",
        "colab_type": "code",
        "colab": {}
      },
      "source": [
        "stemmer = SnowballStemmer(\"english\")"
      ],
      "execution_count": null,
      "outputs": []
    },
    {
      "cell_type": "code",
      "metadata": {
        "id": "ar-4m1mYcDkk",
        "colab_type": "code",
        "colab": {}
      },
      "source": [
        "stop = ['i', 'me', 'my', 'myself', 'we', 'our', 'ours', 'ourselves', 'you', \"you're\", \"you've\", \"you'll\", \"you'd\", 'your', 'yours', 'yourself', \n",
        "        'yourselves', 'he', 'him', 'his', 'himself', 'she', \"she's\", 'her', 'hers', 'herself', 'it', \"it's\", 'its', 'itself', 'they', 'them', \n",
        "        'their', 'theirs', 'themselves', 'what', 'which', 'who', 'whom', 'this', 'that', \"that'll\", 'these', 'those', 'am', 'is', 'are', 'was', \n",
        "        'were', 'be', 'been', 'being', 'have', 'has', 'had', 'having', 'do', 'does', 'did', 'doing', 'a', 'an', 'the', 'and', 'but', 'if', 'or', \n",
        "        'because', 'as', 'until', 'while', 'of', 'at', 'by', 'for', 'with', 'about', 'against', 'between', 'into', 'through', 'during', 'before', \n",
        "        'after', 'above', 'below', 'to', 'from', 'up', 'down', 'in', 'out', 'on', 'off', 'over', 'under', 'again', 'further', 'then', 'once', 'here',\n",
        "        'there', 'when', 'where', 'why', 'how', 'all', 'any', 'both', 'each', 'few', 'more', 'most', 'other', 'some', 'such',  'only', 'own', 'same', \n",
        "        'so', 'than', 'too', 'very', 's', 't', 'can', 'will', 'just',  'should', \"should've\", 'now', 'd', 'll', 'm', 'o', 're', 've', 'y']\n",
        "removed = ['no', 'nor', 'not','don', \"don't\",'ain', 'aren', \"aren't\", 'couldn', \"couldn't\", 'didn', \"didn't\", 'doesn', \"doesn't\", \n",
        "'hadn', \"hadn't\", 'hasn', \"hasn't\", 'haven', \"haven't\", 'isn', \"isn't\", 'ma', 'mightn', \"mightn't\", 'mustn', \"mustn't\", 'needn', \"needn't\", \n",
        "'shan', \"shan't\", 'shouldn', \"shouldn't\", 'wasn', \"wasn't\", 'weren', \"weren't\", 'won', \"won't\", 'wouldn', \"wouldn't\"]"
      ],
      "execution_count": null,
      "outputs": []
    },
    {
      "cell_type": "markdown",
      "metadata": {
        "id": "HfLFmU3b7y4O",
        "colab_type": "text"
      },
      "source": [
        "Lol! its calss object of nttk.stem.snowball as we defined"
      ]
    },
    {
      "cell_type": "code",
      "metadata": {
        "id": "JtDFNR85R6N8",
        "colab_type": "code",
        "colab": {}
      },
      "source": [
        "# TEXT CLENAING\n",
        "TEXT_CLEANING_RE = \"@\\S+|https?:\\S+|http?:\\S|[^A-Za-z0-9]+\"\n",
        "\n",
        "# Meaning of expression\n",
        "# @ = @\n",
        "# \\S+ = (not whitespace) one or more\n",
        "# | = or\n",
        "# https = https once or none\n",
        "# ?: = non capture group\n",
        "# \\S = (not whitespace) one or more\n",
        "# | = or\n",
        "# http = https once or more\n",
        "# ?: = non capture group\n",
        "# \\S =  (not whitespace) one or more\n",
        "# | = or\n",
        "# [^A-Za-z0-9] : anything\n",
        "\n",
        "\n",
        "stop_words = stopwords.words(\"english\")\n",
        "stemmer = SnowballStemmer(\"english\")\n",
        "\n",
        "def preprocess(text, stem=False):\n",
        "    # stemmer is not used as stem is kept as false\n",
        "    # Remove link,user and special characters\n",
        "    text = re.sub(TEXT_CLEANING_RE, ' ', str(text).lower()).strip()\n",
        "    tokens = []\n",
        "    for token in text.split():\n",
        "        if token not in stop:\n",
        "            if stem:\n",
        "                tokens.append(stemmer.stem(token))\n",
        "            else:\n",
        "                tokens.append(token)\n",
        "    return \" \".join(tokens)"
      ],
      "execution_count": null,
      "outputs": []
    },
    {
      "cell_type": "code",
      "metadata": {
        "id": "ZNFfYQ1rSREp",
        "colab_type": "code",
        "colab": {}
      },
      "source": [
        "data.text = data.text.apply(lambda x: preprocess(x))"
      ],
      "execution_count": null,
      "outputs": []
    },
    {
      "cell_type": "code",
      "metadata": {
        "id": "7CcFEu_pjvtP",
        "colab_type": "code",
        "colab": {
          "base_uri": "https://localhost:8080/",
          "height": 195
        },
        "outputId": "4d87aba6-7d4c-4976-9b75-a39f4bb86f3d"
      },
      "source": [
        "data.head()"
      ],
      "execution_count": null,
      "outputs": [
        {
          "output_type": "execute_result",
          "data": {
            "text/html": [
              "<div>\n",
              "<style scoped>\n",
              "    .dataframe tbody tr th:only-of-type {\n",
              "        vertical-align: middle;\n",
              "    }\n",
              "\n",
              "    .dataframe tbody tr th {\n",
              "        vertical-align: top;\n",
              "    }\n",
              "\n",
              "    .dataframe thead th {\n",
              "        text-align: right;\n",
              "    }\n",
              "</style>\n",
              "<table border=\"1\" class=\"dataframe\">\n",
              "  <thead>\n",
              "    <tr style=\"text-align: right;\">\n",
              "      <th></th>\n",
              "      <th>target</th>\n",
              "      <th>ids</th>\n",
              "      <th>date</th>\n",
              "      <th>flag</th>\n",
              "      <th>user</th>\n",
              "      <th>text</th>\n",
              "    </tr>\n",
              "  </thead>\n",
              "  <tbody>\n",
              "    <tr>\n",
              "      <th>0</th>\n",
              "      <td>NEGATIVE</td>\n",
              "      <td>1467810369</td>\n",
              "      <td>Mon Apr 06 22:19:45 PDT 2009</td>\n",
              "      <td>NO_QUERY</td>\n",
              "      <td>_TheSpecialOne_</td>\n",
              "      <td>awww bummer shoulda got david carr third day</td>\n",
              "    </tr>\n",
              "    <tr>\n",
              "      <th>1</th>\n",
              "      <td>NEGATIVE</td>\n",
              "      <td>1467810672</td>\n",
              "      <td>Mon Apr 06 22:19:49 PDT 2009</td>\n",
              "      <td>NO_QUERY</td>\n",
              "      <td>scotthamilton</td>\n",
              "      <td>upset update facebook texting might cry result...</td>\n",
              "    </tr>\n",
              "    <tr>\n",
              "      <th>2</th>\n",
              "      <td>NEGATIVE</td>\n",
              "      <td>1467810917</td>\n",
              "      <td>Mon Apr 06 22:19:53 PDT 2009</td>\n",
              "      <td>NO_QUERY</td>\n",
              "      <td>mattycus</td>\n",
              "      <td>dived many times ball managed save 50 rest go ...</td>\n",
              "    </tr>\n",
              "    <tr>\n",
              "      <th>3</th>\n",
              "      <td>NEGATIVE</td>\n",
              "      <td>1467811184</td>\n",
              "      <td>Mon Apr 06 22:19:57 PDT 2009</td>\n",
              "      <td>NO_QUERY</td>\n",
              "      <td>ElleCTF</td>\n",
              "      <td>whole body feels itchy like fire</td>\n",
              "    </tr>\n",
              "    <tr>\n",
              "      <th>4</th>\n",
              "      <td>NEGATIVE</td>\n",
              "      <td>1467811193</td>\n",
              "      <td>Mon Apr 06 22:19:57 PDT 2009</td>\n",
              "      <td>NO_QUERY</td>\n",
              "      <td>Karoli</td>\n",
              "      <td>behaving mad see</td>\n",
              "    </tr>\n",
              "  </tbody>\n",
              "</table>\n",
              "</div>"
            ],
            "text/plain": [
              "     target  ...                                               text\n",
              "0  NEGATIVE  ...       awww bummer shoulda got david carr third day\n",
              "1  NEGATIVE  ...  upset update facebook texting might cry result...\n",
              "2  NEGATIVE  ...  dived many times ball managed save 50 rest go ...\n",
              "3  NEGATIVE  ...                   whole body feels itchy like fire\n",
              "4  NEGATIVE  ...                                   behaving mad see\n",
              "\n",
              "[5 rows x 6 columns]"
            ]
          },
          "metadata": {
            "tags": []
          },
          "execution_count": 60
        }
      ]
    },
    {
      "cell_type": "markdown",
      "metadata": {
        "id": "5liIIWYdBbg-",
        "colab_type": "text"
      },
      "source": [
        "# Splitting the dataset into training and testing"
      ]
    },
    {
      "cell_type": "code",
      "metadata": {
        "id": "rqhBilZgjzEw",
        "colab_type": "code",
        "colab": {
          "base_uri": "https://localhost:8080/",
          "height": 50
        },
        "outputId": "0f2b1954-b867-4b47-e754-ff6c0f1afee8"
      },
      "source": [
        "from sklearn.model_selection import train_test_split\n",
        "data_train, data_test = train_test_split(data, test_size=0.2, random_state=42)\n",
        "print(\"TRAIN size:\", len(data_train))\n",
        "print(\"TEST size:\", len(data_test))"
      ],
      "execution_count": null,
      "outputs": [
        {
          "output_type": "stream",
          "text": [
            "TRAIN size: 1280000\n",
            "TEST size: 320000\n"
          ],
          "name": "stdout"
        }
      ]
    },
    {
      "cell_type": "markdown",
      "metadata": {
        "id": "P0OC_q0MD9VE",
        "colab_type": "text"
      },
      "source": [
        "# Making a list of list of words in sentence"
      ]
    },
    {
      "cell_type": "code",
      "metadata": {
        "id": "33b7PcM-D6Co",
        "colab_type": "code",
        "colab": {
          "base_uri": "https://localhost:8080/",
          "height": 50
        },
        "outputId": "50a61812-ce46-467a-b6ef-c51002dc6c57"
      },
      "source": [
        "%%time\n",
        "documents = [_text.split() for _text in data_train.text]"
      ],
      "execution_count": null,
      "outputs": [
        {
          "output_type": "stream",
          "text": [
            "CPU times: user 2.37 s, sys: 311 ms, total: 2.68 s\n",
            "Wall time: 2.69 s\n"
          ],
          "name": "stdout"
        }
      ]
    },
    {
      "cell_type": "code",
      "metadata": {
        "id": "dU83oxLAj3Ti",
        "colab_type": "code",
        "colab": {
          "base_uri": "https://localhost:8080/",
          "height": 521
        },
        "outputId": "fa21ab58-5399-49c8-b547-130ef62fd5ca"
      },
      "source": [
        "# lets look at first five element\n",
        "documents[0:5]"
      ],
      "execution_count": null,
      "outputs": [
        {
          "output_type": "execute_result",
          "data": {
            "text/plain": [
              "[['ya',\n",
              "  'quot',\n",
              "  'like',\n",
              "  'palm',\n",
              "  'pre',\n",
              "  'touchstone',\n",
              "  'charger',\n",
              "  'readynow',\n",
              "  'yes',\n",
              "  'sounds',\n",
              "  'good',\n",
              "  'beer',\n",
              "  'ready',\n",
              "  'prelaunch'],\n",
              " ['felt', 'earthquake', 'afternoon', 'seems', 'epicenter'],\n",
              " ['ruffles', 'shirts', 'like', 'likey'],\n",
              " ['pretty',\n",
              "  'bad',\n",
              "  'night',\n",
              "  'crappy',\n",
              "  'morning',\n",
              "  'fml',\n",
              "  'buttface',\n",
              "  'didnt',\n",
              "  'say',\n",
              "  'could',\n",
              "  'go',\n",
              "  'work',\n",
              "  'today'],\n",
              " ['yeah', 'clear', 'view']]"
            ]
          },
          "metadata": {
            "tags": []
          },
          "execution_count": 63
        }
      ]
    },
    {
      "cell_type": "markdown",
      "metadata": {
        "id": "rrQHNSuGEuSj",
        "colab_type": "text"
      },
      "source": [
        "# Lets make word2vec model from genism"
      ]
    },
    {
      "cell_type": "code",
      "metadata": {
        "id": "tVmoT4rMEzgM",
        "colab_type": "code",
        "colab": {}
      },
      "source": [
        "# Matplotlib\n",
        "import matplotlib.pyplot as plt\n",
        "%matplotlib inline\n",
        "\n",
        "# Scikit-learn\n",
        "from sklearn.model_selection import train_test_split\n",
        "from sklearn.preprocessing import LabelEncoder\n",
        "from sklearn.metrics import confusion_matrix, classification_report, accuracy_score\n",
        "from sklearn.manifold import TSNE\n",
        "from sklearn.feature_extraction.text import TfidfVectorizer\n",
        "\n",
        "# Keras\n",
        "from keras.preprocessing.text import Tokenizer\n",
        "from keras.preprocessing.sequence import pad_sequences\n",
        "from keras.models import Sequential\n",
        "from keras.layers import Activation, Dense, Dropout, Embedding, Flatten, Conv1D, MaxPooling1D, LSTM,Bidirectional\n",
        "from keras import utils\n",
        "from keras.callbacks import ReduceLROnPlateau, EarlyStopping\n",
        "\n",
        "# nltk\n",
        "import nltk\n",
        "from nltk.corpus import stopwords\n",
        "from  nltk.stem import SnowballStemmer\n",
        "\n",
        "# Word2vec\n",
        "import gensim\n",
        "\n",
        "# Utility\n",
        "import re\n",
        "import numpy as np\n",
        "import os\n",
        "from collections import Counter\n",
        "import logging\n",
        "import time\n",
        "import pickle\n",
        "import itertools\n",
        "\n"
      ],
      "execution_count": null,
      "outputs": []
    },
    {
      "cell_type": "markdown",
      "metadata": {
        "id": "e0D0pT_2FHws",
        "colab_type": "text"
      },
      "source": [
        "# WORD2VEC model definition\n",
        "<br> W2V_SIZE = 300 i.e we would be using 300 feature representation of words\n",
        "<br> W2V_WINDOW = 7 i.e. Maximum distance between the current and predicted word within a sentence. (window in model definition)\n",
        "<br> W2V_EPOCH = 32 ; would be used at the time of trianing\n",
        "<br> W2V_MIN_COUNT = 10 :  Ignores all words with total frequency lower than this.(min_count in model definition)\n",
        "<br> workers = 8; faster training with multicore machines\n"
      ]
    },
    {
      "cell_type": "code",
      "metadata": {
        "id": "g2qCZ7hVEbKW",
        "colab_type": "code",
        "colab": {}
      },
      "source": [
        "w2v_model = gensim.models.word2vec.Word2Vec(size=300, \n",
        "                                            window=7, \n",
        "                                            min_count=10, \n",
        "                                            workers=8)"
      ],
      "execution_count": null,
      "outputs": []
    },
    {
      "cell_type": "markdown",
      "metadata": {
        "id": "bl8q_O60HOzK",
        "colab_type": "text"
      },
      "source": [
        "# training w2v_model"
      ]
    },
    {
      "cell_type": "markdown",
      "metadata": {
        "id": "9CAqFYm0Iywb",
        "colab_type": "text"
      },
      "source": [
        "### Lets first build a vocabulary"
      ]
    },
    {
      "cell_type": "code",
      "metadata": {
        "id": "3naa5hVmHDN9",
        "colab_type": "code",
        "colab": {}
      },
      "source": [
        "try:\n",
        "  w2v_model.build_vocab(documents)\n",
        "except:\n",
        "  pass"
      ],
      "execution_count": null,
      "outputs": []
    },
    {
      "cell_type": "code",
      "metadata": {
        "id": "tTPW8LbAII9d",
        "colab_type": "code",
        "colab": {
          "base_uri": "https://localhost:8080/",
          "height": 34
        },
        "outputId": "e8666528-3c82-4372-fc50-e58c527fb746"
      },
      "source": [
        "len(w2v_model.wv.vocab)"
      ],
      "execution_count": null,
      "outputs": [
        {
          "output_type": "execute_result",
          "data": {
            "text/plain": [
              "30369"
            ]
          },
          "metadata": {
            "tags": []
          },
          "execution_count": 28
        }
      ]
    },
    {
      "cell_type": "code",
      "metadata": {
        "id": "uNVgNb--uKIF",
        "colab_type": "code",
        "colab": {}
      },
      "source": [
        ""
      ],
      "execution_count": null,
      "outputs": []
    },
    {
      "cell_type": "markdown",
      "metadata": {
        "id": "yGczmSRrI5xT",
        "colab_type": "text"
      },
      "source": [
        "### Lets train the model"
      ]
    },
    {
      "cell_type": "code",
      "metadata": {
        "id": "yQuQ7VBxIfIz",
        "colab_type": "code",
        "colab": {
          "base_uri": "https://localhost:8080/",
          "height": 67
        },
        "outputId": "1f1e694e-9d90-4b57-99cd-ffdd5cb2dba0"
      },
      "source": [
        "%%time\n",
        "w2v_model.train(documents, total_examples=len(documents), epochs=32)"
      ],
      "execution_count": null,
      "outputs": [
        {
          "output_type": "stream",
          "text": [
            "CPU times: user 20min 1s, sys: 3.48 s, total: 20min 4s\n",
            "Wall time: 10min 19s\n"
          ],
          "name": "stdout"
        },
        {
          "output_type": "execute_result",
          "data": {
            "text/plain": [
              "(263120125, 295270528)"
            ]
          },
          "metadata": {
            "tags": []
          },
          "execution_count": 69
        }
      ]
    },
    {
      "cell_type": "markdown",
      "metadata": {
        "id": "4h9j5xaNNbqz",
        "colab_type": "text"
      },
      "source": [
        "# lets look at a few similar words"
      ]
    },
    {
      "cell_type": "code",
      "metadata": {
        "id": "BIZxZhmbMf10",
        "colab_type": "code",
        "colab": {
          "base_uri": "https://localhost:8080/",
          "height": 272
        },
        "outputId": "dd2bf210-7bdb-43f7-b93b-bfb2fbce8239"
      },
      "source": [
        "w2v_model.most_similar(\"love\")"
      ],
      "execution_count": null,
      "outputs": [
        {
          "output_type": "stream",
          "text": [
            "/usr/local/lib/python3.6/dist-packages/ipykernel_launcher.py:1: DeprecationWarning: Call to deprecated `most_similar` (Method will be removed in 4.0.0, use self.wv.most_similar() instead).\n",
            "  \"\"\"Entry point for launching an IPython kernel.\n",
            "/usr/local/lib/python3.6/dist-packages/gensim/matutils.py:737: FutureWarning: Conversion of the second argument of issubdtype from `int` to `np.signedinteger` is deprecated. In future, it will be treated as `np.int64 == np.dtype(int).type`.\n",
            "  if np.issubdtype(vec.dtype, np.int):\n"
          ],
          "name": "stderr"
        },
        {
          "output_type": "execute_result",
          "data": {
            "text/plain": [
              "[('luv', 0.5863800048828125),\n",
              " ('loves', 0.5590203404426575),\n",
              " ('loved', 0.5284938812255859),\n",
              " ('adore', 0.5249035954475403),\n",
              " ('amazing', 0.5008914470672607),\n",
              " ('looove', 0.4876713156700134),\n",
              " ('awesome', 0.4590457081794739),\n",
              " ('miss', 0.4518846869468689),\n",
              " ('loveee', 0.44887465238571167),\n",
              " ('loooove', 0.4483523368835449)]"
            ]
          },
          "metadata": {
            "tags": []
          },
          "execution_count": 81
        }
      ]
    },
    {
      "cell_type": "code",
      "metadata": {
        "id": "tE2edJkAMshe",
        "colab_type": "code",
        "colab": {
          "base_uri": "https://localhost:8080/",
          "height": 272
        },
        "outputId": "8f7ba284-5357-472b-c94c-deef1f64862e"
      },
      "source": [
        "w2v_model.most_similar(\"hate\")"
      ],
      "execution_count": null,
      "outputs": [
        {
          "output_type": "stream",
          "text": [
            "/usr/local/lib/python3.6/dist-packages/ipykernel_launcher.py:1: DeprecationWarning: Call to deprecated `most_similar` (Method will be removed in 4.0.0, use self.wv.most_similar() instead).\n",
            "  \"\"\"Entry point for launching an IPython kernel.\n",
            "/usr/local/lib/python3.6/dist-packages/gensim/matutils.py:737: FutureWarning: Conversion of the second argument of issubdtype from `int` to `np.signedinteger` is deprecated. In future, it will be treated as `np.int64 == np.dtype(int).type`.\n",
            "  if np.issubdtype(vec.dtype, np.int):\n"
          ],
          "name": "stderr"
        },
        {
          "output_type": "execute_result",
          "data": {
            "text/plain": [
              "[('hates', 0.582089900970459),\n",
              " ('sucks', 0.4959036707878113),\n",
              " ('stupid', 0.48291563987731934),\n",
              " ('dislike', 0.46822670102119446),\n",
              " ('suck', 0.46545013785362244),\n",
              " ('h8', 0.4295975863933563),\n",
              " ('hating', 0.4273720979690552),\n",
              " ('ugh', 0.41794466972351074),\n",
              " ('despise', 0.4156067967414856),\n",
              " ('annoying', 0.40409672260284424)]"
            ]
          },
          "metadata": {
            "tags": []
          },
          "execution_count": 82
        }
      ]
    },
    {
      "cell_type": "code",
      "metadata": {
        "id": "OvbMCLpMMyLC",
        "colab_type": "code",
        "colab": {
          "base_uri": "https://localhost:8080/",
          "height": 272
        },
        "outputId": "98adf563-c611-436a-b1eb-360bb86d7ddc"
      },
      "source": [
        "w2v_model.most_similar(\"cat\")"
      ],
      "execution_count": null,
      "outputs": [
        {
          "output_type": "stream",
          "text": [
            "/usr/local/lib/python3.6/dist-packages/ipykernel_launcher.py:1: DeprecationWarning: Call to deprecated `most_similar` (Method will be removed in 4.0.0, use self.wv.most_similar() instead).\n",
            "  \"\"\"Entry point for launching an IPython kernel.\n",
            "/usr/local/lib/python3.6/dist-packages/gensim/matutils.py:737: FutureWarning: Conversion of the second argument of issubdtype from `int` to `np.signedinteger` is deprecated. In future, it will be treated as `np.int64 == np.dtype(int).type`.\n",
            "  if np.issubdtype(vec.dtype, np.int):\n"
          ],
          "name": "stderr"
        },
        {
          "output_type": "execute_result",
          "data": {
            "text/plain": [
              "[('dog', 0.646408200263977),\n",
              " ('kitten', 0.6228753328323364),\n",
              " ('kitty', 0.5911570191383362),\n",
              " ('puppy', 0.49179938435554504),\n",
              " ('cats', 0.4780624508857727),\n",
              " ('kitties', 0.4724888205528259),\n",
              " ('hamster', 0.46165069937705994),\n",
              " ('pigeon', 0.4538411498069763),\n",
              " ('stray', 0.44955429434776306),\n",
              " ('kitteh', 0.43813571333885193)]"
            ]
          },
          "metadata": {
            "tags": []
          },
          "execution_count": 83
        }
      ]
    },
    {
      "cell_type": "code",
      "metadata": {
        "id": "ZMz2GivhM2-m",
        "colab_type": "code",
        "colab": {
          "base_uri": "https://localhost:8080/",
          "height": 272
        },
        "outputId": "fe462520-6247-4d2f-db87-705c394ef10c"
      },
      "source": [
        "w2v_model.most_similar(\"amazon\")"
      ],
      "execution_count": null,
      "outputs": [
        {
          "output_type": "stream",
          "text": [
            "/usr/local/lib/python3.6/dist-packages/ipykernel_launcher.py:1: DeprecationWarning: Call to deprecated `most_similar` (Method will be removed in 4.0.0, use self.wv.most_similar() instead).\n",
            "  \"\"\"Entry point for launching an IPython kernel.\n",
            "/usr/local/lib/python3.6/dist-packages/gensim/matutils.py:737: FutureWarning: Conversion of the second argument of issubdtype from `int` to `np.signedinteger` is deprecated. In future, it will be treated as `np.int64 == np.dtype(int).type`.\n",
            "  if np.issubdtype(vec.dtype, np.int):\n"
          ],
          "name": "stderr"
        },
        {
          "output_type": "execute_result",
          "data": {
            "text/plain": [
              "[('shipping', 0.45112746953964233),\n",
              " ('shipped', 0.4049015939235687),\n",
              " ('postage', 0.39302873611450195),\n",
              " ('copies', 0.3869944214820862),\n",
              " ('stock', 0.37921279668807983),\n",
              " ('itunes', 0.3670021891593933),\n",
              " ('zazzle', 0.3648422956466675),\n",
              " ('hmv', 0.3583901524543762),\n",
              " ('bluray', 0.3571857511997223),\n",
              " ('order', 0.3508510887622833)]"
            ]
          },
          "metadata": {
            "tags": []
          },
          "execution_count": 84
        }
      ]
    },
    {
      "cell_type": "code",
      "metadata": {
        "id": "lHRyNs_RM7bL",
        "colab_type": "code",
        "colab": {
          "base_uri": "https://localhost:8080/",
          "height": 272
        },
        "outputId": "5f7084ec-05b1-456d-fafe-29167e1c14db"
      },
      "source": [
        "w2v_model.most_similar(\"google\")"
      ],
      "execution_count": null,
      "outputs": [
        {
          "output_type": "stream",
          "text": [
            "/usr/local/lib/python3.6/dist-packages/ipykernel_launcher.py:1: DeprecationWarning: Call to deprecated `most_similar` (Method will be removed in 4.0.0, use self.wv.most_similar() instead).\n",
            "  \"\"\"Entry point for launching an IPython kernel.\n",
            "/usr/local/lib/python3.6/dist-packages/gensim/matutils.py:737: FutureWarning: Conversion of the second argument of issubdtype from `int` to `np.signedinteger` is deprecated. In future, it will be treated as `np.int64 == np.dtype(int).type`.\n",
            "  if np.issubdtype(vec.dtype, np.int):\n"
          ],
          "name": "stderr"
        },
        {
          "output_type": "execute_result",
          "data": {
            "text/plain": [
              "[('bing', 0.479583740234375),\n",
              " ('search', 0.47482359409332275),\n",
              " ('xmpp', 0.46358829736709595),\n",
              " ('gmail', 0.46295660734176636),\n",
              " ('indexed', 0.4542398452758789),\n",
              " ('analytics', 0.45199495553970337),\n",
              " ('adsense', 0.45051756501197815),\n",
              " ('user', 0.4369664788246155),\n",
              " ('adwords', 0.43376433849334717),\n",
              " ('yahoo', 0.428270161151886)]"
            ]
          },
          "metadata": {
            "tags": []
          },
          "execution_count": 85
        }
      ]
    },
    {
      "cell_type": "code",
      "metadata": {
        "id": "yY_830qlM-uS",
        "colab_type": "code",
        "colab": {
          "base_uri": "https://localhost:8080/",
          "height": 272
        },
        "outputId": "c5145830-cded-494c-a9f4-9d3aa2db7caa"
      },
      "source": [
        "w2v_model.most_similar(\"boy\")"
      ],
      "execution_count": null,
      "outputs": [
        {
          "output_type": "stream",
          "text": [
            "/usr/local/lib/python3.6/dist-packages/ipykernel_launcher.py:1: DeprecationWarning: Call to deprecated `most_similar` (Method will be removed in 4.0.0, use self.wv.most_similar() instead).\n",
            "  \"\"\"Entry point for launching an IPython kernel.\n",
            "/usr/local/lib/python3.6/dist-packages/gensim/matutils.py:737: FutureWarning: Conversion of the second argument of issubdtype from `int` to `np.signedinteger` is deprecated. In future, it will be treated as `np.int64 == np.dtype(int).type`.\n",
            "  if np.issubdtype(vec.dtype, np.int):\n"
          ],
          "name": "stderr"
        },
        {
          "output_type": "execute_result",
          "data": {
            "text/plain": [
              "[('girl', 0.5712612867355347),\n",
              " ('kid', 0.42793789505958557),\n",
              " ('boys', 0.4047055244445801),\n",
              " ('baby', 0.39736419916152954),\n",
              " ('guy', 0.37592747807502747),\n",
              " ('man', 0.3648235499858856),\n",
              " ('brother', 0.36205723881721497),\n",
              " ('son', 0.3596445620059967),\n",
              " ('munchkin', 0.3514896631240845),\n",
              " ('girls', 0.33767226338386536)]"
            ]
          },
          "metadata": {
            "tags": []
          },
          "execution_count": 86
        }
      ]
    },
    {
      "cell_type": "markdown",
      "metadata": {
        "id": "thVIYqKbOmM-",
        "colab_type": "text"
      },
      "source": [
        "# Lets start on training a NN based on the word2vec vocab"
      ]
    },
    {
      "cell_type": "markdown",
      "metadata": {
        "id": "EaRg371gOojK",
        "colab_type": "text"
      },
      "source": [
        "## Tokenizing the sentences"
      ]
    },
    {
      "cell_type": "code",
      "metadata": {
        "id": "eKzHBNowOj3E",
        "colab_type": "code",
        "colab": {
          "base_uri": "https://localhost:8080/",
          "height": 67
        },
        "outputId": "4dba3306-2816-4c89-dc66-0985fd552bf1"
      },
      "source": [
        "%%time\n",
        "tokenizer = Tokenizer()\n",
        "tokenizer.fit_on_texts(data_train.text)\n",
        "\n",
        "vocab_size = len(tokenizer.word_index) + 1\n",
        "print(\"Total words\", vocab_size)"
      ],
      "execution_count": null,
      "outputs": [
        {
          "output_type": "stream",
          "text": [
            "Total words 290419\n",
            "CPU times: user 15.1 s, sys: 142 ms, total: 15.2 s\n",
            "Wall time: 15.2 s\n"
          ],
          "name": "stdout"
        }
      ]
    },
    {
      "cell_type": "markdown",
      "metadata": {
        "id": "_QkNraGePOCi",
        "colab_type": "text"
      },
      "source": [
        "## Preparing the dataset for feeding into neural network"
      ]
    },
    {
      "cell_type": "code",
      "metadata": {
        "id": "nt-VfjuvPGZ0",
        "colab_type": "code",
        "colab": {}
      },
      "source": [
        "SEQUENCE_LENGTH = 140 \n",
        "# KERAS\n",
        "SEQUENCE_LENGTH = 140\n",
        "EPOCHS = 8\n",
        "BATCH_SIZE = 1024"
      ],
      "execution_count": null,
      "outputs": []
    },
    {
      "cell_type": "markdown",
      "metadata": {
        "id": "q1gZzm9XPqhd",
        "colab_type": "text"
      },
      "source": [
        "### Padding sequences"
      ]
    },
    {
      "cell_type": "code",
      "metadata": {
        "id": "SVbLxipdO8gr",
        "colab_type": "code",
        "colab": {
          "base_uri": "https://localhost:8080/",
          "height": 50
        },
        "outputId": "19b69523-152a-466b-e219-a848cbe47293"
      },
      "source": [
        "%%time\n",
        "x_train = pad_sequences(tokenizer.texts_to_sequences(data_train.text), maxlen=SEQUENCE_LENGTH)\n",
        "x_test = pad_sequences(tokenizer.texts_to_sequences(data_test.text), maxlen=SEQUENCE_LENGTH)"
      ],
      "execution_count": null,
      "outputs": [
        {
          "output_type": "stream",
          "text": [
            "CPU times: user 22.5 s, sys: 160 ms, total: 22.7 s\n",
            "Wall time: 22.7 s\n"
          ],
          "name": "stdout"
        }
      ]
    },
    {
      "cell_type": "markdown",
      "metadata": {
        "id": "c7dzYhT5OlZM",
        "colab_type": "text"
      },
      "source": [
        "### Encoding the labels"
      ]
    },
    {
      "cell_type": "code",
      "metadata": {
        "id": "ZjCSUhgWNdqC",
        "colab_type": "code",
        "colab": {
          "base_uri": "https://localhost:8080/",
          "height": 34
        },
        "outputId": "5340965d-1d4e-4ec5-a3f8-bb6f047804d9"
      },
      "source": [
        "labels = data_train.target.unique().tolist()\n",
        "labels.append(\"NEUTRAL\")\n",
        "labels"
      ],
      "execution_count": null,
      "outputs": [
        {
          "output_type": "execute_result",
          "data": {
            "text/plain": [
              "['POSITIVE', 'NEGATIVE', 'NEUTRAL']"
            ]
          },
          "metadata": {
            "tags": []
          },
          "execution_count": 73
        }
      ]
    },
    {
      "cell_type": "code",
      "metadata": {
        "id": "LTyfiquiSCIz",
        "colab_type": "code",
        "colab": {
          "base_uri": "https://localhost:8080/",
          "height": 50
        },
        "outputId": "1b3af2f4-b1eb-40d8-ace2-3faa6c024f14"
      },
      "source": [
        "# we get labelEncoder from sklearn preprocessing ; it takes input as a list of categories and transforms them into classes \n",
        "encoder = LabelEncoder()\n",
        "encoder.fit(data_train.target.tolist())\n",
        "\n",
        "y_train = encoder.transform(data_train.target)\n",
        "y_test = encoder.transform(data_test.target)\n",
        "\n",
        "# reshaping to avoid \n",
        "# y_train shapes as (1280000,)\n",
        "# y_test shapes as (320000,)\n",
        "y_train = y_train.reshape(-1,1)\n",
        "y_test = y_test.reshape(-1,1)\n",
        "\n",
        "print(\"y_train\",y_train.shape)\n",
        "print(\"y_test\",y_test.shape)"
      ],
      "execution_count": null,
      "outputs": [
        {
          "output_type": "stream",
          "text": [
            "y_train (1280000, 1)\n",
            "y_test (320000, 1)\n"
          ],
          "name": "stdout"
        }
      ]
    },
    {
      "cell_type": "markdown",
      "metadata": {
        "id": "tRJEkD2xTSDd",
        "colab_type": "text"
      },
      "source": [
        "### lets look at shapes for training and test sets with labels"
      ]
    },
    {
      "cell_type": "code",
      "metadata": {
        "id": "qnOZorTeT2S4",
        "colab_type": "code",
        "colab": {
          "base_uri": "https://localhost:8080/",
          "height": 101
        },
        "outputId": "589459de-fcbb-4c6c-9e44-7d022a72a0de"
      },
      "source": [
        "print(\"x_train\", x_train.shape)\n",
        "print(\"y_train\", y_train.shape)\n",
        "print()\n",
        "print(\"x_test\", x_test.shape)\n",
        "print(\"y_test\", y_test.shape)"
      ],
      "execution_count": null,
      "outputs": [
        {
          "output_type": "stream",
          "text": [
            "x_train (1280000, 140)\n",
            "y_train (1280000, 1)\n",
            "\n",
            "x_test (320000, 140)\n",
            "y_test (320000, 1)\n"
          ],
          "name": "stdout"
        }
      ]
    },
    {
      "cell_type": "code",
      "metadata": {
        "id": "tlN02Ww8UUqF",
        "colab_type": "code",
        "colab": {
          "base_uri": "https://localhost:8080/",
          "height": 185
        },
        "outputId": "ebbbbec6-b68f-4249-99e3-9f2c6d99b4b8"
      },
      "source": [
        "y_train[:10]"
      ],
      "execution_count": null,
      "outputs": [
        {
          "output_type": "execute_result",
          "data": {
            "text/plain": [
              "array([[1],\n",
              "       [1],\n",
              "       [1],\n",
              "       [0],\n",
              "       [1],\n",
              "       [1],\n",
              "       [1],\n",
              "       [1],\n",
              "       [1],\n",
              "       [1]])"
            ]
          },
          "metadata": {
            "tags": []
          },
          "execution_count": 76
        }
      ]
    },
    {
      "cell_type": "markdown",
      "metadata": {
        "id": "dhkWN95FYVTZ",
        "colab_type": "text"
      },
      "source": [
        "## Using trained Word2vec to define Embedding layer"
      ]
    },
    {
      "cell_type": "markdown",
      "metadata": {
        "id": "uWyjY0e8akn4",
        "colab_type": "text"
      },
      "source": [
        "### defining embedding matrix which can be used as a weight for training"
      ]
    },
    {
      "cell_type": "code",
      "metadata": {
        "id": "wlj99BWvVTDY",
        "colab_type": "code",
        "colab": {
          "base_uri": "https://localhost:8080/",
          "height": 34
        },
        "outputId": "6a1d487d-20af-4b1b-efb6-8efe18fb7df4"
      },
      "source": [
        "embedding_matrix = np.zeros((vocab_size, 300))\n",
        "for word, i in tokenizer.word_index.items():\n",
        "  if word in w2v_model.wv:\n",
        "    embedding_matrix[i] = w2v_model.wv[word]\n",
        "print(embedding_matrix.shape)"
      ],
      "execution_count": null,
      "outputs": [
        {
          "output_type": "stream",
          "text": [
            "(290419, 300)\n"
          ],
          "name": "stdout"
        }
      ]
    },
    {
      "cell_type": "markdown",
      "metadata": {
        "id": "NxiH-sbPZpTX",
        "colab_type": "text"
      },
      "source": [
        "### Lets see what tokenizer can do"
      ]
    },
    {
      "cell_type": "code",
      "metadata": {
        "id": "UBAvYwoEZFxf",
        "colab_type": "code",
        "colab": {
          "base_uri": "https://localhost:8080/",
          "height": 1000
        },
        "outputId": "5c2137ce-93e5-45d5-c8ad-fbdeaa8bb6c8"
      },
      "source": [
        "tokenizer.word_counts"
      ],
      "execution_count": null,
      "outputs": [
        {
          "output_type": "execute_result",
          "data": {
            "text/plain": [
              "OrderedDict([('ya', 8715),\n",
              "             ('quot', 57678),\n",
              "             ('like', 62879),\n",
              "             ('palm', 493),\n",
              "             ('pre', 1129),\n",
              "             ('touchstone', 5),\n",
              "             ('charger', 468),\n",
              "             ('readynow', 2),\n",
              "             ('yes', 14883),\n",
              "             ('sounds', 7032),\n",
              "             ('good', 72990),\n",
              "             ('beer', 2023),\n",
              "             ('ready', 11186),\n",
              "             ('prelaunch', 13),\n",
              "             ('felt', 1821),\n",
              "             ('earthquake', 244),\n",
              "             ('afternoon', 3358),\n",
              "             ('seems', 4090),\n",
              "             ('epicenter', 8),\n",
              "             ('ruffles', 9),\n",
              "             ('shirts', 554),\n",
              "             ('likey', 147),\n",
              "             ('pretty', 10149),\n",
              "             ('bad', 21782),\n",
              "             ('night', 34808),\n",
              "             ('crappy', 969),\n",
              "             ('morning', 27690),\n",
              "             ('fml', 1433),\n",
              "             ('buttface', 3),\n",
              "             ('didnt', 5280),\n",
              "             ('say', 13226),\n",
              "             ('could', 17483),\n",
              "             ('go', 59254),\n",
              "             ('work', 52012),\n",
              "             ('today', 54521),\n",
              "             ('yeah', 18005),\n",
              "             ('clear', 746),\n",
              "             ('view', 940),\n",
              "             ('one', 43132),\n",
              "             ('time', 46341),\n",
              "             ('follow', 9391),\n",
              "             ('fam', 1332),\n",
              "             ('ff', 1372),\n",
              "             ('georgeann13', 1),\n",
              "             ('nakithebeatman', 1),\n",
              "             ('flimackgod', 1),\n",
              "             ('chaz81', 1),\n",
              "             ('djt', 2),\n",
              "             ('elle', 80),\n",
              "             ('jaejaedynomite', 1),\n",
              "             ('welcome', 5840),\n",
              "             ('friday', 6909),\n",
              "             ('2', 34228),\n",
              "             ('u', 44729),\n",
              "             ('rock', 3167),\n",
              "             ('thanks', 32191),\n",
              "             ('added', 940),\n",
              "             ('next', 14872),\n",
              "             ('robcrotch', 1),\n",
              "             ('tm', 85),\n",
              "             ('video', 5636),\n",
              "             ('please', 13269),\n",
              "             ('met', 1876),\n",
              "             ('fiancee', 30),\n",
              "             ('ian', 282),\n",
              "             ('party', 7915),\n",
              "             ('day', 69741),\n",
              "             ('btw', 4004),\n",
              "             ('sweet', 5814),\n",
              "             ('congrats', 3009),\n",
              "             ('guys', 11248),\n",
              "             ('gawd', 175),\n",
              "             ('finished', 5918),\n",
              "             ('whole', 4799),\n",
              "             ('bowl', 471),\n",
              "             ('even', 15244),\n",
              "             ('posted', 1516),\n",
              "             ('previous', 387),\n",
              "             ('tweet', 9614),\n",
              "             ('making', 6691),\n",
              "             ('2nd', 1637),\n",
              "             ('awesome', 14594),\n",
              "             ('game', 7704),\n",
              "             ('short', 2428),\n",
              "             ('finish', 3040),\n",
              "             ('craving', 827),\n",
              "             ('god', 7648),\n",
              "             ('war', 549),\n",
              "             ('action', 613),\n",
              "             ('happy', 21678),\n",
              "             ('mothers', 1626),\n",
              "             ('grown', 461),\n",
              "             ('n', 9864),\n",
              "             ('amp', 38980),\n",
              "             ('lil', 2672),\n",
              "             ('prego', 24),\n",
              "             ('smuts', 2),\n",
              "             ('lol', 47353),\n",
              "             ('playing', 5886),\n",
              "             ('everyone', 13089),\n",
              "             ('loved', 3652),\n",
              "             ('bless', 1218),\n",
              "             ('back', 45483),\n",
              "             ('eating', 5096),\n",
              "             ('dinner', 6102),\n",
              "             ('chat', 1926),\n",
              "             ('room', 5184),\n",
              "             ('many', 7078),\n",
              "             ('heck', 709),\n",
              "             ('way', 19474),\n",
              "             ('heights', 94),\n",
              "             ('want', 33819),\n",
              "             ('trade', 334),\n",
              "             ('tired', 13080),\n",
              "             ('saying', 2490),\n",
              "             ('goodbye', 1681),\n",
              "             ('chicago', 1103),\n",
              "             ('stole', 529),\n",
              "             ('half', 4564),\n",
              "             ('12', 2990),\n",
              "             ('mai', 134),\n",
              "             ('tai', 118),\n",
              "             ('inbound', 15),\n",
              "             ('suddenly', 519),\n",
              "             ('trouble', 1268),\n",
              "             ('relaxing', 1600),\n",
              "             ('still', 34755),\n",
              "             ('closeee', 1),\n",
              "             ('figuring', 193),\n",
              "             ('ahhh', 2107),\n",
              "             ('help', 9449),\n",
              "             ('sarahlar', 1),\n",
              "             ('bizarre57', 4),\n",
              "             ('milliontwits', 3),\n",
              "             ('thank', 14574),\n",
              "             ('supporting', 227),\n",
              "             ('maternalhealth', 14),\n",
              "             ('hell', 4502),\n",
              "             ('starbucks', 1199),\n",
              "             ('rules', 487),\n",
              "             ('know', 41710),\n",
              "             ('pay', 3422),\n",
              "             ('doctor', 1288),\n",
              "             ('50', 1378),\n",
              "             ('hahahah', 379),\n",
              "             ('mah', 379),\n",
              "             ('freakin', 1044),\n",
              "             ('finals', 1850),\n",
              "             ('week', 17402),\n",
              "             ('fo', 361),\n",
              "             ('sho', 193),\n",
              "             ('visit', 2711),\n",
              "             ('foreal', 29),\n",
              "             ('new', 33949),\n",
              "             ('prospect', 66),\n",
              "             ('make', 19840),\n",
              "             ('greeting', 94),\n",
              "             ('cards', 672),\n",
              "             ('effing', 324),\n",
              "             ('maybe', 9909),\n",
              "             ('five', 1026),\n",
              "             ('months', 2790),\n",
              "             ('nobody', 1423),\n",
              "             ('died', 2981),\n",
              "             ('treatable', 3),\n",
              "             ('unlike', 168),\n",
              "             ('flu', 2162),\n",
              "             ('guess', 9246),\n",
              "             ('mean', 6131),\n",
              "             ('care', 3483),\n",
              "             ('daughter', 1453),\n",
              "             ('hooked', 340),\n",
              "             ('sims', 1864),\n",
              "             ('bought', 3436),\n",
              "             ('3', 25977),\n",
              "             ('came', 4769),\n",
              "             ('love', 51769),\n",
              "             ('boyfriend', 1881),\n",
              "             ('alone', 4052),\n",
              "             ('temp', 257),\n",
              "             ('102f', 2),\n",
              "             ('dunno', 1390),\n",
              "             ('shaun', 267),\n",
              "             ('dont', 14664),\n",
              "             ('shit', 5948),\n",
              "             ('anymore', 5344),\n",
              "             ('spx', 3),\n",
              "             ('920', 12),\n",
              "             ('floor', 933),\n",
              "             ('thats', 7613),\n",
              "             ('iv', 395),\n",
              "             ('e', 3195),\n",
              "             ('fun', 23018),\n",
              "             ('move', 3092),\n",
              "             ('la', 3381),\n",
              "             ('already', 11810),\n",
              "             ('going', 51775),\n",
              "             ('sleep', 22441),\n",
              "             ('got', 49114),\n",
              "             ('tonite', 991),\n",
              "             ('come', 19981),\n",
              "             ('apperance', 6),\n",
              "             ('yesterday', 7634),\n",
              "             ('webcast', 61),\n",
              "             ('tisk', 19),\n",
              "             ('remember', 4097),\n",
              "             ('supposed', 2462),\n",
              "             ('wear', 1982),\n",
              "             ('hotter', 185),\n",
              "             ('dress', 1849),\n",
              "             ('bride', 298),\n",
              "             ('andy', 736),\n",
              "             ('bet', 2225),\n",
              "             ('great', 26805),\n",
              "             ('worry', 2028),\n",
              "             ('gone', 6663),\n",
              "             ('song', 8017),\n",
              "             ('therealjordin', 22),\n",
              "             ('sang', 317),\n",
              "             ('american', 1064),\n",
              "             ('idol', 610),\n",
              "             ('made', 11035),\n",
              "             ('1st', 2460),\n",
              "             ('break', 3711),\n",
              "             ('fell', 2203),\n",
              "             ('bit', 8894),\n",
              "             ('near', 1680),\n",
              "             ('end', 6057),\n",
              "             ('level', 707),\n",
              "             ('though', 19269),\n",
              "             ('3550', 1),\n",
              "             ('chips', 620),\n",
              "             ('actually', 7979),\n",
              "             ('hella', 690),\n",
              "             ('bored', 8635),\n",
              "             ('totally', 5581),\n",
              "             ('mode', 569),\n",
              "             ('let', 12005),\n",
              "             ('check', 7012),\n",
              "             ('schedule', 782),\n",
              "             ('ethan', 116),\n",
              "             ('home', 32479),\n",
              "             ('piss', 319),\n",
              "             ('get', 65663),\n",
              "             ('yea', 3253),\n",
              "             ('told', 3638),\n",
              "             ('shirt', 1817),\n",
              "             ('holla', 302),\n",
              "             ('empress', 21),\n",
              "             ('empressccp', 1),\n",
              "             ('watching', 18273),\n",
              "             ('camp', 1419),\n",
              "             ('gotta', 7427),\n",
              "             ('find', 11389),\n",
              "             ('joe', 1254),\n",
              "             ('last', 28567),\n",
              "             ('sounded', 336),\n",
              "             ('beautiful', 6795),\n",
              "             ('doesnt', 2223),\n",
              "             ('friends', 11623),\n",
              "             ('twitter', 26207),\n",
              "             ('times', 6204),\n",
              "             ('probably', 5283),\n",
              "             ('gonna', 19181),\n",
              "             ('take', 13715),\n",
              "             ('weeks', 5167),\n",
              "             ('filter', 156),\n",
              "             ('daily', 780),\n",
              "             ('basis', 85),\n",
              "             ('lots', 4304),\n",
              "             ('stuff', 7944),\n",
              "             ('455', 3),\n",
              "             ('atm', 855),\n",
              "             ('included', 307),\n",
              "             ('longest', 425),\n",
              "             ('poem', 241),\n",
              "             ('world', 7533),\n",
              "             ('www', 3866),\n",
              "             ('longestpoemintheworld', 96),\n",
              "             ('com', 6556),\n",
              "             ('14244', 1),\n",
              "             ('sry', 399),\n",
              "             ('yep', 2469),\n",
              "             ('school', 16532),\n",
              "             ('jonathan', 195),\n",
              "             ('donde', 20),\n",
              "             ('estas', 20),\n",
              "             ('bro', 1664),\n",
              "             ('turned', 1649),\n",
              "             ('junkie', 59),\n",
              "             ('need', 28727),\n",
              "             ('scooby', 48),\n",
              "             ('snack', 320),\n",
              "             ('sure', 11890),\n",
              "             ('betablockers', 1),\n",
              "             ('giving', 1561),\n",
              "             ('munchies', 83),\n",
              "             ('tomorrow', 27308),\n",
              "             ('oh', 31799),\n",
              "             ('dead', 3002),\n",
              "             ('computer', 4199),\n",
              "             ('poor', 6559),\n",
              "             ('macbook', 722),\n",
              "             ('sad', 23585),\n",
              "             ('whats', 2276),\n",
              "             ('holidays', 864),\n",
              "             ('raining', 4104),\n",
              "             ('course', 3872),\n",
              "             ('wicked', 541),\n",
              "             ('long', 13748),\n",
              "             ('weekend', 14794),\n",
              "             ('miami', 587),\n",
              "             ('slept', 2009),\n",
              "             ('heading', 3279),\n",
              "             ('airport', 1889),\n",
              "             ('life', 13046),\n",
              "             ('reality', 773),\n",
              "             ('bday', 2190),\n",
              "             ('saw', 7943),\n",
              "             ('bill', 866),\n",
              "             ('hader', 6),\n",
              "             ('curragh', 1),\n",
              "             ('said', 7595),\n",
              "             ('hello', 4519),\n",
              "             ('really', 40091),\n",
              "             ('awwwwwwwww', 28),\n",
              "             ('clowns', 60),\n",
              "             ('wtf', 2184),\n",
              "             ('sarcastic', 97),\n",
              "             ('771', 3),\n",
              "             ('amazing', 9455),\n",
              "             ('ill', 5316),\n",
              "             ('catch', 2563),\n",
              "             ('tonight', 20863),\n",
              "             ('400', 255),\n",
              "             ('texts', 489),\n",
              "             ('luvlies', 2),\n",
              "             ('spent', 2165),\n",
              "             ('non', 1049),\n",
              "             ('productive', 874),\n",
              "             ('believe', 5852),\n",
              "             ('ha', 5126),\n",
              "             ('jus', 1653),\n",
              "             ('bummed', 1481),\n",
              "             ('hope', 27144),\n",
              "             ('dun', 376),\n",
              "             ('used', 4198),\n",
              "             ('slow', 2269),\n",
              "             ('maintenance', 328),\n",
              "             ('tgif', 369),\n",
              "             ('excited', 7855),\n",
              "             ('see', 37134),\n",
              "             ('aurora', 31),\n",
              "             ('boo', 4187),\n",
              "             ('grad', 891),\n",
              "             ('saturday', 4856),\n",
              "             ('homework', 3081),\n",
              "             ('moving', 2426),\n",
              "             ('onto', 779),\n",
              "             ('assignments', 373),\n",
              "             ('someone', 9267),\n",
              "             ('tell', 8290),\n",
              "             ('twibe', 55),\n",
              "             ('feeling', 12119),\n",
              "             ('lonely', 1777),\n",
              "             ('heyy', 547),\n",
              "             ('wats', 268),\n",
              "             ('mite', 152),\n",
              "             ('comin', 468),\n",
              "             ('florida', 785),\n",
              "             ('summer', 9748),\n",
              "             ('dancing', 1207),\n",
              "             ('puddles', 33),\n",
              "             ('little', 13537),\n",
              "             ('kid', 1786),\n",
              "             ('better', 18588),\n",
              "             ('baby', 8336),\n",
              "             ('dog', 4025),\n",
              "             ('ashlee', 46),\n",
              "             ('24a3e9ee', 1),\n",
              "             ('bb', 1388),\n",
              "             ('pin', 189),\n",
              "             ('anyone', 5911),\n",
              "             ('wants', 4995),\n",
              "             ('jodi', 37),\n",
              "             ('also', 8389),\n",
              "             ('uncool', 76),\n",
              "             ('sorry', 21056),\n",
              "             ('occasion', 87),\n",
              "             ('left', 9214),\n",
              "             ('early', 9439),\n",
              "             ('wanna', 13293),\n",
              "             ('leave', 6271),\n",
              "             ('somee', 17),\n",
              "             ('ppl', 2821),\n",
              "             ('sumtimes', 51),\n",
              "             ('im', 40486),\n",
              "             ('best', 13130),\n",
              "             ('ever', 10180),\n",
              "             ('right', 22255),\n",
              "             ('recording', 555),\n",
              "             ('audition', 277),\n",
              "             ('makes', 7817),\n",
              "             ('think', 33204),\n",
              "             ('easy', 2235),\n",
              "             ('kidding', 1098),\n",
              "             ('problem', 3027),\n",
              "             ('far', 6162),\n",
              "             ('enjoying', 3157),\n",
              "             ('alexisonfire', 21),\n",
              "             ('album', 2933),\n",
              "             ('sick', 12724),\n",
              "             ('mac', 2248),\n",
              "             ('cope', 135),\n",
              "             ('later', 8160),\n",
              "             ('spending', 1353),\n",
              "             ('faves', 167),\n",
              "             ('takes', 1327),\n",
              "             ('precedence', 7),\n",
              "             ('c', 5052),\n",
              "             ('mon', 762),\n",
              "             ('jon', 1307),\n",
              "             ('cant', 14309),\n",
              "             ('telling', 1019),\n",
              "             ('us', 11518),\n",
              "             ('possibly', 796),\n",
              "             ('shows', 2051),\n",
              "             ('bwwwaaa', 1),\n",
              "             ('send', 4285),\n",
              "             ('info', 1309),\n",
              "             ('mind', 3907),\n",
              "             ('tweetup', 237),\n",
              "             ('monday', 6605),\n",
              "             ('thing', 11920),\n",
              "             ('bring', 3331),\n",
              "             ('extra', 1388),\n",
              "             ('load', 988),\n",
              "             ('vegemite', 29),\n",
              "             ('haha', 25401),\n",
              "             ('well', 34102),\n",
              "             ('soon', 14406),\n",
              "             ('towers', 126),\n",
              "             ('internet', 3898),\n",
              "             ('anyways', 1095),\n",
              "             ('r', 6866),\n",
              "             ('getting', 19478),\n",
              "             ('done', 12239),\n",
              "             ('semester', 343),\n",
              "             ('ridiculously', 215),\n",
              "             ('noes', 284),\n",
              "             ('feel', 24101),\n",
              "             ('poop', 350),\n",
              "             ('planned', 791),\n",
              "             ('episode', 1893),\n",
              "             ('radio', 1853),\n",
              "             ('show', 13002),\n",
              "             ('talkshoe', 11),\n",
              "             ('w', 8099),\n",
              "             ('8', 4833),\n",
              "             ('eastern', 129),\n",
              "             ('cleaninggg', 4),\n",
              "             ('hit', 3992),\n",
              "             ('glad', 8410),\n",
              "             ('true', 4424),\n",
              "             ('greats', 16),\n",
              "             ('wonderful', 3102),\n",
              "             ('warmer', 113),\n",
              "             ('days', 15304),\n",
              "             ('longer', 2194),\n",
              "             ('miss', 29207),\n",
              "             ('nana', 161),\n",
              "             ('grandad', 80),\n",
              "             ('l', 3027),\n",
              "             ('urgh', 493),\n",
              "             ('listen', 2690),\n",
              "             ('woof', 82),\n",
              "             ('colder', 67),\n",
              "             ('walky', 1),\n",
              "             ('thrift', 39),\n",
              "             ('shop', 1863),\n",
              "             ('found', 6948),\n",
              "             ('bracelet', 229),\n",
              "             ('watch', 12572),\n",
              "             ('wrong', 5304),\n",
              "             ('ahah', 308),\n",
              "             ('wrap', 262),\n",
              "             ('nasty', 748),\n",
              "             ('goo', 193),\n",
              "             ('waiting', 7810),\n",
              "             ('tnt', 80),\n",
              "             ('triathletes', 3),\n",
              "             ('store', 2642),\n",
              "             ('brick', 136),\n",
              "             ('teach', 617),\n",
              "             ('em', 2320),\n",
              "             ('nutrition', 37),\n",
              "             ('value', 230),\n",
              "             ('endurolytes', 1),\n",
              "             ('fl', 362),\n",
              "             ('que', 478),\n",
              "             ('failed', 1199),\n",
              "             ('exam', 4629),\n",
              "             ('ugh', 7992),\n",
              "             ('barn', 86),\n",
              "             ('shawn', 113),\n",
              "             ('threw', 531),\n",
              "             ('shoe', 380),\n",
              "             ('lesson', 846),\n",
              "             ('chilly', 256),\n",
              "             ('jacket', 388),\n",
              "             ('leaving', 4236),\n",
              "             ('facebook', 3581),\n",
              "             ('lindsey', 71),\n",
              "             ('cubby', 14),\n",
              "             ('hole', 579),\n",
              "             ('bed', 17814),\n",
              "             ('open', 3474),\n",
              "             ('omg', 9804),\n",
              "             ('rumble', 34),\n",
              "             ('thunder', 915),\n",
              "             ('ground', 401),\n",
              "             ('shake', 533),\n",
              "             ('freaked', 187),\n",
              "             ('house', 10439),\n",
              "             ('shook', 48),\n",
              "             ('give', 6762),\n",
              "             ('phil', 296),\n",
              "             ('labonte', 1),\n",
              "             ('hug', 1753),\n",
              "             ('1k', 73),\n",
              "             ('listed', 178),\n",
              "             ('top', 2901),\n",
              "             ('25', 1055),\n",
              "             ('followed', 996),\n",
              "             ('risk', 187),\n",
              "             ('car', 7201),\n",
              "             ('sized', 105),\n",
              "             ('potholes', 7),\n",
              "             ('adventure', 398),\n",
              "             ('begin', 574),\n",
              "             ('playiing', 4),\n",
              "             ('wit', 1759),\n",
              "             ('bebes', 7),\n",
              "             ('libbys', 3),\n",
              "             ('yay', 10920),\n",
              "             ('shes', 1124),\n",
              "             ('three', 2403),\n",
              "             ('muah', 183),\n",
              "             ('disappointed', 1458),\n",
              "             ('triple', 189),\n",
              "             ('mocha', 158),\n",
              "             ('appears', 285),\n",
              "             ('actual', 471),\n",
              "             ('part', 3835),\n",
              "             ('call', 6823),\n",
              "             ('soda', 238),\n",
              "             ('pop', 969),\n",
              "             ('catching', 913),\n",
              "             ('aww', 6750),\n",
              "             ('unfair', 379),\n",
              "             ('always', 11932),\n",
              "             ('offer', 752),\n",
              "             ('male', 268),\n",
              "             ('stripper', 59),\n",
              "             ('hide', 407),\n",
              "             ('guns', 161),\n",
              "             ('first', 13460),\n",
              "             ('squarespace', 765),\n",
              "             ('crazy', 4615),\n",
              "             ('bout', 3169),\n",
              "             ('precious', 295),\n",
              "             ('phone', 10738),\n",
              "             ('afford', 995),\n",
              "             ('worked', 1792),\n",
              "             ('24', 1388),\n",
              "             ('hours', 10539),\n",
              "             ('simply', 460),\n",
              "             ('ran', 1395),\n",
              "             ('dansk', 2),\n",
              "             ('folkeparti', 1),\n",
              "             ('approximately', 33),\n",
              "             ('15', 2287),\n",
              "             ('votes', 268),\n",
              "             ('wheels', 129),\n",
              "             ('keep', 9073),\n",
              "             ('turning', 788),\n",
              "             ('starting', 3387),\n",
              "             ('line', 2068),\n",
              "             ('10', 6106),\n",
              "             ('select', 80),\n",
              "             ('stores', 366),\n",
              "             ('hopefully', 4676),\n",
              "             ('somewhere', 1396),\n",
              "             ('ger', 21),\n",
              "             ('list', 2631),\n",
              "             ('norfolk', 46),\n",
              "             ('realized', 1637),\n",
              "             ('digital', 356),\n",
              "             ('voice', 2009),\n",
              "             ('recorder', 35),\n",
              "             ('usb', 275),\n",
              "             ('port', 231),\n",
              "             ('picked', 911),\n",
              "             ('model', 534),\n",
              "             ('thoroughly', 130),\n",
              "             ('fed', 648),\n",
              "             ('evening', 2862),\n",
              "             ('f', 1848),\n",
              "             ('p', 5308),\n",
              "             ('wish', 22731),\n",
              "             ('stress', 948),\n",
              "             ('would', 21788),\n",
              "             ('vanish', 14),\n",
              "             ('rainy', 1841),\n",
              "             ('went', 10722),\n",
              "             ('called', 3423),\n",
              "             ('ashton', 144),\n",
              "             ('cut', 2878),\n",
              "             ('cher', 48),\n",
              "             ('dem', 170),\n",
              "             ('moore', 98),\n",
              "             ('hilarious', 1227),\n",
              "             ('note', 1316),\n",
              "             ('self', 1548),\n",
              "             ('never', 14435),\n",
              "             ('use', 6298),\n",
              "             ('smooth', 236),\n",
              "             ('away', 9811),\n",
              "             ('unless', 1022),\n",
              "             ('sandpaper', 13),\n",
              "             ('buffing', 3),\n",
              "             ('look', 10604),\n",
              "             ('ok', 13006),\n",
              "             ('mates', 399),\n",
              "             ('tweeting', 2319),\n",
              "             ('2mozzeh', 1),\n",
              "             ('xo', 1087),\n",
              "             ('proud', 1819),\n",
              "             ('babysitting', 482),\n",
              "             ('asleep', 3404),\n",
              "             ('engine', 228),\n",
              "             ('light', 1499),\n",
              "             ('since', 7511),\n",
              "             ('driving', 2419),\n",
              "             ('glendale', 20),\n",
              "             ('notagain', 1),\n",
              "             ('yuvraj', 3),\n",
              "             ('hitting', 571),\n",
              "             ('hard', 7826),\n",
              "             ('india', 440),\n",
              "             ('looking', 10808),\n",
              "             ('preety', 14),\n",
              "             ('win', 4979),\n",
              "             ('epic', 1164),\n",
              "             ('manny', 96),\n",
              "             ('pacquiao', 74),\n",
              "             ('fight', 1179),\n",
              "             ('place', 5133),\n",
              "             ('blows', 304),\n",
              "             ('ubertwitter', 160),\n",
              "             ('functioning', 71),\n",
              "             ('switch', 521),\n",
              "             ('tb', 82),\n",
              "             ('mighty', 234),\n",
              "             ('boosh', 42),\n",
              "             ('luv', 1855),\n",
              "             ('um', 964),\n",
              "             ('loave', 1),\n",
              "             ('loads', 1130),\n",
              "             ('diffrent', 12),\n",
              "             ('ones', 2718),\n",
              "             ('aswell', 437),\n",
              "             ('bas', 29),\n",
              "             ('update', 3494),\n",
              "             ('status', 707),\n",
              "             ('eft4adoption', 1),\n",
              "             ('eft', 10),\n",
              "             ('practitioners', 4),\n",
              "             ('anyway', 3382),\n",
              "             ('cry', 3681),\n",
              "             ('kinda', 4744),\n",
              "             ('nite', 3045),\n",
              "             ('ntie', 1),\n",
              "             ('dreams', 2386),\n",
              "             ('lt', 14677),\n",
              "             ('33333', 63),\n",
              "             ('meant', 1888),\n",
              "             ('earlier', 2108),\n",
              "             ('cycle', 210),\n",
              "             ('rain', 8765),\n",
              "             ('crossroads', 18),\n",
              "             ('jessi', 37),\n",
              "             ('growl', 25),\n",
              "             ('kind', 3845),\n",
              "             ('notification', 70),\n",
              "             ('starts', 1742),\n",
              "             ('chatting', 562),\n",
              "             ('pops', 250),\n",
              "             ('screen', 1253),\n",
              "             ('fine', 3660),\n",
              "             ('usually', 1446),\n",
              "             ('logged', 187),\n",
              "             ('pc', 1367),\n",
              "             ('middle', 1242),\n",
              "             ('finger', 851),\n",
              "             ('hand', 2184),\n",
              "             ('hurting', 853),\n",
              "             ('small', 1884),\n",
              "             ('accident', 700),\n",
              "             ('nail', 458),\n",
              "             ('clipper', 13),\n",
              "             ('sister', 3335),\n",
              "             ('birthday', 8435),\n",
              "             ('ur', 10413),\n",
              "             ('detroit', 254),\n",
              "             ('lost', 9186),\n",
              "             ('series', 1207),\n",
              "             ('tied', 181),\n",
              "             ('lose', 1555),\n",
              "             ('may', 6624),\n",
              "             ('monitor', 238),\n",
              "             ('content', 472),\n",
              "             ('closely', 56),\n",
              "             ('full', 4246),\n",
              "             ('feed', 814),\n",
              "             ('people', 16525),\n",
              "             ('easier', 828),\n",
              "             ('access', 748),\n",
              "             ('steal', 356),\n",
              "             ('ironing', 236),\n",
              "             ('hubby', 1800),\n",
              "             ('laundry', 1173),\n",
              "             ('nunpung', 1),\n",
              "             ('langit', 3),\n",
              "             ('molor', 2),\n",
              "             ('cookbook', 33),\n",
              "             ('b', 7100),\n",
              "             ('foo', 72),\n",
              "             ('cookbookthepr', 1),\n",
              "             ('guy', 4517),\n",
              "             ('around', 7208),\n",
              "             ('talk', 6696),\n",
              "             ('viejitos', 1),\n",
              "             ('continue', 571),\n",
              "             ('neil', 169),\n",
              "             ('patrick', 277),\n",
              "             ('harris', 95),\n",
              "             ('gay', 1319),\n",
              "             ('anybody', 714),\n",
              "             ('plaintive', 2),\n",
              "             ('sigh', 2978),\n",
              "             ('hmm', 2502),\n",
              "             ('openly', 11),\n",
              "             ('actors', 102),\n",
              "             ('emacs', 11),\n",
              "             ('esc', 15),\n",
              "             ('meta', 22),\n",
              "             ('alt', 78),\n",
              "             ('ctrl', 46),\n",
              "             ('shift', 957),\n",
              "             ('recall', 108),\n",
              "             ('staying', 1463),\n",
              "             ('nothing', 8757),\n",
              "             ('waste', 735),\n",
              "             ('notnot', 1),\n",
              "             ('jealous', 3185),\n",
              "             ('taken', 1684),\n",
              "             ('funeral', 450),\n",
              "             ('much', 29660),\n",
              "             ('hate', 15835),\n",
              "             ('month', 3367),\n",
              "             ('uncomfortable', 194),\n",
              "             ('looks', 8333),\n",
              "             ('missed', 8752),\n",
              "             ('means', 2962),\n",
              "             ('keeping', 1106),\n",
              "             ('4', 15035),\n",
              "             ('5hr', 22),\n",
              "             ('pace', 148),\n",
              "             ('city', 3032),\n",
              "             ('ridiculous', 491),\n",
              "             ('jk', 947),\n",
              "             ('sewers', 5),\n",
              "             ('downtown', 611),\n",
              "             ('smell', 1078),\n",
              "             ('death', 1417),\n",
              "             ('cuz', 4129),\n",
              "             ('heat', 1277),\n",
              "             ('tho', 6278),\n",
              "             ('youve', 88),\n",
              "             ('clothes', 1602),\n",
              "             ('photo', 2398),\n",
              "             ('shoots', 87),\n",
              "             ('appreciated', 486),\n",
              "             ('aaahhhhh', 14),\n",
              "             ('burned', 531),\n",
              "             ('face', 4378),\n",
              "             ('cooking', 974),\n",
              "             ('hurts', 6111),\n",
              "             ('sprinkle', 20),\n",
              "             ('maple', 64),\n",
              "             ('bar', 1448),\n",
              "             ('donuts', 349),\n",
              "             ('took', 4618),\n",
              "             ('picture', 3709),\n",
              "             ('hungry', 3409),\n",
              "             ('nom', 415),\n",
              "             ('yet', 10771),\n",
              "             ('fingers', 1425),\n",
              "             ('frozen', 334),\n",
              "             ('typing', 416),\n",
              "             ('cold', 6848),\n",
              "             ('might', 7832),\n",
              "             ('working', 13399),\n",
              "             ('thought', 8924),\n",
              "             ('iyaaaa', 4),\n",
              "             ('hair', 6297),\n",
              "             ('fork', 87),\n",
              "             ('pic', 4832),\n",
              "             ('hey', 15364),\n",
              "             ('mr', 2184),\n",
              "             ('gruchacz', 1),\n",
              "             ('fuck', 4114),\n",
              "             ('monkey', 437),\n",
              "             ('jamba', 101),\n",
              "             ('juice', 788),\n",
              "             ('favorite', 3314),\n",
              "             ('persons', 74),\n",
              "             ('delhi', 127),\n",
              "             ('drenched', 85),\n",
              "             ('moment', 2606),\n",
              "             ('mom', 7260),\n",
              "             ('papa', 317),\n",
              "             ('johns', 93),\n",
              "             ('stupid', 5533),\n",
              "             ('cough', 969),\n",
              "             ('screwed', 602),\n",
              "             ('precal', 16),\n",
              "             ('wisdom', 579),\n",
              "             ('teeth', 1224),\n",
              "             ('minutes', 3478),\n",
              "             ('labyrinth', 24),\n",
              "             ('green', 2257),\n",
              "             ('blacke', 1),\n",
              "             ('blog', 4045),\n",
              "             ('nottingham', 69),\n",
              "             ('mariebocq', 1),\n",
              "             ('shopping', 4301),\n",
              "             ('cleaning', 2430),\n",
              "             ('bmfing', 1),\n",
              "             ('webcam', 213),\n",
              "             ('nephews', 110),\n",
              "             ('spesh', 24),\n",
              "             ('bank', 1121),\n",
              "             ('holiday', 2185),\n",
              "             ('nonetheless', 115),\n",
              "             ('nevr', 30),\n",
              "             ('kno', 1076),\n",
              "             ('h8', 130),\n",
              "             ('storms', 462),\n",
              "             ('flyin', 28),\n",
              "             ('accidents', 78),\n",
              "             ('happen', 2786),\n",
              "             ('surprised', 649),\n",
              "             ('yer', 352),\n",
              "             ('brains', 144),\n",
              "             ('gotten', 1030),\n",
              "             ('tweets', 5110),\n",
              "             ('confused', 1250),\n",
              "             ('chyness', 1),\n",
              "             ('boooo', 418),\n",
              "             ('write', 2999),\n",
              "             ('flowers', 665),\n",
              "             ('across', 784),\n",
              "             ('universe', 381),\n",
              "             ('beatles', 236),\n",
              "             ('style', 896),\n",
              "             ('playlist', 302),\n",
              "             ('songs', 2691),\n",
              "             ('hoover', 48),\n",
              "             ('hurt', 4188),\n",
              "             ('shoulder', 495),\n",
              "             ('wearing', 1396),\n",
              "             ('messy', 235),\n",
              "             ('men', 1360),\n",
              "             ('designed', 143),\n",
              "             ('man', 11252),\n",
              "             ('whatever', 1595),\n",
              "             ('pink', 1395),\n",
              "             ('killer', 474),\n",
              "             ('whale', 194),\n",
              "             ('scene', 572),\n",
              "             ('feet', 1726),\n",
              "             ('point', 2189),\n",
              "             ('lives', 765),\n",
              "             ('pimple', 70),\n",
              "             ('scalp', 38),\n",
              "             ('cheers', 1060),\n",
              "             ('name', 4598),\n",
              "             ('replace', 325),\n",
              "             ('thermidor', 1),\n",
              "             ('restaurants', 89),\n",
              "             ('friend', 9075),\n",
              "             ('high', 3086),\n",
              "             ('wedding', 2391),\n",
              "             ('bridal', 115),\n",
              "             ('everything', 5957),\n",
              "             ('moderation', 34),\n",
              "             ('except', 1878),\n",
              "             ('sex', 984),\n",
              "             ('drugs', 293),\n",
              "             ('roll', 983),\n",
              "             ('ice', 3220),\n",
              "             ('cream', 2742),\n",
              "             ('national', 558),\n",
              "             ('donut', 215),\n",
              "             ('known', 654),\n",
              "             ('grabbed', 119),\n",
              "             ('free', 6191),\n",
              "             ('slowly', 635),\n",
              "             ('continues', 225),\n",
              "             ('healing', 186),\n",
              "             ('trend', 201),\n",
              "             ('prgnosis', 1),\n",
              "             ('ditched', 118),\n",
              "             ('mention', 1179),\n",
              "             ('painful', 707),\n",
              "             ('sympathy', 144),\n",
              "             ('contractions', 24),\n",
              "             ('someday', 488),\n",
              "             ('saudi', 33),\n",
              "             ('spammed', 49),\n",
              "             ('thebluefrog', 2),\n",
              "             ('nice', 18732),\n",
              "             ('unable', 293),\n",
              "             ('reply', 3356),\n",
              "             ('via', 2459),\n",
              "             ('blackberry', 1264),\n",
              "             ('sucked', 628),\n",
              "             ('maria', 224),\n",
              "             ('tony', 567),\n",
              "             ('jumping', 276),\n",
              "             ('onboard', 20),\n",
              "             ('boys', 2855),\n",
              "             ('conversations', 181),\n",
              "             ('auto', 323),\n",
              "             ('rikshaw', 1),\n",
              "             ('drivers', 311),\n",
              "             ('simple', 903),\n",
              "             ('joys', 215),\n",
              "             ('eep', 93),\n",
              "             ('another', 11674),\n",
              "             ('sun', 8136),\n",
              "             ('hates', 1710),\n",
              "             ('older', 708),\n",
              "             ('graduated', 340),\n",
              "             ('siblings', 83),\n",
              "             ('finer', 9),\n",
              "             ('gifts', 217),\n",
              "             ('tried', 3939),\n",
              "             ('direct', 737),\n",
              "             ('message', 2034),\n",
              "             ('catherine', 73),\n",
              "             ('di', 421),\n",
              "             ('cesare', 2),\n",
              "             ('pass', 1613),\n",
              "             ('headed', 1447),\n",
              "             ('awwww', 1343),\n",
              "             ('exactly', 1732),\n",
              "             ('needs', 3979),\n",
              "             ('skin', 719),\n",
              "             ('toes', 356),\n",
              "             ('sometime', 940),\n",
              "             ('become', 1041),\n",
              "             ('obsessed', 450),\n",
              "             ('strawberrys', 22),\n",
              "             ('sugar', 703),\n",
              "             ('however', 1047),\n",
              "             ('upset', 2166),\n",
              "             ('dvd', 1418),\n",
              "             ('given', 782),\n",
              "             ('silent', 202),\n",
              "             ('treatment', 155),\n",
              "             ('quite', 3720),\n",
              "             ('agree', 2591),\n",
              "             ('kyle', 334),\n",
              "             ('sandilands', 1),\n",
              "             ('shithead', 8),\n",
              "             ('chaser', 45),\n",
              "             ('abc1', 4),\n",
              "             ('cookout', 130),\n",
              "             ('able', 4358),\n",
              "             ('recital', 288),\n",
              "             ('seriously', 3525),\n",
              "             ('bears', 227),\n",
              "             ('buy', 5418),\n",
              "             ('gold', 517),\n",
              "             ('golf', 681),\n",
              "             ('hot', 8754),\n",
              "             ('chocolate', 2510),\n",
              "             ...])"
            ]
          },
          "metadata": {
            "tags": []
          },
          "execution_count": 78
        }
      ]
    },
    {
      "cell_type": "code",
      "metadata": {
        "id": "epJJ9-iCZunY",
        "colab_type": "code",
        "colab": {
          "base_uri": "https://localhost:8080/",
          "height": 1000
        },
        "outputId": "56636a26-1a88-4fa5-fdb2-ba0842904dc7"
      },
      "source": [
        "tokenizer.word_index"
      ],
      "execution_count": null,
      "outputs": [
        {
          "output_type": "execute_result",
          "data": {
            "text/plain": [
              "{'good': 1,\n",
              " 'day': 2,\n",
              " 'get': 3,\n",
              " 'like': 4,\n",
              " 'go': 5,\n",
              " 'quot': 6,\n",
              " 'today': 7,\n",
              " 'work': 8,\n",
              " 'going': 9,\n",
              " 'love': 10,\n",
              " 'got': 11,\n",
              " 'lol': 12,\n",
              " 'time': 13,\n",
              " 'back': 14,\n",
              " 'u': 15,\n",
              " 'one': 16,\n",
              " 'know': 17,\n",
              " 'im': 18,\n",
              " 'really': 19,\n",
              " 'amp': 20,\n",
              " 'see': 21,\n",
              " 'night': 22,\n",
              " 'still': 23,\n",
              " '2': 24,\n",
              " 'well': 25,\n",
              " 'new': 26,\n",
              " 'want': 27,\n",
              " 'think': 28,\n",
              " 'home': 29,\n",
              " 'thanks': 30,\n",
              " 'oh': 31,\n",
              " 'much': 32,\n",
              " 'miss': 33,\n",
              " 'need': 34,\n",
              " 'last': 35,\n",
              " 'morning': 36,\n",
              " 'tomorrow': 37,\n",
              " 'hope': 38,\n",
              " 'great': 39,\n",
              " 'twitter': 40,\n",
              " '3': 41,\n",
              " 'haha': 42,\n",
              " 'feel': 43,\n",
              " 'sad': 44,\n",
              " 'fun': 45,\n",
              " 'wish': 46,\n",
              " 'sleep': 47,\n",
              " 'right': 48,\n",
              " 'would': 49,\n",
              " 'bad': 50,\n",
              " 'happy': 51,\n",
              " 'sorry': 52,\n",
              " 'tonight': 53,\n",
              " 'come': 54,\n",
              " 'make': 55,\n",
              " 'getting': 56,\n",
              " 'way': 57,\n",
              " 'though': 58,\n",
              " 'gonna': 59,\n",
              " 'nice': 60,\n",
              " 'better': 61,\n",
              " 'watching': 62,\n",
              " 'yeah': 63,\n",
              " 'bed': 64,\n",
              " 'wait': 65,\n",
              " 'could': 66,\n",
              " 'week': 67,\n",
              " 'school': 68,\n",
              " 'people': 69,\n",
              " 'hate': 70,\n",
              " 'hey': 71,\n",
              " 'days': 72,\n",
              " 'even': 73,\n",
              " '4': 74,\n",
              " 'yes': 75,\n",
              " 'next': 76,\n",
              " 'weekend': 77,\n",
              " 'lt': 78,\n",
              " 'dont': 79,\n",
              " 'awesome': 80,\n",
              " 'thank': 81,\n",
              " 'never': 82,\n",
              " 'soon': 83,\n",
              " 'cant': 84,\n",
              " 'long': 85,\n",
              " 'take': 86,\n",
              " 'little': 87,\n",
              " 'first': 88,\n",
              " 'working': 89,\n",
              " 'wanna': 90,\n",
              " 'please': 91,\n",
              " 'say': 92,\n",
              " 'best': 93,\n",
              " 'everyone': 94,\n",
              " 'tired': 95,\n",
              " 'life': 96,\n",
              " 'ok': 97,\n",
              " 'show': 98,\n",
              " 'sick': 99,\n",
              " 'watch': 100,\n",
              " 'done': 101,\n",
              " '1': 102,\n",
              " 'feeling': 103,\n",
              " 'let': 104,\n",
              " 'always': 105,\n",
              " 'thing': 106,\n",
              " 'x': 107,\n",
              " 'sure': 108,\n",
              " 'already': 109,\n",
              " 'another': 110,\n",
              " 'cool': 111,\n",
              " 'friends': 112,\n",
              " 'us': 113,\n",
              " 'something': 114,\n",
              " 'find': 115,\n",
              " 'man': 116,\n",
              " 'guys': 117,\n",
              " 'ready': 118,\n",
              " 'made': 119,\n",
              " 'yay': 120,\n",
              " 'looking': 121,\n",
              " 'yet': 122,\n",
              " 'phone': 123,\n",
              " 'went': 124,\n",
              " 'look': 125,\n",
              " 'hours': 126,\n",
              " 'house': 127,\n",
              " 'ur': 128,\n",
              " 'movie': 129,\n",
              " 'ever': 130,\n",
              " 'pretty': 131,\n",
              " 'trying': 132,\n",
              " 'maybe': 133,\n",
              " 'n': 134,\n",
              " 'away': 135,\n",
              " 'omg': 136,\n",
              " 'summer': 137,\n",
              " 'tweet': 138,\n",
              " 'old': 139,\n",
              " 'finally': 140,\n",
              " '5': 141,\n",
              " 'amazing': 142,\n",
              " 'help': 143,\n",
              " 'early': 144,\n",
              " 'damn': 145,\n",
              " 'follow': 146,\n",
              " 'things': 147,\n",
              " 'someone': 148,\n",
              " 'guess': 149,\n",
              " 'left': 150,\n",
              " 'lost': 151,\n",
              " 'friend': 152,\n",
              " 'keep': 153,\n",
              " 'wow': 154,\n",
              " 'thought': 155,\n",
              " 'bit': 156,\n",
              " 'big': 157,\n",
              " 'year': 158,\n",
              " 'rain': 159,\n",
              " 'nothing': 160,\n",
              " 'hot': 161,\n",
              " 'missed': 162,\n",
              " 'sucks': 163,\n",
              " 'ya': 164,\n",
              " 'bored': 165,\n",
              " 'girl': 166,\n",
              " 'birthday': 167,\n",
              " 'glad': 168,\n",
              " 'try': 169,\n",
              " 'start': 170,\n",
              " 'also': 171,\n",
              " 'baby': 172,\n",
              " 'coming': 173,\n",
              " 'looks': 174,\n",
              " 'tell': 175,\n",
              " 'two': 176,\n",
              " 'live': 177,\n",
              " 'weather': 178,\n",
              " 'later': 179,\n",
              " 'sun': 180,\n",
              " 'w': 181,\n",
              " 'hear': 182,\n",
              " 'song': 183,\n",
              " 'ugh': 184,\n",
              " 'actually': 185,\n",
              " 'stuff': 186,\n",
              " 'saw': 187,\n",
              " 'party': 188,\n",
              " 'excited': 189,\n",
              " 'might': 190,\n",
              " 'hard': 191,\n",
              " 'makes': 192,\n",
              " 'waiting': 193,\n",
              " 'play': 194,\n",
              " 'game': 195,\n",
              " 'god': 196,\n",
              " 'yesterday': 197,\n",
              " 'thats': 198,\n",
              " 'said': 199,\n",
              " 'world': 200,\n",
              " 'since': 201,\n",
              " 'hi': 202,\n",
              " 'gotta': 203,\n",
              " 'lot': 204,\n",
              " 'late': 205,\n",
              " 'mom': 206,\n",
              " 'around': 207,\n",
              " 'car': 208,\n",
              " 'music': 209,\n",
              " 'b': 210,\n",
              " 'many': 211,\n",
              " 'sounds': 212,\n",
              " 'head': 213,\n",
              " 'check': 214,\n",
              " 'luck': 215,\n",
              " 'found': 216,\n",
              " 'friday': 217,\n",
              " 'must': 218,\n",
              " 'r': 219,\n",
              " 'job': 220,\n",
              " 'cold': 221,\n",
              " 'call': 222,\n",
              " 'beautiful': 223,\n",
              " 'read': 224,\n",
              " 'give': 225,\n",
              " 'aww': 226,\n",
              " 'talk': 227,\n",
              " 'sunday': 228,\n",
              " 'making': 229,\n",
              " 'gone': 230,\n",
              " 'may': 231,\n",
              " 'monday': 232,\n",
              " 'anything': 233,\n",
              " 'missing': 234,\n",
              " 'put': 235,\n",
              " 'poor': 236,\n",
              " 'com': 237,\n",
              " 'woke': 238,\n",
              " 'stop': 239,\n",
              " 'least': 240,\n",
              " 'okay': 241,\n",
              " 'almost': 242,\n",
              " 'use': 243,\n",
              " 'hair': 244,\n",
              " 'till': 245,\n",
              " 'tho': 246,\n",
              " 'leave': 247,\n",
              " 'lunch': 248,\n",
              " 'family': 249,\n",
              " 'times': 250,\n",
              " 'cute': 251,\n",
              " 'free': 252,\n",
              " 'far': 253,\n",
              " 'eat': 254,\n",
              " 'listening': 255,\n",
              " 'food': 256,\n",
              " 'mean': 257,\n",
              " 'hurts': 258,\n",
              " '10': 259,\n",
              " 'dinner': 260,\n",
              " 'iphone': 261,\n",
              " 'hour': 262,\n",
              " 'funny': 263,\n",
              " 'end': 264,\n",
              " 'wanted': 265,\n",
              " 'enjoy': 266,\n",
              " 'everything': 267,\n",
              " 'shit': 268,\n",
              " 'gt': 269,\n",
              " 'finished': 270,\n",
              " 'followers': 271,\n",
              " 'anyone': 272,\n",
              " 'playing': 273,\n",
              " 'believe': 274,\n",
              " 'welcome': 275,\n",
              " 'sweet': 276,\n",
              " 'thinking': 277,\n",
              " '6': 278,\n",
              " 'forward': 279,\n",
              " 'without': 280,\n",
              " 'cause': 281,\n",
              " 'video': 282,\n",
              " 'totally': 283,\n",
              " 'hahaha': 284,\n",
              " 'mine': 285,\n",
              " 'stupid': 286,\n",
              " 'outside': 287,\n",
              " 'real': 288,\n",
              " 'coffee': 289,\n",
              " 'enough': 290,\n",
              " 'buy': 291,\n",
              " 'anymore': 292,\n",
              " 'ill': 293,\n",
              " 'p': 294,\n",
              " 'wrong': 295,\n",
              " 'every': 296,\n",
              " 'probably': 297,\n",
              " 'didnt': 298,\n",
              " 'room': 299,\n",
              " 'weeks': 300,\n",
              " 'place': 301,\n",
              " 'tv': 302,\n",
              " 'ha': 303,\n",
              " 'tweets': 304,\n",
              " 'eating': 305,\n",
              " 'money': 306,\n",
              " 'c': 307,\n",
              " 'busy': 308,\n",
              " 'following': 309,\n",
              " 'stay': 310,\n",
              " 'xx': 311,\n",
              " 'wants': 312,\n",
              " 'dad': 313,\n",
              " 'win': 314,\n",
              " 'sooo': 315,\n",
              " '30': 316,\n",
              " 'saturday': 317,\n",
              " '8': 318,\n",
              " 'pic': 319,\n",
              " 'lovely': 320,\n",
              " 'seen': 321,\n",
              " 'class': 322,\n",
              " 'whole': 323,\n",
              " 'came': 324,\n",
              " 'taking': 325,\n",
              " 'says': 326,\n",
              " 'kinda': 327,\n",
              " '7': 328,\n",
              " 'kids': 329,\n",
              " 'beach': 330,\n",
              " 'hopefully': 331,\n",
              " 'exam': 332,\n",
              " 'took': 333,\n",
              " 'crazy': 334,\n",
              " 'super': 335,\n",
              " 'name': 336,\n",
              " 'headache': 337,\n",
              " 'half': 338,\n",
              " 'hello': 339,\n",
              " 'guy': 340,\n",
              " 'post': 341,\n",
              " 'news': 342,\n",
              " 'hell': 343,\n",
              " 'idea': 344,\n",
              " 'book': 345,\n",
              " 'awww': 346,\n",
              " 'years': 347,\n",
              " 'true': 348,\n",
              " 'goodnight': 349,\n",
              " 'run': 350,\n",
              " 'face': 351,\n",
              " 'forgot': 352,\n",
              " 'able': 353,\n",
              " 'ago': 354,\n",
              " 'lots': 355,\n",
              " 'shopping': 356,\n",
              " 'either': 357,\n",
              " 'else': 358,\n",
              " 'send': 359,\n",
              " 'meet': 360,\n",
              " 'rest': 361,\n",
              " 'full': 362,\n",
              " 'sitting': 363,\n",
              " 'leaving': 364,\n",
              " 'reading': 365,\n",
              " 'girls': 366,\n",
              " 'computer': 367,\n",
              " 'used': 368,\n",
              " 'soo': 369,\n",
              " 'hurt': 370,\n",
              " 'ah': 371,\n",
              " 'boo': 372,\n",
              " 'feels': 373,\n",
              " 'cuz': 374,\n",
              " 'fuck': 375,\n",
              " 'raining': 376,\n",
              " 'remember': 377,\n",
              " 'seems': 378,\n",
              " 'alone': 379,\n",
              " 'blog': 380,\n",
              " 'stuck': 381,\n",
              " 'dog': 382,\n",
              " 'talking': 383,\n",
              " 'trip': 384,\n",
              " 'btw': 385,\n",
              " 'office': 386,\n",
              " 'heart': 387,\n",
              " 'hit': 388,\n",
              " 'hehe': 389,\n",
              " 'needs': 390,\n",
              " 'heard': 391,\n",
              " 'watched': 392,\n",
              " 'tried': 393,\n",
              " 'mind': 394,\n",
              " 'internet': 395,\n",
              " 'course': 396,\n",
              " 'www': 397,\n",
              " 'kind': 398,\n",
              " 'part': 399,\n",
              " 'started': 400,\n",
              " 'seeing': 401,\n",
              " 'boy': 402,\n",
              " 'wont': 403,\n",
              " 'using': 404,\n",
              " 'awake': 405,\n",
              " 'quite': 406,\n",
              " 'break': 407,\n",
              " 'picture': 408,\n",
              " 'add': 409,\n",
              " 'online': 410,\n",
              " 'cry': 411,\n",
              " 'fine': 412,\n",
              " 'loved': 413,\n",
              " 'breakfast': 414,\n",
              " 'pain': 415,\n",
              " 'told': 416,\n",
              " 'pics': 417,\n",
              " 'goes': 418,\n",
              " 'boring': 419,\n",
              " 'facebook': 420,\n",
              " 'til': 421,\n",
              " 'change': 422,\n",
              " 'sunny': 423,\n",
              " 'person': 424,\n",
              " 'seriously': 425,\n",
              " 'wake': 426,\n",
              " 'update': 427,\n",
              " 'dude': 428,\n",
              " 'care': 429,\n",
              " 'concert': 430,\n",
              " 'minutes': 431,\n",
              " 'open': 432,\n",
              " 'broke': 433,\n",
              " 'lucky': 434,\n",
              " 'season': 435,\n",
              " 'ass': 436,\n",
              " 'bought': 437,\n",
              " 'lmao': 438,\n",
              " 'called': 439,\n",
              " 'pay': 440,\n",
              " 'hungry': 441,\n",
              " 'aw': 442,\n",
              " 'asleep': 443,\n",
              " 'gets': 444,\n",
              " 'starting': 445,\n",
              " 'june': 446,\n",
              " 'anyway': 447,\n",
              " 'la': 448,\n",
              " 'crap': 449,\n",
              " 'month': 450,\n",
              " '9': 451,\n",
              " 'afternoon': 452,\n",
              " 'reply': 453,\n",
              " 'site': 454,\n",
              " 'link': 455,\n",
              " 'sister': 456,\n",
              " 'bring': 457,\n",
              " 'favorite': 458,\n",
              " '100': 459,\n",
              " 'shower': 460,\n",
              " 'heading': 461,\n",
              " 'drive': 462,\n",
              " 'sleeping': 463,\n",
              " 'xd': 464,\n",
              " 'train': 465,\n",
              " 'instead': 466,\n",
              " 'yea': 467,\n",
              " 'walk': 468,\n",
              " 'study': 469,\n",
              " 'fan': 470,\n",
              " 'text': 471,\n",
              " 'ice': 472,\n",
              " 'red': 473,\n",
              " 'bye': 474,\n",
              " 'e': 475,\n",
              " 'jealous': 476,\n",
              " 'bout': 477,\n",
              " 'rock': 478,\n",
              " 'exams': 479,\n",
              " 'enjoying': 480,\n",
              " 'brother': 481,\n",
              " 'sore': 482,\n",
              " 'wonderful': 483,\n",
              " 'move': 484,\n",
              " 'mad': 485,\n",
              " 'high': 486,\n",
              " 'hoping': 487,\n",
              " 'mother': 488,\n",
              " 'homework': 489,\n",
              " 'together': 490,\n",
              " 'definitely': 491,\n",
              " '0': 492,\n",
              " 'running': 493,\n",
              " 'nite': 494,\n",
              " 'finish': 495,\n",
              " 'city': 496,\n",
              " 'soooo': 497,\n",
              " 'problem': 498,\n",
              " 'l': 499,\n",
              " 'dear': 500,\n",
              " 'sometimes': 501,\n",
              " 'fail': 502,\n",
              " 'congrats': 503,\n",
              " 'ask': 504,\n",
              " 'dead': 505,\n",
              " 'write': 506,\n",
              " '12': 507,\n",
              " 'fucking': 508,\n",
              " 'died': 509,\n",
              " 'sigh': 510,\n",
              " 'drink': 511,\n",
              " 'goin': 512,\n",
              " 'youtube': 513,\n",
              " 'happened': 514,\n",
              " 'means': 515,\n",
              " 'email': 516,\n",
              " 'movies': 517,\n",
              " 'works': 518,\n",
              " 'album': 519,\n",
              " 'suck': 520,\n",
              " 'top': 521,\n",
              " 'couple': 522,\n",
              " 'laptop': 523,\n",
              " 'town': 524,\n",
              " 'cut': 525,\n",
              " 'tea': 526,\n",
              " 'evening': 527,\n",
              " 'church': 528,\n",
              " 'boys': 529,\n",
              " 'tour': 530,\n",
              " 'set': 531,\n",
              " 'loves': 532,\n",
              " 'eyes': 533,\n",
              " 'ipod': 534,\n",
              " 'less': 535,\n",
              " 'ppl': 536,\n",
              " 'weird': 537,\n",
              " 'comes': 538,\n",
              " '20': 539,\n",
              " 'perfect': 540,\n",
              " 'ive': 541,\n",
              " 'months': 542,\n",
              " 'happen': 543,\n",
              " 'reason': 544,\n",
              " 'studying': 545,\n",
              " 'final': 546,\n",
              " 'water': 547,\n",
              " 'side': 548,\n",
              " 'dream': 549,\n",
              " 'cream': 550,\n",
              " 'meeting': 551,\n",
              " 'nap': 552,\n",
              " 'gym': 553,\n",
              " 'dance': 554,\n",
              " 'ones': 555,\n",
              " 'close': 556,\n",
              " 'sound': 557,\n",
              " 'visit': 558,\n",
              " 'loving': 559,\n",
              " 'cat': 560,\n",
              " 'test': 561,\n",
              " 'songs': 562,\n",
              " 'listen': 563,\n",
              " 'interesting': 564,\n",
              " 'fall': 565,\n",
              " 'lil': 566,\n",
              " 'english': 567,\n",
              " 'mood': 568,\n",
              " 'store': 569,\n",
              " 'list': 570,\n",
              " 'fb': 571,\n",
              " 'tickets': 572,\n",
              " 'seem': 573,\n",
              " 'moment': 574,\n",
              " 'knew': 575,\n",
              " 'second': 576,\n",
              " 'clean': 577,\n",
              " 'agree': 578,\n",
              " 'hang': 579,\n",
              " 'ate': 580,\n",
              " 'story': 581,\n",
              " '11': 582,\n",
              " 'worst': 583,\n",
              " 'fast': 584,\n",
              " 'writing': 585,\n",
              " 'catch': 586,\n",
              " 'turn': 587,\n",
              " 'ahh': 588,\n",
              " 'word': 589,\n",
              " 'broken': 590,\n",
              " 'pool': 591,\n",
              " 'chocolate': 592,\n",
              " 'smile': 593,\n",
              " 'hmm': 594,\n",
              " 'london': 595,\n",
              " 'page': 596,\n",
              " 'saying': 597,\n",
              " 'awards': 598,\n",
              " 'air': 599,\n",
              " 'ride': 600,\n",
              " 'wishing': 601,\n",
              " 'yep': 602,\n",
              " 'supposed': 603,\n",
              " '1st': 604,\n",
              " 'via': 605,\n",
              " 'worth': 606,\n",
              " 'unfortunately': 607,\n",
              " 'cleaning': 608,\n",
              " 'xxx': 609,\n",
              " 'short': 610,\n",
              " 'moving': 611,\n",
              " 'black': 612,\n",
              " 'driving': 613,\n",
              " 'forget': 614,\n",
              " 'sleepy': 615,\n",
              " 'myspace': 616,\n",
              " 'throat': 617,\n",
              " 'past': 618,\n",
              " 'three': 619,\n",
              " 'photo': 620,\n",
              " 'wedding': 621,\n",
              " 'pictures': 622,\n",
              " 'dreams': 623,\n",
              " 'sunshine': 624,\n",
              " 'jonas': 625,\n",
              " 'da': 626,\n",
              " 'park': 627,\n",
              " 'followfriday': 628,\n",
              " 'understand': 629,\n",
              " 'sent': 630,\n",
              " 'star': 631,\n",
              " 'gave': 632,\n",
              " 'horrible': 633,\n",
              " 'mum': 634,\n",
              " 'k': 635,\n",
              " 'em': 636,\n",
              " 'tweeting': 637,\n",
              " 'sat': 638,\n",
              " 'plan': 639,\n",
              " 'g': 640,\n",
              " 'chance': 641,\n",
              " 'drinking': 642,\n",
              " 'college': 643,\n",
              " 'team': 644,\n",
              " '15': 645,\n",
              " 'pick': 646,\n",
              " 'lady': 647,\n",
              " 'whats': 648,\n",
              " 'slow': 649,\n",
              " 'green': 650,\n",
              " 'wonder': 651,\n",
              " 'account': 652,\n",
              " 'mac': 653,\n",
              " 'worse': 654,\n",
              " 'hugs': 655,\n",
              " 'easy': 656,\n",
              " 'moon': 657,\n",
              " 'date': 658,\n",
              " 'bet': 659,\n",
              " 'doesnt': 660,\n",
              " 'rather': 661,\n",
              " 'fell': 662,\n",
              " 'cannot': 663,\n",
              " 'vote': 664,\n",
              " 'longer': 665,\n",
              " 'bday': 666,\n",
              " 'point': 667,\n",
              " 'scared': 668,\n",
              " 'holiday': 669,\n",
              " 'tuesday': 670,\n",
              " 'wtf': 671,\n",
              " 'hand': 672,\n",
              " 'mr': 673,\n",
              " 'special': 674,\n",
              " 'apparently': 675,\n",
              " 'updates': 676,\n",
              " 'nope': 677,\n",
              " 'uk': 678,\n",
              " 'upset': 679,\n",
              " 'spent': 680,\n",
              " 'flight': 681,\n",
              " 'flu': 682,\n",
              " 'parents': 683,\n",
              " 'band': 684,\n",
              " 'miley': 685,\n",
              " 'due': 686,\n",
              " 'huge': 687,\n",
              " 'plus': 688,\n",
              " 'plans': 689,\n",
              " 'mtv': 690,\n",
              " 'thx': 691,\n",
              " 'earlier': 692,\n",
              " 'ahhh': 693,\n",
              " 'spend': 694,\n",
              " 'body': 695,\n",
              " 'fair': 696,\n",
              " 'shame': 697,\n",
              " 'line': 698,\n",
              " 'vacation': 699,\n",
              " 'words': 700,\n",
              " 'hanging': 701,\n",
              " 'forever': 702,\n",
              " 'website': 703,\n",
              " 'shows': 704,\n",
              " 'bus': 705,\n",
              " 'especially': 706,\n",
              " 'wondering': 707,\n",
              " 'white': 708,\n",
              " 'message': 709,\n",
              " 'lazy': 710,\n",
              " 'worry': 711,\n",
              " 'beer': 712,\n",
              " 'join': 713,\n",
              " 'v': 714,\n",
              " 'idk': 715,\n",
              " 'slept': 716,\n",
              " 'voice': 717,\n",
              " 'sadly': 718,\n",
              " 'answer': 719,\n",
              " 'warm': 720,\n",
              " 'lets': 721,\n",
              " 'thursday': 722,\n",
              " 'david': 723,\n",
              " 'fans': 724,\n",
              " 'wear': 725,\n",
              " 'cake': 726,\n",
              " 'stomach': 727,\n",
              " 'july': 728,\n",
              " 'thinks': 729,\n",
              " 'google': 730,\n",
              " 'havent': 731,\n",
              " 'tom': 732,\n",
              " 'learn': 733,\n",
              " 'inside': 734,\n",
              " 'support': 735,\n",
              " 'figure': 736,\n",
              " 'chat': 737,\n",
              " 'die': 738,\n",
              " 'safe': 739,\n",
              " 'looked': 740,\n",
              " 'different': 741,\n",
              " 'bbq': 742,\n",
              " 'camera': 743,\n",
              " 'episode': 744,\n",
              " 'airport': 745,\n",
              " 'son': 746,\n",
              " 'meant': 747,\n",
              " 'eye': 748,\n",
              " 'yummy': 749,\n",
              " 'small': 750,\n",
              " 'liked': 751,\n",
              " 'boyfriend': 752,\n",
              " 'except': 753,\n",
              " 'paper': 754,\n",
              " 'crying': 755,\n",
              " 'met': 756,\n",
              " 'dm': 757,\n",
              " 'number': 758,\n",
              " 'sims': 759,\n",
              " 'shop': 760,\n",
              " 'alright': 761,\n",
              " 'pizza': 762,\n",
              " 'fix': 763,\n",
              " 'luv': 764,\n",
              " 'photos': 765,\n",
              " 'radio': 766,\n",
              " 'finals': 767,\n",
              " 'dress': 768,\n",
              " 'f': 769,\n",
              " 'rainy': 770,\n",
              " 'officially': 771,\n",
              " 'project': 772,\n",
              " 'graduation': 773,\n",
              " 'tummy': 774,\n",
              " 'apple': 775,\n",
              " '2day': 776,\n",
              " 'felt': 777,\n",
              " 'shall': 778,\n",
              " 'proud': 779,\n",
              " 'shirt': 780,\n",
              " 'power': 781,\n",
              " 'decided': 782,\n",
              " 'blue': 783,\n",
              " 'twilight': 784,\n",
              " 'garden': 785,\n",
              " 'absolutely': 786,\n",
              " 'save': 787,\n",
              " 'shoes': 788,\n",
              " 'hubby': 789,\n",
              " 'beat': 790,\n",
              " 'games': 791,\n",
              " 'worked': 792,\n",
              " 'cd': 793,\n",
              " 'road': 794,\n",
              " 'kid': 795,\n",
              " 'laugh': 796,\n",
              " 'kill': 797,\n",
              " 'lonely': 798,\n",
              " 'bike': 799,\n",
              " 'hospital': 800,\n",
              " 'brothers': 801,\n",
              " 'needed': 802,\n",
              " 'gorgeous': 803,\n",
              " 'chicken': 804,\n",
              " 'wit': 805,\n",
              " 'annoying': 806,\n",
              " 'hug': 807,\n",
              " 'hmmm': 808,\n",
              " 'exciting': 809,\n",
              " 'babe': 810,\n",
              " 'wine': 811,\n",
              " 'starts': 812,\n",
              " 'played': 813,\n",
              " 'card': 814,\n",
              " 'exactly': 815,\n",
              " 'woo': 816,\n",
              " 'lame': 817,\n",
              " 'yup': 818,\n",
              " 'cos': 819,\n",
              " 'feet': 820,\n",
              " 'books': 821,\n",
              " 'wishes': 822,\n",
              " 'front': 823,\n",
              " 'hates': 824,\n",
              " 'xoxo': 825,\n",
              " 'packing': 826,\n",
              " 'sign': 827,\n",
              " 'keeps': 828,\n",
              " 'wednesday': 829,\n",
              " 'living': 830,\n",
              " 'ouch': 831,\n",
              " 'taken': 832,\n",
              " 'french': 833,\n",
              " 'case': 834,\n",
              " 'club': 835,\n",
              " 'goodbye': 836,\n",
              " 'near': 837,\n",
              " 'scary': 838,\n",
              " 'bro': 839,\n",
              " 'fact': 840,\n",
              " 'jus': 841,\n",
              " 'business': 842,\n",
              " 'question': 843,\n",
              " 'behind': 844,\n",
              " 'turned': 845,\n",
              " 'service': 846,\n",
              " 'order': 847,\n",
              " 'happens': 848,\n",
              " '2nd': 849,\n",
              " 'realized': 850,\n",
              " 'gettin': 851,\n",
              " 'drunk': 852,\n",
              " 'cup': 853,\n",
              " 'mothers': 854,\n",
              " 'isnt': 855,\n",
              " 'knows': 856,\n",
              " 'pass': 857,\n",
              " 'yo': 858,\n",
              " 'j': 859,\n",
              " 'share': 860,\n",
              " 'clothes': 861,\n",
              " 'sold': 862,\n",
              " 'relaxing': 863,\n",
              " 'everybody': 864,\n",
              " 'download': 865,\n",
              " 'whatever': 866,\n",
              " 'mail': 867,\n",
              " 'app': 868,\n",
              " 'sis': 869,\n",
              " 'waking': 870,\n",
              " 'vegas': 871,\n",
              " 'wife': 872,\n",
              " 'walking': 873,\n",
              " 'killing': 874,\n",
              " 'hahah': 875,\n",
              " 'minute': 876,\n",
              " 'random': 877,\n",
              " 'although': 878,\n",
              " 'touch': 879,\n",
              " 'box': 880,\n",
              " 'giving': 881,\n",
              " 'company': 882,\n",
              " 'lose': 883,\n",
              " 'alot': 884,\n",
              " 'revision': 885,\n",
              " 'self': 886,\n",
              " 'film': 887,\n",
              " 'along': 888,\n",
              " 'round': 889,\n",
              " 'fantastic': 890,\n",
              " 'terrible': 891,\n",
              " 'single': 892,\n",
              " 'guitar': 893,\n",
              " 'sit': 894,\n",
              " 'web': 895,\n",
              " 'videos': 896,\n",
              " 'enjoyed': 897,\n",
              " 'fly': 898,\n",
              " 'lakers': 899,\n",
              " 'posted': 900,\n",
              " 'asked': 901,\n",
              " 'comment': 902,\n",
              " 'interview': 903,\n",
              " 'light': 904,\n",
              " 'passed': 905,\n",
              " 'hangover': 906,\n",
              " 'bitch': 907,\n",
              " 'indeed': 908,\n",
              " 'singing': 909,\n",
              " 'hun': 910,\n",
              " 'ahead': 911,\n",
              " 'aint': 912,\n",
              " 'gosh': 913,\n",
              " 'version': 914,\n",
              " 'nights': 915,\n",
              " 'bummed': 916,\n",
              " 'mins': 917,\n",
              " 'eh': 918,\n",
              " 'huh': 919,\n",
              " 'history': 920,\n",
              " 'peace': 921,\n",
              " 'lately': 922,\n",
              " 'staying': 923,\n",
              " 'disappointed': 924,\n",
              " 'dark': 925,\n",
              " 'ohh': 926,\n",
              " 'daughter': 927,\n",
              " 'bar': 928,\n",
              " 'vip': 929,\n",
              " 'headed': 930,\n",
              " 'usually': 931,\n",
              " 'dying': 932,\n",
              " 'deal': 933,\n",
              " 'completely': 934,\n",
              " 'plane': 935,\n",
              " 'upload': 936,\n",
              " 'fml': 937,\n",
              " 'mommy': 938,\n",
              " 'quick': 939,\n",
              " 'fingers': 940,\n",
              " 'nobody': 941,\n",
              " 'country': 942,\n",
              " 'camp': 943,\n",
              " 'dvd': 944,\n",
              " 'death': 945,\n",
              " 'hold': 946,\n",
              " 'bloody': 947,\n",
              " 'freaking': 948,\n",
              " 'changed': 949,\n",
              " 'worried': 950,\n",
              " 'shoot': 951,\n",
              " 'hotel': 952,\n",
              " 'yum': 953,\n",
              " 'currently': 954,\n",
              " 'traffic': 955,\n",
              " 'nick': 956,\n",
              " 'fat': 957,\n",
              " 'somewhere': 958,\n",
              " 'wearing': 959,\n",
              " 'ran': 960,\n",
              " 'pink': 961,\n",
              " 'awful': 962,\n",
              " 'sexy': 963,\n",
              " 'cousin': 964,\n",
              " 'serious': 965,\n",
              " 'blood': 966,\n",
              " 'dunno': 967,\n",
              " 'bb': 968,\n",
              " 'extra': 969,\n",
              " '24': 970,\n",
              " 'low': 971,\n",
              " 'cook': 972,\n",
              " 'door': 973,\n",
              " 'coz': 974,\n",
              " 'sing': 975,\n",
              " 'art': 976,\n",
              " '50': 977,\n",
              " 'exhausted': 978,\n",
              " 'dang': 979,\n",
              " 'profile': 980,\n",
              " 'caught': 981,\n",
              " 'itunes': 982,\n",
              " 'cheese': 983,\n",
              " 'others': 984,\n",
              " 'ff': 985,\n",
              " 'pissed': 986,\n",
              " 'pc': 987,\n",
              " 'nearly': 988,\n",
              " 'men': 989,\n",
              " 'ooh': 990,\n",
              " 'watchin': 991,\n",
              " 'spending': 992,\n",
              " 'nyc': 993,\n",
              " 'tweetdeck': 994,\n",
              " 'blah': 995,\n",
              " 'chillin': 996,\n",
              " 'matter': 997,\n",
              " 'awwww': 998,\n",
              " 'nose': 999,\n",
              " 'hrs': 1000,\n",
              " ...}"
            ]
          },
          "metadata": {
            "tags": []
          },
          "execution_count": 79
        }
      ]
    },
    {
      "cell_type": "code",
      "metadata": {
        "id": "5mwfuCusX874",
        "colab_type": "code",
        "colab": {
          "base_uri": "https://localhost:8080/",
          "height": 70
        },
        "outputId": "bd155467-fb5a-4608-cbe6-11809161e6eb"
      },
      "source": [
        "w2v_model.save('word2VecwithSTOP.model')"
      ],
      "execution_count": null,
      "outputs": [
        {
          "output_type": "stream",
          "text": [
            "/usr/local/lib/python3.6/dist-packages/smart_open/smart_open_lib.py:254: UserWarning: This function is deprecated, use smart_open.open instead. See the migration notes for details: https://github.com/RaRe-Technologies/smart_open/blob/master/README.rst#migrating-to-the-new-open-function\n",
            "  'See the migration notes for details: %s' % _MIGRATION_NOTES_URL\n"
          ],
          "name": "stderr"
        }
      ]
    },
    {
      "cell_type": "markdown",
      "metadata": {
        "id": "oLSMSLTQaErh",
        "colab_type": "text"
      },
      "source": [
        "### creating Embedding layer from word2vec"
      ]
    },
    {
      "cell_type": "code",
      "metadata": {
        "id": "0aJPNawbYv8Q",
        "colab_type": "code",
        "colab": {}
      },
      "source": [
        "embedding_layer = Embedding(vocab_size, 300, weights=[embedding_matrix], input_length=SEQUENCE_LENGTH, trainable=False)"
      ],
      "execution_count": null,
      "outputs": []
    },
    {
      "cell_type": "code",
      "metadata": {
        "id": "adiEWZejbSIW",
        "colab_type": "code",
        "colab": {
          "base_uri": "https://localhost:8080/",
          "height": 286
        },
        "outputId": "2a068f9b-1cad-4f3f-da82-737309333426"
      },
      "source": [
        "model = Sequential()\n",
        "model.add(embedding_layer)\n",
        "model.add(LSTM(100))\n",
        "model.add(Dense(10, activation = \"relu\"))\n",
        "model.add(Dense(1, activation='sigmoid'))\n",
        "\n",
        "\n",
        "model.summary()"
      ],
      "execution_count": null,
      "outputs": [
        {
          "output_type": "stream",
          "text": [
            "Model: \"sequential_2\"\n",
            "_________________________________________________________________\n",
            "Layer (type)                 Output Shape              Param #   \n",
            "=================================================================\n",
            "embedding_2 (Embedding)      (None, 140, 300)          87125700  \n",
            "_________________________________________________________________\n",
            "lstm_2 (LSTM)                (None, 100)               160400    \n",
            "_________________________________________________________________\n",
            "dense_4 (Dense)              (None, 10)                1010      \n",
            "_________________________________________________________________\n",
            "dense_5 (Dense)              (None, 1)                 11        \n",
            "=================================================================\n",
            "Total params: 87,287,121\n",
            "Trainable params: 161,421\n",
            "Non-trainable params: 87,125,700\n",
            "_________________________________________________________________\n"
          ],
          "name": "stdout"
        }
      ]
    },
    {
      "cell_type": "code",
      "metadata": {
        "id": "aArmIfHcbbP-",
        "colab_type": "code",
        "colab": {}
      },
      "source": [
        "model.compile(loss='binary_crossentropy',\n",
        "              optimizer=\"adam\",\n",
        "              metrics=['accuracy'])"
      ],
      "execution_count": null,
      "outputs": []
    },
    {
      "cell_type": "code",
      "metadata": {
        "id": "FCSpHd-CbhjI",
        "colab_type": "code",
        "colab": {}
      },
      "source": [
        "callbacks = [ ReduceLROnPlateau(monitor='val_loss', patience=5, cooldown=0),\n",
        "              EarlyStopping(monitor='val_acc', min_delta=1e-4, patience=5)]"
      ],
      "execution_count": null,
      "outputs": []
    },
    {
      "cell_type": "code",
      "metadata": {
        "id": "YsBjRxWNboaX",
        "colab_type": "code",
        "colab": {
          "base_uri": "https://localhost:8080/",
          "height": 474
        },
        "outputId": "1b470a24-2de7-4097-8590-c1e6a3c20c4c"
      },
      "source": [
        "%%time\n",
        "history = model.fit(x_train, y_train,\n",
        "                    batch_size=BATCH_SIZE,\n",
        "                    epochs=EPOCHS,\n",
        "                    validation_split=0.1,\n",
        "                    verbose=1,\n",
        "                    callbacks=callbacks)"
      ],
      "execution_count": null,
      "outputs": [
        {
          "output_type": "stream",
          "text": [
            "Epoch 1/8\n",
            "1125/1125 [==============================] - ETA: 0s - loss: 0.4600 - accuracy: 0.7796WARNING:tensorflow:Early stopping conditioned on metric `val_acc` which is not available. Available metrics are: loss,accuracy,val_loss,val_accuracy,lr\n",
            "1125/1125 [==============================] - 101s 89ms/step - loss: 0.4600 - accuracy: 0.7796 - val_loss: 0.4454 - val_accuracy: 0.7900\n",
            "Epoch 2/8\n",
            "1125/1125 [==============================] - ETA: 0s - loss: 0.4399 - accuracy: 0.7923WARNING:tensorflow:Early stopping conditioned on metric `val_acc` which is not available. Available metrics are: loss,accuracy,val_loss,val_accuracy,lr\n",
            "1125/1125 [==============================] - 100s 89ms/step - loss: 0.4399 - accuracy: 0.7923 - val_loss: 0.4417 - val_accuracy: 0.7918\n",
            "Epoch 3/8\n",
            "1125/1125 [==============================] - ETA: 0s - loss: 0.4455 - accuracy: 0.7892WARNING:tensorflow:Early stopping conditioned on metric `val_acc` which is not available. Available metrics are: loss,accuracy,val_loss,val_accuracy,lr\n",
            "1125/1125 [==============================] - 100s 89ms/step - loss: 0.4455 - accuracy: 0.7892 - val_loss: 0.4462 - val_accuracy: 0.7905\n",
            "Epoch 4/8\n",
            "1125/1125 [==============================] - ETA: 0s - loss: 0.4247 - accuracy: 0.8012WARNING:tensorflow:Early stopping conditioned on metric `val_acc` which is not available. Available metrics are: loss,accuracy,val_loss,val_accuracy,lr\n",
            "1125/1125 [==============================] - 100s 89ms/step - loss: 0.4247 - accuracy: 0.8012 - val_loss: 0.4394 - val_accuracy: 0.7931\n",
            "Epoch 5/8\n",
            "1125/1125 [==============================] - ETA: 0s - loss: 0.4134 - accuracy: 0.8080WARNING:tensorflow:Early stopping conditioned on metric `val_acc` which is not available. Available metrics are: loss,accuracy,val_loss,val_accuracy,lr\n",
            "1125/1125 [==============================] - 101s 90ms/step - loss: 0.4134 - accuracy: 0.8080 - val_loss: 0.4373 - val_accuracy: 0.7944\n",
            "Epoch 6/8\n",
            "1125/1125 [==============================] - ETA: 0s - loss: 0.4051 - accuracy: 0.8125WARNING:tensorflow:Early stopping conditioned on metric `val_acc` which is not available. Available metrics are: loss,accuracy,val_loss,val_accuracy,lr\n",
            "1125/1125 [==============================] - 100s 89ms/step - loss: 0.4051 - accuracy: 0.8125 - val_loss: 0.4385 - val_accuracy: 0.7939\n",
            "Epoch 7/8\n",
            "1125/1125 [==============================] - ETA: 0s - loss: 0.3980 - accuracy: 0.8165WARNING:tensorflow:Early stopping conditioned on metric `val_acc` which is not available. Available metrics are: loss,accuracy,val_loss,val_accuracy,lr\n",
            "1125/1125 [==============================] - 101s 89ms/step - loss: 0.3980 - accuracy: 0.8165 - val_loss: 0.4421 - val_accuracy: 0.7932\n",
            "Epoch 8/8\n",
            "1125/1125 [==============================] - ETA: 0s - loss: 0.3911 - accuracy: 0.8203WARNING:tensorflow:Early stopping conditioned on metric `val_acc` which is not available. Available metrics are: loss,accuracy,val_loss,val_accuracy,lr\n",
            "1125/1125 [==============================] - 100s 89ms/step - loss: 0.3911 - accuracy: 0.8203 - val_loss: 0.4449 - val_accuracy: 0.7925\n",
            "CPU times: user 12min 18s, sys: 2min 10s, total: 14min 28s\n",
            "Wall time: 13min 26s\n"
          ],
          "name": "stdout"
        }
      ]
    },
    {
      "cell_type": "code",
      "metadata": {
        "id": "G4jGUgivmZAS",
        "colab_type": "code",
        "colab": {
          "base_uri": "https://localhost:8080/",
          "height": 440
        },
        "outputId": "4667226e-f938-48b0-d656-2317fbcd567d"
      },
      "source": [
        "history = model.fit(x_train, y_train,\n",
        "                    batch_size=BATCH_SIZE,\n",
        "                    epochs=EPOCHS,\n",
        "                    validation_split=0.1,\n",
        "                    verbose=1,\n",
        "                    callbacks=callbacks)"
      ],
      "execution_count": null,
      "outputs": [
        {
          "output_type": "stream",
          "text": [
            "Epoch 1/8\n",
            "1125/1125 [==============================] - ETA: 0s - loss: 0.3847 - accuracy: 0.8236WARNING:tensorflow:Early stopping conditioned on metric `val_acc` which is not available. Available metrics are: loss,accuracy,val_loss,val_accuracy,lr\n",
            "1125/1125 [==============================] - 100s 89ms/step - loss: 0.3847 - accuracy: 0.8236 - val_loss: 0.4488 - val_accuracy: 0.7911\n",
            "Epoch 2/8\n",
            "1125/1125 [==============================] - ETA: 0s - loss: 0.3785 - accuracy: 0.8270WARNING:tensorflow:Early stopping conditioned on metric `val_acc` which is not available. Available metrics are: loss,accuracy,val_loss,val_accuracy,lr\n",
            "1125/1125 [==============================] - 100s 89ms/step - loss: 0.3785 - accuracy: 0.8270 - val_loss: 0.4546 - val_accuracy: 0.7910\n",
            "Epoch 3/8\n",
            "1125/1125 [==============================] - ETA: 0s - loss: 0.3724 - accuracy: 0.8300WARNING:tensorflow:Early stopping conditioned on metric `val_acc` which is not available. Available metrics are: loss,accuracy,val_loss,val_accuracy,lr\n",
            "1125/1125 [==============================] - 100s 89ms/step - loss: 0.3724 - accuracy: 0.8300 - val_loss: 0.4561 - val_accuracy: 0.7893\n",
            "Epoch 4/8\n",
            "1125/1125 [==============================] - ETA: 0s - loss: 0.3667 - accuracy: 0.8332WARNING:tensorflow:Early stopping conditioned on metric `val_acc` which is not available. Available metrics are: loss,accuracy,val_loss,val_accuracy,lr\n",
            "1125/1125 [==============================] - 100s 89ms/step - loss: 0.3667 - accuracy: 0.8332 - val_loss: 0.4618 - val_accuracy: 0.7887\n",
            "Epoch 5/8\n",
            "1125/1125 [==============================] - ETA: 0s - loss: 0.3612 - accuracy: 0.8360WARNING:tensorflow:Early stopping conditioned on metric `val_acc` which is not available. Available metrics are: loss,accuracy,val_loss,val_accuracy,lr\n",
            "1125/1125 [==============================] - 99s 88ms/step - loss: 0.3612 - accuracy: 0.8360 - val_loss: 0.4671 - val_accuracy: 0.7870\n",
            "Epoch 6/8\n",
            "1125/1125 [==============================] - ETA: 0s - loss: 0.3560 - accuracy: 0.8390WARNING:tensorflow:Early stopping conditioned on metric `val_acc` which is not available. Available metrics are: loss,accuracy,val_loss,val_accuracy,lr\n",
            "1125/1125 [==============================] - 99s 88ms/step - loss: 0.3560 - accuracy: 0.8390 - val_loss: 0.4761 - val_accuracy: 0.7858\n",
            "Epoch 7/8\n",
            "1125/1125 [==============================] - ETA: 0s - loss: 0.3336 - accuracy: 0.8510WARNING:tensorflow:Early stopping conditioned on metric `val_acc` which is not available. Available metrics are: loss,accuracy,val_loss,val_accuracy,lr\n",
            "1125/1125 [==============================] - 99s 88ms/step - loss: 0.3336 - accuracy: 0.8510 - val_loss: 0.4837 - val_accuracy: 0.7861\n",
            "Epoch 8/8\n",
            "1125/1125 [==============================] - ETA: 0s - loss: 0.3290 - accuracy: 0.8536WARNING:tensorflow:Early stopping conditioned on metric `val_acc` which is not available. Available metrics are: loss,accuracy,val_loss,val_accuracy,lr\n",
            "1125/1125 [==============================] - 100s 89ms/step - loss: 0.3290 - accuracy: 0.8536 - val_loss: 0.4896 - val_accuracy: 0.7854\n"
          ],
          "name": "stdout"
        }
      ]
    },
    {
      "cell_type": "code",
      "metadata": {
        "id": "xtCaWVYLv9Oe",
        "colab_type": "code",
        "colab": {}
      },
      "source": [
        "model.save(\"baseword2vec8aug1\")"
      ],
      "execution_count": null,
      "outputs": []
    },
    {
      "cell_type": "code",
      "metadata": {
        "id": "INrcv5Leor7D",
        "colab_type": "code",
        "colab": {}
      },
      "source": [
        "    model1 = Sequential()\n",
        "    model1.add(embedding_layer)\n",
        "    model1.add(Bidirectional(LSTM(10, return_sequences = True)))\n",
        "    model1.add(Bidirectional(LSTM(10)))\n",
        "    model1.add(Dense((10)))\n",
        "    model1.add(Dense(1, activation = \"sigmoid\"))"
      ],
      "execution_count": null,
      "outputs": []
    },
    {
      "cell_type": "code",
      "metadata": {
        "id": "SZTBORZPo03p",
        "colab_type": "code",
        "colab": {}
      },
      "source": [
        "model1.compile(loss='binary_crossentropy',\n",
        "              optimizer=\"adam\",\n",
        "              metrics=['accuracy'])"
      ],
      "execution_count": null,
      "outputs": []
    },
    {
      "cell_type": "code",
      "metadata": {
        "id": "IkPRx0e0o9bd",
        "colab_type": "code",
        "colab": {
          "base_uri": "https://localhost:8080/",
          "height": 843
        },
        "outputId": "1bf0f402-52fa-4a1b-ab5b-9017e77accc4"
      },
      "source": [
        "history = model1.fit(x_train, y_train,\n",
        "                    batch_size=BATCH_SIZE,\n",
        "                    epochs=16,\n",
        "                    validation_split=0.1,\n",
        "                    verbose=1,\n",
        "                    callbacks=callbacks)"
      ],
      "execution_count": null,
      "outputs": [
        {
          "output_type": "stream",
          "text": [
            "Epoch 1/16\n",
            "1125/1125 [==============================] - ETA: 0s - loss: 0.4718 - accuracy: 0.7727WARNING:tensorflow:Early stopping conditioned on metric `val_acc` which is not available. Available metrics are: loss,accuracy,val_loss,val_accuracy,lr\n",
            "1125/1125 [==============================] - 131s 116ms/step - loss: 0.4718 - accuracy: 0.7727 - val_loss: 0.4547 - val_accuracy: 0.7839\n",
            "Epoch 2/16\n",
            "1125/1125 [==============================] - ETA: 0s - loss: 0.4476 - accuracy: 0.7876WARNING:tensorflow:Early stopping conditioned on metric `val_acc` which is not available. Available metrics are: loss,accuracy,val_loss,val_accuracy,lr\n",
            "1125/1125 [==============================] - 130s 116ms/step - loss: 0.4476 - accuracy: 0.7876 - val_loss: 0.4487 - val_accuracy: 0.7880\n",
            "Epoch 3/16\n",
            "1125/1125 [==============================] - ETA: 0s - loss: 0.4408 - accuracy: 0.7918WARNING:tensorflow:Early stopping conditioned on metric `val_acc` which is not available. Available metrics are: loss,accuracy,val_loss,val_accuracy,lr\n",
            "1125/1125 [==============================] - 129s 115ms/step - loss: 0.4408 - accuracy: 0.7918 - val_loss: 0.4458 - val_accuracy: 0.7895\n",
            "Epoch 4/16\n",
            "1125/1125 [==============================] - ETA: 0s - loss: 0.4366 - accuracy: 0.7946WARNING:tensorflow:Early stopping conditioned on metric `val_acc` which is not available. Available metrics are: loss,accuracy,val_loss,val_accuracy,lr\n",
            "1125/1125 [==============================] - 129s 115ms/step - loss: 0.4366 - accuracy: 0.7946 - val_loss: 0.4437 - val_accuracy: 0.7908\n",
            "Epoch 5/16\n",
            "1125/1125 [==============================] - ETA: 0s - loss: 0.4336 - accuracy: 0.7963WARNING:tensorflow:Early stopping conditioned on metric `val_acc` which is not available. Available metrics are: loss,accuracy,val_loss,val_accuracy,lr\n",
            "1125/1125 [==============================] - 129s 115ms/step - loss: 0.4336 - accuracy: 0.7963 - val_loss: 0.4427 - val_accuracy: 0.7919\n",
            "Epoch 6/16\n",
            "1125/1125 [==============================] - ETA: 0s - loss: 0.4313 - accuracy: 0.7975WARNING:tensorflow:Early stopping conditioned on metric `val_acc` which is not available. Available metrics are: loss,accuracy,val_loss,val_accuracy,lr\n",
            "1125/1125 [==============================] - 129s 115ms/step - loss: 0.4313 - accuracy: 0.7975 - val_loss: 0.4425 - val_accuracy: 0.7916\n",
            "Epoch 7/16\n",
            "1125/1125 [==============================] - ETA: 0s - loss: 0.4294 - accuracy: 0.7990WARNING:tensorflow:Early stopping conditioned on metric `val_acc` which is not available. Available metrics are: loss,accuracy,val_loss,val_accuracy,lr\n",
            "1125/1125 [==============================] - 129s 115ms/step - loss: 0.4294 - accuracy: 0.7990 - val_loss: 0.4417 - val_accuracy: 0.7922\n",
            "Epoch 8/16\n",
            "1125/1125 [==============================] - ETA: 0s - loss: 0.4279 - accuracy: 0.7997WARNING:tensorflow:Early stopping conditioned on metric `val_acc` which is not available. Available metrics are: loss,accuracy,val_loss,val_accuracy,lr\n",
            "1125/1125 [==============================] - 130s 115ms/step - loss: 0.4279 - accuracy: 0.7997 - val_loss: 0.4416 - val_accuracy: 0.7924\n",
            "Epoch 9/16\n",
            "1125/1125 [==============================] - ETA: 0s - loss: 0.4265 - accuracy: 0.8007WARNING:tensorflow:Early stopping conditioned on metric `val_acc` which is not available. Available metrics are: loss,accuracy,val_loss,val_accuracy,lr\n",
            "1125/1125 [==============================] - 130s 116ms/step - loss: 0.4265 - accuracy: 0.8007 - val_loss: 0.4420 - val_accuracy: 0.7928\n",
            "Epoch 10/16\n",
            "1125/1125 [==============================] - ETA: 0s - loss: 0.4254 - accuracy: 0.8011WARNING:tensorflow:Early stopping conditioned on metric `val_acc` which is not available. Available metrics are: loss,accuracy,val_loss,val_accuracy,lr\n",
            "1125/1125 [==============================] - 130s 116ms/step - loss: 0.4254 - accuracy: 0.8011 - val_loss: 0.4420 - val_accuracy: 0.7930\n",
            "Epoch 11/16\n",
            "1125/1125 [==============================] - ETA: 0s - loss: 0.4243 - accuracy: 0.8016WARNING:tensorflow:Early stopping conditioned on metric `val_acc` which is not available. Available metrics are: loss,accuracy,val_loss,val_accuracy,lr\n",
            "1125/1125 [==============================] - 130s 116ms/step - loss: 0.4243 - accuracy: 0.8016 - val_loss: 0.4420 - val_accuracy: 0.7929\n",
            "Epoch 12/16\n",
            "1125/1125 [==============================] - ETA: 0s - loss: 0.4234 - accuracy: 0.8023WARNING:tensorflow:Early stopping conditioned on metric `val_acc` which is not available. Available metrics are: loss,accuracy,val_loss,val_accuracy,lr\n",
            "1125/1125 [==============================] - 130s 116ms/step - loss: 0.4234 - accuracy: 0.8023 - val_loss: 0.4446 - val_accuracy: 0.7912\n",
            "Epoch 13/16\n",
            "1125/1125 [==============================] - ETA: 0s - loss: 0.4181 - accuracy: 0.8055WARNING:tensorflow:Early stopping conditioned on metric `val_acc` which is not available. Available metrics are: loss,accuracy,val_loss,val_accuracy,lr\n",
            "1125/1125 [==============================] - 131s 117ms/step - loss: 0.4181 - accuracy: 0.8055 - val_loss: 0.4415 - val_accuracy: 0.7925\n",
            "Epoch 14/16\n",
            "1125/1125 [==============================] - ETA: 0s - loss: 0.4173 - accuracy: 0.8059WARNING:tensorflow:Early stopping conditioned on metric `val_acc` which is not available. Available metrics are: loss,accuracy,val_loss,val_accuracy,lr\n",
            "1125/1125 [==============================] - 132s 117ms/step - loss: 0.4173 - accuracy: 0.8059 - val_loss: 0.4418 - val_accuracy: 0.7928\n",
            "Epoch 15/16\n",
            "1125/1125 [==============================] - ETA: 0s - loss: 0.4169 - accuracy: 0.8062WARNING:tensorflow:Early stopping conditioned on metric `val_acc` which is not available. Available metrics are: loss,accuracy,val_loss,val_accuracy,lr\n",
            "1125/1125 [==============================] - 132s 117ms/step - loss: 0.4169 - accuracy: 0.8062 - val_loss: 0.4418 - val_accuracy: 0.7925\n",
            "Epoch 16/16\n",
            "1125/1125 [==============================] - ETA: 0s - loss: 0.4167 - accuracy: 0.8062WARNING:tensorflow:Early stopping conditioned on metric `val_acc` which is not available. Available metrics are: loss,accuracy,val_loss,val_accuracy,lr\n",
            "1125/1125 [==============================] - 132s 117ms/step - loss: 0.4167 - accuracy: 0.8062 - val_loss: 0.4419 - val_accuracy: 0.7923\n"
          ],
          "name": "stdout"
        }
      ]
    },
    {
      "cell_type": "code",
      "metadata": {
        "id": "mFsGaWG1uMbC",
        "colab_type": "code",
        "colab": {
          "base_uri": "https://localhost:8080/",
          "height": 118
        },
        "outputId": "b0e3c45b-6e0b-48bf-8cfc-dda73d42ed49"
      },
      "source": [
        "%time\n",
        "score = model.evaluate(x_test, y_test, batch_size=BATCH_SIZE)\n",
        "print()\n",
        "print(\"ACCURACY:\",score[1])\n",
        "print(\"LOSS:\",score[0])"
      ],
      "execution_count": null,
      "outputs": [
        {
          "output_type": "stream",
          "text": [
            "CPU times: user 4 µs, sys: 0 ns, total: 4 µs\n",
            "Wall time: 7.87 µs\n",
            "320000/320000 [==============================] - 10s 32us/step\n",
            "\n",
            "ACCURACY: 0.7903562784194946\n",
            "LOSS: 0.44481917634010315\n"
          ],
          "name": "stdout"
        }
      ]
    },
    {
      "cell_type": "code",
      "metadata": {
        "id": "2iUUGHLIvAiz",
        "colab_type": "code",
        "colab": {
          "base_uri": "https://localhost:8080/",
          "height": 545
        },
        "outputId": "bb88e104-faee-47f3-eda4-914b242b47ac"
      },
      "source": [
        "acc = history.history['accuracy']\n",
        "val_acc = history.history['val_accuracy']\n",
        "loss = history.history['loss']\n",
        "val_loss = history.history['val_loss']\n",
        " \n",
        "epochs = range(len(acc))\n",
        " \n",
        "plt.plot(epochs, acc, 'b', label='Training acc')\n",
        "plt.plot(epochs, val_acc, 'r', label='Validation acc')\n",
        "plt.title('Training and validation accuracy')\n",
        "plt.legend()\n",
        " \n",
        "plt.figure()\n",
        " \n",
        "plt.plot(epochs, loss, 'b', label='Training loss')\n",
        "plt.plot(epochs, val_loss, 'r', label='Validation loss')\n",
        "plt.title('Training and validation loss')\n",
        "plt.legend()\n",
        " \n",
        "plt.show()\n"
      ],
      "execution_count": null,
      "outputs": [
        {
          "output_type": "display_data",
          "data": {
            "image/png": "[encoded data removed]",
            "text/plain": [
              "<Figure size 432x288 with 1 Axes>"
            ]
          },
          "metadata": {
            "tags": [],
            "needs_background": "light"
          }
        },
        {
          "output_type": "display_data",
          "data": {
            "image/png": "[encoded data removed]",
            "text/plain": [
              "<Figure size 432x288 with 1 Axes>"
            ]
          },
          "metadata": {
            "tags": [],
            "needs_background": "light"
          }
        }
      ]
    },
    {
      "cell_type": "code",
      "metadata": {
        "id": "1WeDncgUvV01",
        "colab_type": "code",
        "colab": {}
      },
      "source": [
        "def decode_sentiment(score, include_neutral=True):\n",
        "    if include_neutral:        \n",
        "        label = \"NEUTRAL\"\n",
        "        SENTIMENT_THRESHOLDS= [0.5,1.5]\n",
        "        if score <= SENTIMENT_THRESHOLDS[0]:\n",
        "            label = NEGATIVE\n",
        "        elif score >= SENTIMENT_THRESHOLDS[1]:\n",
        "            label = POSITIVE\n",
        "\n",
        "        return label\n",
        "    else:\n",
        "        return NEGATIVE if score < 0.5 else POSITIVE"
      ],
      "execution_count": null,
      "outputs": []
    },
    {
      "cell_type": "code",
      "metadata": {
        "id": "saHpJexjvdnK",
        "colab_type": "code",
        "colab": {}
      },
      "source": [
        "def predict(text, include_neutral=True):\n",
        "    start_at = time.time()\n",
        "    # Tokenize text\n",
        "    x_test = pad_sequences(tokenizer.texts_to_sequences([text]), maxlen=SEQUENCE_LENGTH)\n",
        "    # Predict\n",
        "    score = model.predict([x_test])[0]\n",
        "    # Decode sentiment\n",
        "    label = decode_sentiment(score, include_neutral=include_neutral)\n",
        "\n",
        "    return {\"label\": label, \"score\": float(score),\n",
        "       \"elapsed_time\": time.time()-start_at}  "
      ],
      "execution_count": null,
      "outputs": []
    },
    {
      "cell_type": "code",
      "metadata": {
        "id": "_nfD7kb8vYQ7",
        "colab_type": "code",
        "colab": {
          "base_uri": "https://localhost:8080/",
          "height": 67
        },
        "outputId": "5009e45c-dfc3-4403-e1ac-4599dc1f190b"
      },
      "source": [
        "predict(\"I love the music\")"
      ],
      "execution_count": null,
      "outputs": [
        {
          "output_type": "execute_result",
          "data": {
            "text/plain": [
              "{'elapsed_time': 0.16504907608032227,\n",
              " 'label': 'NEUTRAL',\n",
              " 'score': 0.9680590033531189}"
            ]
          },
          "metadata": {
            "tags": []
          },
          "execution_count": 60
        }
      ]
    },
    {
      "cell_type": "markdown",
      "metadata": {
        "id": "MzNjZe3SnXko",
        "colab_type": "text"
      },
      "source": [
        "### With trainable embedding layer"
      ]
    },
    {
      "cell_type": "code",
      "metadata": {
        "colab_type": "code",
        "id": "KCEJxT7FnKo8",
        "colab": {}
      },
      "source": [
        "embedding_layer2 = Embedding(vocab_size, 300, weights=[embedding_matrix], input_length=SEQUENCE_LENGTH, trainable=True)"
      ],
      "execution_count": null,
      "outputs": []
    },
    {
      "cell_type": "code",
      "metadata": {
        "colab_type": "code",
        "id": "BkPm3IPSnKo-",
        "colab": {
          "base_uri": "https://localhost:8080/",
          "height": 286
        },
        "outputId": "d35d3db8-b92d-48c6-c716-6d13570b6c6c"
      },
      "source": [
        "model2 = Sequential()\n",
        "model2.add(embedding_layer2)\n",
        "model2.add(Dropout(0.5))\n",
        "model2.add(LSTM(100, dropout=0.2, recurrent_dropout=0.2))\n",
        "model2.add(Dense(1, activation='sigmoid'))\n",
        "\n",
        "model2.summary()"
      ],
      "execution_count": null,
      "outputs": [
        {
          "output_type": "stream",
          "text": [
            "Model: \"sequential_3\"\n",
            "_________________________________________________________________\n",
            "Layer (type)                 Output Shape              Param #   \n",
            "=================================================================\n",
            "embedding_3 (Embedding)      (None, 140, 300)          87125700  \n",
            "_________________________________________________________________\n",
            "dropout_3 (Dropout)          (None, 140, 300)          0         \n",
            "_________________________________________________________________\n",
            "lstm_3 (LSTM)                (None, 100)               160400    \n",
            "_________________________________________________________________\n",
            "dense_3 (Dense)              (None, 1)                 101       \n",
            "=================================================================\n",
            "Total params: 87,286,201\n",
            "Trainable params: 87,286,201\n",
            "Non-trainable params: 0\n",
            "_________________________________________________________________\n"
          ],
          "name": "stdout"
        }
      ]
    },
    {
      "cell_type": "code",
      "metadata": {
        "colab_type": "code",
        "id": "TVpef-MfnKpA",
        "colab": {}
      },
      "source": [
        "model2.compile(loss='binary_crossentropy',\n",
        "              optimizer=\"adam\",\n",
        "              metrics=['accuracy'])"
      ],
      "execution_count": null,
      "outputs": []
    },
    {
      "cell_type": "code",
      "metadata": {
        "colab_type": "code",
        "id": "-X1SjuQ0nKpB",
        "colab": {}
      },
      "source": [
        "callbacks = [ ReduceLROnPlateau(monitor='val_loss', patience=5, cooldown=0),\n",
        "              EarlyStopping(monitor='val_acc', min_delta=1e-4, patience=5)]"
      ],
      "execution_count": null,
      "outputs": []
    },
    {
      "cell_type": "code",
      "metadata": {
        "colab_type": "code",
        "id": "oQhpfMAInKpE",
        "colab": {
          "base_uri": "https://localhost:8080/",
          "height": 423
        },
        "outputId": "e3ecc61d-4abf-4e17-e1d0-769f62f0f6e1"
      },
      "source": [
        "%%time\n",
        "history = model2.fit(x_train, y_train,\n",
        "                    batch_size=BATCH_SIZE,\n",
        "                    epochs=EPOCHS,\n",
        "                    validation_split=0.1,\n",
        "                    verbose=1,\n",
        "                    callbacks=callbacks)"
      ],
      "execution_count": null,
      "outputs": [
        {
          "output_type": "stream",
          "text": [
            "/usr/local/lib/python3.6/dist-packages/tensorflow/python/framework/indexed_slices.py:434: UserWarning: Converting sparse IndexedSlices to a dense Tensor of unknown shape. This may consume a large amount of memory.\n",
            "  \"Converting sparse IndexedSlices to a dense Tensor of unknown shape. \"\n"
          ],
          "name": "stderr"
        },
        {
          "output_type": "stream",
          "text": [
            "Train on 1152000 samples, validate on 128000 samples\n",
            "Epoch 1/8\n",
            "1152000/1152000 [==============================] - 347s 301us/step - loss: 0.4962 - accuracy: 0.7555 - val_loss: 0.4579 - val_accuracy: 0.7851\n",
            "Epoch 2/8\n"
          ],
          "name": "stdout"
        },
        {
          "output_type": "stream",
          "text": [
            "/usr/local/lib/python3.6/dist-packages/keras/callbacks/callbacks.py:846: RuntimeWarning: Early stopping conditioned on metric `val_acc` which is not available. Available metrics are: val_loss,val_accuracy,loss,accuracy,lr\n",
            "  (self.monitor, ','.join(list(logs.keys()))), RuntimeWarning\n"
          ],
          "name": "stderr"
        },
        {
          "output_type": "stream",
          "text": [
            "1152000/1152000 [==============================] - 343s 298us/step - loss: 0.4579 - accuracy: 0.7817 - val_loss: 0.4476 - val_accuracy: 0.7914\n",
            "Epoch 3/8\n",
            "1152000/1152000 [==============================] - 343s 298us/step - loss: 0.4337 - accuracy: 0.7973 - val_loss: 0.4461 - val_accuracy: 0.7935\n",
            "Epoch 4/8\n",
            "1152000/1152000 [==============================] - 343s 298us/step - loss: 0.4088 - accuracy: 0.8120 - val_loss: 0.4557 - val_accuracy: 0.7904\n",
            "Epoch 5/8\n",
            "1152000/1152000 [==============================] - 342s 297us/step - loss: 0.3903 - accuracy: 0.8213 - val_loss: 0.4686 - val_accuracy: 0.7886\n",
            "Epoch 6/8\n",
            "1152000/1152000 [==============================] - 343s 298us/step - loss: 0.3769 - accuracy: 0.8286 - val_loss: 0.4784 - val_accuracy: 0.7862\n",
            "Epoch 7/8\n",
            "1152000/1152000 [==============================] - 342s 297us/step - loss: 0.3672 - accuracy: 0.8332 - val_loss: 0.4854 - val_accuracy: 0.7855\n",
            "Epoch 8/8\n",
            "1152000/1152000 [==============================] - 342s 297us/step - loss: 0.3584 - accuracy: 0.8373 - val_loss: 0.4961 - val_accuracy: 0.7840\n",
            "CPU times: user 59min 32s, sys: 10min 20s, total: 1h 9min 53s\n",
            "Wall time: 45min 47s\n"
          ],
          "name": "stdout"
        }
      ]
    },
    {
      "cell_type": "code",
      "metadata": {
        "colab_type": "code",
        "id": "bn8ZDgWjnKpG",
        "colab": {}
      },
      "source": [
        "model2.save(\"baseword2vec_embedding_learnable\")"
      ],
      "execution_count": null,
      "outputs": []
    },
    {
      "cell_type": "code",
      "metadata": {
        "colab_type": "code",
        "id": "_VlgB9MInKpH",
        "colab": {
          "base_uri": "https://localhost:8080/",
          "height": 118
        },
        "outputId": "56d262f2-5cc9-4a05-94a1-0ae514c83f33"
      },
      "source": [
        "%time\n",
        "score = model2.evaluate(x_test, y_test, batch_size=BATCH_SIZE)\n",
        "print()\n",
        "print(\"ACCURACY:\",score[1])\n",
        "print(\"LOSS:\",score[0])"
      ],
      "execution_count": null,
      "outputs": [
        {
          "output_type": "stream",
          "text": [
            "CPU times: user 3 µs, sys: 0 ns, total: 3 µs\n",
            "Wall time: 8.11 µs\n",
            "320000/320000 [==============================] - 10s 32us/step\n",
            "\n",
            "ACCURACY: 0.785743772983551\n",
            "LOSS: 0.49356557998657224\n"
          ],
          "name": "stdout"
        }
      ]
    },
    {
      "cell_type": "code",
      "metadata": {
        "colab_type": "code",
        "id": "rtEOsdgtnKpI",
        "colab": {
          "base_uri": "https://localhost:8080/",
          "height": 545
        },
        "outputId": "9297d5d7-e7a6-4a36-854a-8db8bab51d3f"
      },
      "source": [
        "acc = history.history['accuracy']\n",
        "val_acc = history.history['val_accuracy']\n",
        "loss = history.history['loss']\n",
        "val_loss = history.history['val_loss']\n",
        " \n",
        "epochs = range(len(acc))\n",
        " \n",
        "plt.plot(epochs, acc, 'b', label='Training acc')\n",
        "plt.plot(epochs, val_acc, 'r', label='Validation acc')\n",
        "plt.title('Training and validation accuracy')\n",
        "plt.legend()\n",
        " \n",
        "plt.figure()\n",
        " \n",
        "plt.plot(epochs, loss, 'b', label='Training loss')\n",
        "plt.plot(epochs, val_loss, 'r', label='Validation loss')\n",
        "plt.title('Training and validation loss')\n",
        "plt.legend()\n",
        " \n",
        "plt.show()\n"
      ],
      "execution_count": null,
      "outputs": [
        {
          "output_type": "display_data",
          "data": {
            "image/png": "[encoded data removed]",
            "text/plain": [
              "<Figure size 432x288 with 1 Axes>"
            ]
          },
          "metadata": {
            "tags": [],
            "needs_background": "light"
          }
        },
        {
          "output_type": "display_data",
          "data": {
            "image/png": "[encoded data removed]",
            "text/plain": [
              "<Figure size 432x288 with 1 Axes>"
            ]
          },
          "metadata": {
            "tags": [],
            "needs_background": "light"
          }
        }
      ]
    },
    {
      "cell_type": "code",
      "metadata": {
        "colab_type": "code",
        "id": "r0P-txm1nKpK",
        "colab": {}
      },
      "source": [
        "def decode_sentiment(score, include_neutral=True):\n",
        "    if include_neutral:        \n",
        "        label = \"NEUTRAL\"\n",
        "        SENTIMENT_THRESHOLDS= [0.5,1.5]\n",
        "        if score <= SENTIMENT_THRESHOLDS[0]:\n",
        "            label = NEGATIVE\n",
        "        elif score >= SENTIMENT_THRESHOLDS[1]:\n",
        "            label = POSITIVE\n",
        "\n",
        "        return label\n",
        "    else:\n",
        "        return NEGATIVE if score < 0.5 else POSITIVE"
      ],
      "execution_count": null,
      "outputs": []
    },
    {
      "cell_type": "code",
      "metadata": {
        "colab_type": "code",
        "id": "Su0lhrcInKpL",
        "colab": {}
      },
      "source": [
        "def predict(text, include_neutral=True):\n",
        "    start_at = time.time()\n",
        "    # Tokenize text\n",
        "    x_test = pad_sequences(tokenizer.texts_to_sequences([text]), maxlen=SEQUENCE_LENGTH)\n",
        "    # Predict\n",
        "    score = model2.predict([x_test])[0]\n",
        "    # Decode sentiment\n",
        "    label = decode_sentiment(score, include_neutral=include_neutral)\n",
        "\n",
        "    return {\"label\": label, \"score\": float(score),\n",
        "       \"elapsed_time\": time.time()-start_at}  "
      ],
      "execution_count": null,
      "outputs": []
    },
    {
      "cell_type": "code",
      "metadata": {
        "colab_type": "code",
        "id": "xTB2aD59nKpN",
        "colab": {
          "base_uri": "https://localhost:8080/",
          "height": 67
        },
        "outputId": "4f28562f-f280-4acd-929a-848c4aaca501"
      },
      "source": [
        "predict(\"I love the music\")"
      ],
      "execution_count": null,
      "outputs": [
        {
          "output_type": "execute_result",
          "data": {
            "text/plain": [
              "{'elapsed_time': 0.1844191551208496,\n",
              " 'label': 'NEUTRAL',\n",
              " 'score': 0.9831187129020691}"
            ]
          },
          "metadata": {
            "tags": []
          },
          "execution_count": 76
        }
      ]
    }
  ]
}